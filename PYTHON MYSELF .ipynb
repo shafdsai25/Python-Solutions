{
 "cells": [
  {
   "cell_type": "code",
   "execution_count": 1,
   "id": "e21824d6",
   "metadata": {},
   "outputs": [
    {
     "name": "stdout",
     "output_type": "stream",
     "text": [
      "l\n"
     ]
    }
   ],
   "source": [
    "text = \"Hello, Welcome to the world of programming!\"\n",
    "\n",
    "# Find the index of 'e' in the word 'Hello'\n",
    "hello_e_index = text.find(\"Hello\") + \"Hello\".find(\"e\")\n",
    "\n",
    "# Find the index of 'e' in the word 'Welcome'\n",
    "welcome_e_index = text.find(\"Welcome\") + \"Welcome\".find(\"e\")\n",
    "\n",
    "# Add the indices of 'e' in 'Hello' and 'Welcome'\n",
    "index = hello_e_index + welcome_e_index\n",
    "\n",
    "# Find the character at the specified index\n",
    "character = text[index]\n",
    "\n",
    "print(character)"
   ]
  },
  {
   "cell_type": "code",
   "execution_count": 2,
   "id": "df37da31",
   "metadata": {},
   "outputs": [
    {
     "name": "stdout",
     "output_type": "stream",
     "text": [
      "1\n",
      "8\n",
      "1\n",
      "9\n",
      "l\n"
     ]
    }
   ],
   "source": [
    "hello_e_index = text.find(\"Hello\") + \"Hello\".find(\"e\")\n",
    "print(hello_e_index)\n",
    "welcome_e_index = text.find(\"Welcome\") + \"Welcome\".find(\"e\")\n",
    "print(welcome_e_index)\n",
    "hello_e_index = text.find(\"Hello\") + \"Hello\".find(\"e\")\n",
    "print(hello_e_index)\n",
    "index = hello_e_index + welcome_e_index\n",
    "print(index)\n",
    "character = text[index]\n",
    "print(character)"
   ]
  },
  {
   "cell_type": "code",
   "execution_count": 3,
   "id": "51c73f57",
   "metadata": {},
   "outputs": [
    {
     "name": "stdout",
     "output_type": "stream",
     "text": [
      "Enter a string: aeiud\n",
      "Number of vowels in the string: 4\n"
     ]
    }
   ],
   "source": [
    "vowels = \"aeiouAEIOU\"\n",
    "\n",
    "user_input = input(\"Enter a string: \")\n",
    "\n",
    "count = 0\n",
    "for char in user_input:\n",
    "    if char in vowels:\n",
    "        count += 1\n",
    "\n",
    "print(\"Number of vowels in the string:\", count)"
   ]
  },
  {
   "cell_type": "code",
   "execution_count": 4,
   "id": "8950ac18",
   "metadata": {},
   "outputs": [
    {
     "name": "stdout",
     "output_type": "stream",
     "text": [
      "Enter a year: 2012\n",
      "2012 is a leap year.\n"
     ]
    }
   ],
   "source": [
    "user_input = int(input(\"Enter a year: \"))\n",
    "\n",
    "if user_input % 4 == 0 and (user_input % 100 != 0 or user_input % 400 == 0):\n",
    "    print(user_input, \"is a leap year.\")\n",
    "else:\n",
    "    print(user_input, \"is not a leap year.\")"
   ]
  },
  {
   "cell_type": "code",
   "execution_count": 6,
   "id": "f6cc9c4c",
   "metadata": {},
   "outputs": [
    {
     "name": "stdout",
     "output_type": "stream",
     "text": [
      "153\n",
      "370\n",
      "371\n",
      "407\n"
     ]
    }
   ],
   "source": [
    "for num in range(100, 500):\n",
    "    temp = num #153\n",
    "    sum = 0\n",
    "    while temp > 0:\n",
    "        digit = temp % 10 #3 #5 #1\n",
    "        sum += digit ** 3 #27 #125 #1\n",
    "        temp //= 10 #15 #1 #0\n",
    "    if num == sum:\n",
    "        print(num)"
   ]
  },
  {
   "cell_type": "code",
   "execution_count": 7,
   "id": "b0d13084",
   "metadata": {},
   "outputs": [
    {
     "name": "stdout",
     "output_type": "stream",
     "text": [
      "Enter a string containing punctuation marks: hel0!@#$%$^&*(\n",
      "String after removing punctuation marks: hel0\n"
     ]
    }
   ],
   "source": [
    "import string\n",
    "\n",
    "user_input = input(\"Enter a string containing punctuation marks: \")\n",
    "\n",
    "punctuation_marks = string.punctuation\n",
    "\n",
    "output = \"\"\n",
    "for char in user_input:\n",
    "    if char not in punctuation_marks:\n",
    "        output += char\n",
    "\n",
    "print(\"String after removing punctuation marks:\", output)"
   ]
  },
  {
   "cell_type": "code",
   "execution_count": 8,
   "id": "de72beec",
   "metadata": {},
   "outputs": [
    {
     "name": "stdout",
     "output_type": "stream",
     "text": [
      "Enter the first number: 23\n",
      "Enter the second number: 45\n",
      "The first number is now: 45\n",
      "The second number is now: 23\n"
     ]
    }
   ],
   "source": [
    "num1 = int(input(\"Enter the first number: \"))\n",
    "num2 = int(input(\"Enter the second number: \"))\n",
    "\n",
    "num1, num2 = num2, num1\n",
    "\n",
    "print(\"The first number is now:\", num1)\n",
    "print(\"The second number is now:\", num2)"
   ]
  },
  {
   "cell_type": "code",
   "execution_count": 9,
   "id": "105145be",
   "metadata": {},
   "outputs": [
    {
     "name": "stdout",
     "output_type": "stream",
     "text": [
      "The product of 10 and 15 is 150\n"
     ]
    }
   ],
   "source": [
    "a = 10\n",
    "b = \"15\"\n",
    "\n",
    "product = a * int(b)\n",
    "\n",
    "print(\"The product of\", a, \"and\", b, \"is\", product)"
   ]
  },
  {
   "cell_type": "code",
   "execution_count": 10,
   "id": "3aacee43",
   "metadata": {},
   "outputs": [
    {
     "name": "stdout",
     "output_type": "stream",
     "text": [
      "Enter a number: 45\n",
      "45 is an odd number\n"
     ]
    }
   ],
   "source": [
    "num = int(input(\"Enter a number: \"))\n",
    "\n",
    "if num % 2 == 0:\n",
    "    print(num, \"is an even number\")\n",
    "else:\n",
    "    print(num, \"is an odd number\")"
   ]
  },
  {
   "cell_type": "code",
   "execution_count": 13,
   "id": "968bda81",
   "metadata": {},
   "outputs": [
    {
     "name": "stdout",
     "output_type": "stream",
     "text": [
      "Enter a number: 540\n",
      "540 is divisible by 9 and a multiple of 6\n"
     ]
    }
   ],
   "source": [
    "num = int(input(\"Enter a number: \"))\n",
    "\n",
    "if num % 9 == 0 and num % 6 == 0:\n",
    "    print(num, \"is divisible by 9 and a multiple of 6\")\n",
    "else:\n",
    "    print(num, \"is not divisible by 9 and a multiple of 6\")"
   ]
  },
  {
   "cell_type": "code",
   "execution_count": 15,
   "id": "826f6445",
   "metadata": {},
   "outputs": [
    {
     "name": "stdout",
     "output_type": "stream",
     "text": [
      "Enter a number: 1\n",
      "Enter a number: 3\n",
      "Enter a number: 4\n",
      "Enter a number: 5\n",
      "Enter a number: 6\n",
      "The average of the numbers is: 3.8\n"
     ]
    }
   ],
   "source": [
    "sum = 0\n",
    "count = 0\n",
    "\n",
    "while count < 5:\n",
    "    num = int(input(\"Enter a number: \"))\n",
    "    sum += num\n",
    "    count += 1\n",
    "\n",
    "average = sum / 5\n",
    "\n",
    "print(\"The average of the numbers is:\", average)"
   ]
  },
  {
   "cell_type": "code",
   "execution_count": 16,
   "id": "63ebfa00",
   "metadata": {},
   "outputs": [
    {
     "name": "stdout",
     "output_type": "stream",
     "text": [
      "Enter a number: 33\n",
      "Enter a number: 2\n",
      "Enter a number: 3\n",
      "Enter a number: 2\n",
      "Enter a number: 3\n",
      "The average of the numbers is: 8.6\n"
     ]
    }
   ],
   "source": [
    "sum = 0\n",
    "for i in range(5):\n",
    "    num = int(input(\"Enter a number: \"))\n",
    "    sum += num\n",
    "average = sum / 5\n",
    "print(\"The average of the numbers is:\", average)"
   ]
  },
  {
   "cell_type": "code",
   "execution_count": 21,
   "id": "711ec933",
   "metadata": {},
   "outputs": [
    {
     "name": "stdout",
     "output_type": "stream",
     "text": [
      "['Maria', 'Hello', 'World', 'Merry', 'You']\n"
     ]
    }
   ],
   "source": [
    "def fetch_uppercase_words(name_list):\n",
    "    uppercase_words = []\n",
    "    for name in name_list:\n",
    "        for word in name.split():\n",
    "            if word[0].isupper():\n",
    "                uppercase_words.append(word)\n",
    "    return uppercase_words\n",
    "\n",
    "names_list = ['santa Maria', 'Hello World','Merry christmas', 'tHank You']\n",
    "uppercase_words = fetch_uppercase_words(names_list)\n",
    "print(uppercase_words)"
   ]
  },
  {
   "cell_type": "code",
   "execution_count": 22,
   "id": "41714246",
   "metadata": {},
   "outputs": [
    {
     "name": "stdout",
     "output_type": "stream",
     "text": [
      "['Maria', 'Hello', 'World', 'Merry', 'You']\n"
     ]
    }
   ],
   "source": [
    "def fetch_uppercase_words(name_list):\n",
    "    return [word for name in name_list for word in name.split() if word[0].isupper()]\n",
    "\n",
    "names_list = ['santa Maria', 'Hello World','Merry christmas', 'tHank You']\n",
    "uppercase_words = fetch_uppercase_words(names_list)\n",
    "print(uppercase_words)"
   ]
  },
  {
   "cell_type": "code",
   "execution_count": 23,
   "id": "4f1bb65e",
   "metadata": {},
   "outputs": [
    {
     "name": "stdout",
     "output_type": "stream",
     "text": [
      "['2022', '2021', '2020', '2021']\n"
     ]
    }
   ],
   "source": [
    "def get_years(date_list):\n",
    "    years = []\n",
    "    for date in date_list:\n",
    "        year = date.split(\"-\")[-1]\n",
    "        years.append(year)\n",
    "    return years\n",
    "\n",
    "date_list = [\"15-01-2022\", \"25-12-2021\", \"01-11-2020\", \"31-03-2021\"]\n",
    "years = get_years(date_list)\n",
    "print(years)"
   ]
  },
  {
   "cell_type": "code",
   "execution_count": 24,
   "id": "359abcb8",
   "metadata": {},
   "outputs": [
    {
     "name": "stdout",
     "output_type": "stream",
     "text": [
      "{'John': '25', 'Mary': '22', 'Kevin': '29', 'Emily': '20', 'David': '27'}\n"
     ]
    }
   ],
   "source": [
    "def list_to_dict(candidate_list):\n",
    "    candidate_dict = {}\n",
    "    for candidate in candidate_list:\n",
    "        name, age = candidate.split(\" \")\n",
    "        candidate_dict[name] = age\n",
    "    return candidate_dict\n",
    "\n",
    "candidate_list = [\"John 25\", \"Mary 22\", \"Kevin 29\", \"Emily 20\", \"David 27\"]\n",
    "candidate_dict = list_to_dict(candidate_list)\n",
    "print(candidate_dict)"
   ]
  },
  {
   "cell_type": "code",
   "execution_count": 25,
   "id": "d392e1cd",
   "metadata": {},
   "outputs": [
    {
     "name": "stdout",
     "output_type": "stream",
     "text": [
      "{'John': '25', 'Mary': '22', 'Kevin': '29', 'Emily': '20', 'David': '27'}\n"
     ]
    }
   ],
   "source": [
    "def list_to_dict(candidate_list):\n",
    "    return {name:age for candidate in candidate_list for name,age in [candidate.split(\" \")]}\n",
    "\n",
    "candidate_list = [\"John 25\", \"Mary 22\", \"Kevin 29\", \"Emily 20\", \"David 27\"]\n",
    "candidate_dict = list_to_dict(candidate_list)\n",
    "print(candidate_dict)"
   ]
  },
  {
   "cell_type": "code",
   "execution_count": 26,
   "id": "16863f18",
   "metadata": {},
   "outputs": [
    {
     "name": "stdout",
     "output_type": "stream",
     "text": [
      "{'John': 26, 'Mary': 34, 'Steven': 13, 'Ronald': 24, 'Donald': 65}\n"
     ]
    }
   ],
   "source": [
    "lst = [26,'John',34,'Mary',13,'Steven',24,'Ronald',65,'Donald']\n",
    "\n",
    "d={}    # Creating an empty dictionary\n",
    "for i in range(0,len(lst),2):     # Iterating a loop such that value of i will be a difference of 2. i.e i = 0,2,4,6,8\n",
    "    d[lst[i+1]] = lst[i]      # lst[i] will give all the elements at indices 0,2,4,6,8. \n",
    "                              # lst[i+1] will give all the elements at indices 1,3,5,7,9.\n",
    "\n",
    "print(d)"
   ]
  },
  {
   "cell_type": "code",
   "execution_count": 27,
   "id": "1b71c000",
   "metadata": {},
   "outputs": [
    {
     "name": "stdout",
     "output_type": "stream",
     "text": [
      "God made man money mad\n"
     ]
    }
   ],
   "source": [
    "quote = \"God made man man made money money made man mad\"\n",
    "\n",
    "# Split the quote into words\n",
    "words = quote.split()\n",
    "\n",
    "# Create an empty list to store the unique words\n",
    "unique_words = []\n",
    "\n",
    "# Iterate through the words\n",
    "for word in words:\n",
    "    # Check if the word is not already in the unique_words list\n",
    "    if word not in unique_words:\n",
    "        # If not, add it to the list\n",
    "        unique_words.append(word)\n",
    "\n",
    "# Join the unique words with a space and print the result\n",
    "print(\" \".join(unique_words))"
   ]
  },
  {
   "cell_type": "code",
   "execution_count": 300,
   "id": "f618372f",
   "metadata": {},
   "outputs": [
    {
     "name": "stdout",
     "output_type": "stream",
     "text": [
      "['c', 'c++', 'java', 'python', 'r', 'scala']\n"
     ]
    }
   ],
   "source": [
    "# Function to sort the elements of a list according to the first letter, regardless of case\n",
    "def sort_list_by_first_letter(lst):\n",
    "    # Convert all elements of the list to lowercase\n",
    "    lst = [i.lower() for i in lst]\n",
    "    # Iterate through the list\n",
    "    for i in range(len(lst)):\n",
    "        for j in range(i, len(lst)):\n",
    "            # Compare the first letter of each element\n",
    "            if lst[i][0] > lst[j][0]:\n",
    "                # Swap the elements if the first letter of the first element is greater than the second element\n",
    "                lst[i], lst[j] = lst[j], lst[i]\n",
    "    return lst\n",
    "\n",
    "# Test the function\n",
    "list_to_sort =  ['python', 'R', 'Java', 'scala', 'C', 'C++']\n",
    "print(sort_list_by_first_letter(list_to_sort))"
   ]
  },
  {
   "cell_type": "code",
   "execution_count": 301,
   "id": "f2c21fb5",
   "metadata": {},
   "outputs": [
    {
     "name": "stdout",
     "output_type": "stream",
     "text": [
      "['C', 'C++', 'Java', 'python', 'R', 'scala']\n"
     ]
    }
   ],
   "source": [
    "languages = ['python', 'R', 'Java', 'scala', 'C', 'C++']\n",
    "s = ' '\n",
    "for i in range(len(languages)):      # Iterating through the list\n",
    "    for j in range(i+1, len(languages)):      # Iterating through the same list but with indices i+1\n",
    "        if(languages[i][0].lower() > languages[j][0].lower()):    # Comparing the first characters of the words at index i and i+1. \n",
    "            languages[i], languages[j] = languages[j], languages[i]     # Swapping the words position if the above condition is met.\n",
    "\n",
    "print(languages)"
   ]
  },
  {
   "cell_type": "code",
   "execution_count": 302,
   "id": "1fee711f",
   "metadata": {},
   "outputs": [
    {
     "name": "stdout",
     "output_type": "stream",
     "text": [
      "{22: 'Hello', 14: 'World', 10: 'Welcome', 3: 'Back'}\n"
     ]
    }
   ],
   "source": [
    "# Create a dictionary with 4 keys and values\n",
    "original_dict = {'Hello':22,'World':14, 'Welcome':10, 'Back':3}\n",
    "\n",
    "# Create an empty dictionary to store the swapped key-value pairs\n",
    "swapped_dict = {}\n",
    "\n",
    "# Iterate over the original dictionary\n",
    "for key, value in original_dict.items():\n",
    "    # Add the key-value pair to the new dictionary with the key and value swapped\n",
    "    swapped_dict[value] = key\n",
    "\n",
    "print(swapped_dict)"
   ]
  },
  {
   "cell_type": "code",
   "execution_count": 37,
   "id": "1ab5cc20",
   "metadata": {},
   "outputs": [
    {
     "name": "stdout",
     "output_type": "stream",
     "text": [
      "[[1, 3, 5, 7], [2, 4, 6, 8], [3, 5, 8, 9]]\n"
     ]
    }
   ],
   "source": [
    "matrix = [[1, 2, 3], [3, 4, 5], [5, 6, 8], [7, 8, 9]]\n",
    "\n",
    "transposed_matrix = [[row[i] for row in matrix] for i in range(len(matrix[0]))]\n",
    "\n",
    "print(transposed_matrix)"
   ]
  },
  {
   "cell_type": "code",
   "execution_count": 42,
   "id": "216ac470",
   "metadata": {},
   "outputs": [
    {
     "name": "stdout",
     "output_type": "stream",
     "text": [
      "Enter a number: 2\n",
      "Square of 2 is 4\n",
      "Cube of 2 is 8\n",
      "Squareroot of 2 is 1.4142135623730951\n",
      "Multiply by 3 of 2 is 6\n",
      "Sum of all functions is 19.414213562373096\n"
     ]
    }
   ],
   "source": [
    "functions = {\n",
    "    'Square': lambda x: x**2,\n",
    "    'Cube': lambda x: x**3,\n",
    "    'Squareroot': lambda x: x**(1/2),\n",
    "    'Multiply by 3': lambda x: x*3\n",
    "}\n",
    "\n",
    "input_value = int(input(\"Enter a number: \"))\n",
    "output_sum = 0\n",
    "\n",
    "for key, value in functions.items():\n",
    "    output = value(input_value)\n",
    "    output_sum += output\n",
    "    print(f\"{key} of {input_value} is {output}\")\n",
    "\n",
    "print(f\"Sum of all functions is {output_sum}\")"
   ]
  },
  {
   "cell_type": "code",
   "execution_count": 43,
   "id": "fc5d06bf",
   "metadata": {},
   "outputs": [
    {
     "data": {
      "text/plain": [
       "['php', 'aaa']"
      ]
     },
     "execution_count": 43,
     "metadata": {},
     "output_type": "execute_result"
    }
   ],
   "source": [
    "arr = [\"php\", \"w3r\", \"python\", \"aaa\", \"java\"]\n",
    "list( filter( lambda x: (x ==\"\".join( reversed(x))), arr))"
   ]
  },
  {
   "cell_type": "code",
   "execution_count": 47,
   "id": "5f0af8a2",
   "metadata": {},
   "outputs": [
    {
     "name": "stdout",
     "output_type": "stream",
     "text": [
      "4\n"
     ]
    }
   ],
   "source": [
    "import functools\n",
    "lists = [1,2,3,4]\n",
    "print(functools.reduce(lambda x,y : x if x > y else y ,lists))"
   ]
  },
  {
   "cell_type": "code",
   "execution_count": 48,
   "id": "19765126",
   "metadata": {},
   "outputs": [
    {
     "name": "stdout",
     "output_type": "stream",
     "text": [
      "[['a', 'b', 'c'], ['c', 'd', 'e'], ['d', 'e', 'f']]\n"
     ]
    }
   ],
   "source": [
    "sentence = \"abc cde def\"\n",
    "result = list(map(lambda x: list(x), sentence.split(\" \")))\n",
    "print(result)"
   ]
  },
  {
   "cell_type": "code",
   "execution_count": 49,
   "id": "edfacad3",
   "metadata": {},
   "outputs": [
    {
     "name": "stdout",
     "output_type": "stream",
     "text": [
      "[(1, 4, 7, 9, 6, 3), (2, 5, 8, 8, 5, 2), (3, 6, 9, 7, 4, 1)]\n"
     ]
    }
   ],
   "source": [
    "list1 = [[1,2,3],[4,5,6],[7,8,9]]\n",
    "list2 = [[9,8,7],[6,5,4],[3,2,1]]\n",
    "ls11,ls12,ls13=list1\n",
    "ls21,ls22,ls23=list2\n",
    "print(list(zip(ls11,ls12,ls13,ls21,ls22,ls23)))"
   ]
  },
  {
   "cell_type": "code",
   "execution_count": 50,
   "id": "e209a693",
   "metadata": {},
   "outputs": [
    {
     "name": "stdout",
     "output_type": "stream",
     "text": [
      "[]\n"
     ]
    }
   ],
   "source": [
    "array  = [1, 2, 3, 4, 5]\n",
    "def func1(x):\n",
    "    return x<0\n",
    "result=filter(func1, array)\n",
    "print(list(result))"
   ]
  },
  {
   "cell_type": "code",
   "execution_count": 68,
   "id": "6269b76b",
   "metadata": {},
   "outputs": [],
   "source": [
    "from functools import reduce \n",
    "integers = [4, 6, 3, 9, 2, 8, 12]\n",
    "names =['scaler', 'interviewbit','rishabh','student','course']\n",
    "numbers = [4,6,9,23,5]\n",
    "def func(integers, names, numbers):\n",
    "    '''\n",
    "    input:\n",
    "    integers -> list of integers to perform the square operation on\n",
    "    names -> list of names to filter out as per the condition\n",
    "    numbers -> list of numbers whose product we want\n",
    "    \n",
    "    output:\n",
    "    map_result -> output of integers list\n",
    "    filter_result -> output of the names lsit\n",
    "    reduce_result -> output of the numbers list\n",
    "    '''\n",
    "   \n",
    "    # Use map() to return the list of the squares of each number\n",
    "    squares = list(map(lambda x: x**2, integers))\n",
    "    # Use filter() to return the list with only those names that have less than or equal to seven letters\n",
    "    short_names = list(filter(lambda x: len(x) <= 7, names))\n",
    "    # Use reduce() to return the product of elements of list numbers\n",
    "    product = reduce(lambda x, y: x*y, numbers)\n",
    "    \n",
    "    return squares, short_names, product"
   ]
  },
  {
   "cell_type": "code",
   "execution_count": 69,
   "id": "6437c347",
   "metadata": {},
   "outputs": [
    {
     "name": "stdout",
     "output_type": "stream",
     "text": [
      "([16, 36, 9, 81, 4, 64, 144], ['scaler', 'rishabh', 'student', 'course'], 24840)\n"
     ]
    }
   ],
   "source": [
    "result = func(integers, names, numbers)\n",
    "print(result)"
   ]
  },
  {
   "cell_type": "code",
   "execution_count": 70,
   "id": "c4ae2b84",
   "metadata": {},
   "outputs": [
    {
     "name": "stdout",
     "output_type": "stream",
     "text": [
      "[16, 36, 9, 81, 4, 64, 144]\n",
      "['scaler', 'rishabh', 'student', 'course']\n",
      "24840\n"
     ]
    }
   ],
   "source": [
    "squares, short_names, product = func(integers, names, numbers)\n",
    "print(squares)\n",
    "print(short_names)\n",
    "print(product)"
   ]
  },
  {
   "cell_type": "code",
   "execution_count": 72,
   "id": "58392249",
   "metadata": {},
   "outputs": [
    {
     "name": "stdout",
     "output_type": "stream",
     "text": [
      "12\n"
     ]
    }
   ],
   "source": [
    "from functools import reduce\n",
    "numbers = [4, 6, 3, 9, 2, 8, 12]\n",
    "result = reduce(lambda x, y: x if x > y else y, numbers)\n",
    "print(result)  # Output: 12"
   ]
  },
  {
   "cell_type": "code",
   "execution_count": 73,
   "id": "aa804453",
   "metadata": {},
   "outputs": [
    {
     "name": "stdout",
     "output_type": "stream",
     "text": [
      "44\n"
     ]
    }
   ],
   "source": [
    "from functools import reduce\n",
    "numbers = [4, 6, 3, 9, 2, 8, 12]\n",
    "result = reduce(lambda x, y: x + y, numbers)\n",
    "print(result)  # Output: 42"
   ]
  },
  {
   "cell_type": "code",
   "execution_count": 74,
   "id": "3218c74f",
   "metadata": {},
   "outputs": [
    {
     "name": "stdout",
     "output_type": "stream",
     "text": [
      "Hello world !\n"
     ]
    }
   ],
   "source": [
    "from functools import reduce\n",
    "words = [\"Hello\", \"world\", \"!\"]\n",
    "result = reduce(lambda x, y: x + \" \" + y, words)\n",
    "print(result)  # Output: \"Hello world !\""
   ]
  },
  {
   "cell_type": "code",
   "execution_count": 75,
   "id": "2172d112",
   "metadata": {},
   "outputs": [
    {
     "name": "stdout",
     "output_type": "stream",
     "text": [
      "3\n"
     ]
    }
   ],
   "source": [
    "from functools import reduce\n",
    "numbers = [4, 6, 3, 9, 4, 8, 12, 4]\n",
    "result = reduce(lambda x, y: x + 1 if y == 4 else x, numbers, 0)\n",
    "print(result)  # Output: 3"
   ]
  },
  {
   "cell_type": "code",
   "execution_count": 76,
   "id": "5d829dc3",
   "metadata": {},
   "outputs": [
    {
     "name": "stdout",
     "output_type": "stream",
     "text": [
      "[4, 6, 2, 8, 12]\n"
     ]
    }
   ],
   "source": [
    "numbers = [4, 6, 3, 9, 2, 8, 12]\n",
    "result = list(filter(lambda x: x % 2 == 0, numbers))\n",
    "print(result)  # Output: [4, 6, 2, 8, 12]"
   ]
  },
  {
   "cell_type": "code",
   "execution_count": 77,
   "id": "79bb5a44",
   "metadata": {},
   "outputs": [
    {
     "name": "stdout",
     "output_type": "stream",
     "text": [
      "['Sophie', 'Michael']\n"
     ]
    }
   ],
   "source": [
    "names = [\"John\", \"Bob\", \"Sophie\", \"Emily\", \"Michael\"]\n",
    "result = list(filter(lambda x: len(x) > 5, names))\n",
    "print(result)  # Output: [\"Sophie\", \"Emily\", \"Michael\"]"
   ]
  },
  {
   "cell_type": "code",
   "execution_count": 78,
   "id": "e9d03d73",
   "metadata": {},
   "outputs": [
    {
     "name": "stdout",
     "output_type": "stream",
     "text": [
      "['apple']\n"
     ]
    }
   ],
   "source": [
    "words = [\"Hello\", \"world\", \"apple\", \"banana\", \"cat\"]\n",
    "result = list(filter(lambda x: x.startswith(\"a\"), words))\n",
    "print(result)  # Output: [\"apple\"]"
   ]
  },
  {
   "cell_type": "code",
   "execution_count": 79,
   "id": "0c06dbba",
   "metadata": {},
   "outputs": [
    {
     "name": "stdout",
     "output_type": "stream",
     "text": [
      "[{'name': 'Sophie', 'age': 35}]\n"
     ]
    }
   ],
   "source": [
    "data = [{\"name\": \"John\", \"age\": 30}, {\"name\": \"Bob\", \"age\": 25}, {\"name\": \"Sophie\", \"age\": 35}]\n",
    "result = list(filter(lambda x: x[\"age\"] > 30, data))\n",
    "print(result)  # Output: [{\"name\": \"Sophie\", \"age\": 35}]"
   ]
  },
  {
   "cell_type": "code",
   "execution_count": 80,
   "id": "41dd17ca",
   "metadata": {},
   "outputs": [
    {
     "name": "stdout",
     "output_type": "stream",
     "text": [
      "[2, 0, 4, 9]\n"
     ]
    }
   ],
   "source": [
    "numbers = [-5, 2, -8, 0, 4, -3, 9]\n",
    "result = list(filter(lambda x: x >= 0, numbers))\n",
    "print(result)  # Output: [2, 0, 4, 9]"
   ]
  },
  {
   "cell_type": "code",
   "execution_count": 308,
   "id": "5b1244db",
   "metadata": {},
   "outputs": [
    {
     "name": "stdout",
     "output_type": "stream",
     "text": [
      "['Apple', 'Banana', 'cat']\n"
     ]
    }
   ],
   "source": [
    "words = [\"Hello\", \"world\", \"Apple\", \"Banana\", \"cat\"]\n",
    "result = list(filter(lambda x: 'a' in x.lower(), words))\n",
    "print(result)  # Output: [\"world\", \"Apple\", \"Banana\"]"
   ]
  },
  {
   "cell_type": "code",
   "execution_count": 82,
   "id": "d8ef6f89",
   "metadata": {},
   "outputs": [
    {
     "name": "stdout",
     "output_type": "stream",
     "text": [
      "[{'name': 'John', 'age': 30, 'gender': 'male'}, {'name': 'Bob', 'age': 25, 'gender': 'male'}]\n"
     ]
    }
   ],
   "source": [
    "data = [{\"name\": \"John\", \"age\": 30, \"gender\":\"male\"}, \n",
    "        {\"name\": \"Bob\", \"age\": 25, \"gender\":\"male\"}, \n",
    "        {\"name\": \"Sophie\", \"age\": 35, \"gender\":\"female\"}]\n",
    "result = list(filter(lambda x: x[\"gender\"] == \"male\", data))\n",
    "print(result)  # Output: [{\"name\": \"John\", \"age\": 30, \"gender\":\"male\"}, {\"name\": \"Bob\", \"age\": 25, \"gender\":\"male\"}]"
   ]
  },
  {
   "cell_type": "code",
   "execution_count": 83,
   "id": "4ab6c7a7",
   "metadata": {},
   "outputs": [
    {
     "name": "stdout",
     "output_type": "stream",
     "text": [
      "[(4, 5, 6), (10, 11, 12)]\n"
     ]
    }
   ],
   "source": [
    "data = [(1,2,3), (4,5,6), (7,8,9), (10,11,12)]\n",
    "result = list(filter(lambda x: x[0]%2 == 0, data))\n",
    "print(result)  # Output: [(4,5,6), (10,11,12)]"
   ]
  },
  {
   "cell_type": "code",
   "execution_count": 85,
   "id": "47006b33",
   "metadata": {},
   "outputs": [
    {
     "name": "stdout",
     "output_type": "stream",
     "text": [
      "25\n"
     ]
    }
   ],
   "source": [
    "square = lambda x: x**2\n",
    "print(square(5))  # Output: 25"
   ]
  },
  {
   "cell_type": "code",
   "execution_count": 86,
   "id": "ab86d9bc",
   "metadata": {},
   "outputs": [
    {
     "name": "stdout",
     "output_type": "stream",
     "text": [
      "Helloworld\n"
     ]
    }
   ],
   "source": [
    "concat = lambda x, y: x + y\n",
    "print(concat(\"Hello\", \"world\"))  # Output: \"Helloworld\""
   ]
  },
  {
   "cell_type": "code",
   "execution_count": 87,
   "id": "b3074b6b",
   "metadata": {},
   "outputs": [
    {
     "name": "stdout",
     "output_type": "stream",
     "text": [
      "10\n"
     ]
    }
   ],
   "source": [
    "greater = lambda x, y: x if x > y else y\n",
    "print(greater(5, 10))  # Output: 10"
   ]
  },
  {
   "cell_type": "code",
   "execution_count": 88,
   "id": "3bd140ff",
   "metadata": {},
   "outputs": [
    {
     "name": "stdout",
     "output_type": "stream",
     "text": [
      "12\n"
     ]
    }
   ],
   "source": [
    "length = lambda x: len(x)\n",
    "print(length(\"Hello world!\"))  # Output: 12"
   ]
  },
  {
   "cell_type": "code",
   "execution_count": 89,
   "id": "2c122878",
   "metadata": {},
   "outputs": [
    {
     "name": "stdout",
     "output_type": "stream",
     "text": [
      "True\n"
     ]
    }
   ],
   "source": [
    "is_even = lambda x: x % 2 == 0\n",
    "print(is_even(4))  # Output: True"
   ]
  },
  {
   "cell_type": "code",
   "execution_count": 90,
   "id": "46f643b9",
   "metadata": {},
   "outputs": [
    {
     "name": "stdout",
     "output_type": "stream",
     "text": [
      "HELLO WORLD\n"
     ]
    }
   ],
   "source": [
    "to_upper = lambda x: x.upper()\n",
    "print(to_upper(\"hello world\"))  # Output: \"HELLO WORLD\""
   ]
  },
  {
   "cell_type": "code",
   "execution_count": 91,
   "id": "cfd047fe",
   "metadata": {},
   "outputs": [
    {
     "name": "stdout",
     "output_type": "stream",
     "text": [
      "John\n"
     ]
    }
   ],
   "source": [
    "get_value = lambda x, key: x[key]\n",
    "data = {\"name\": \"John\", \"age\": 30}\n",
    "print(get_value(data, \"name\")) # Output: \"John\""
   ]
  },
  {
   "cell_type": "code",
   "execution_count": 92,
   "id": "4ea5a733",
   "metadata": {},
   "outputs": [
    {
     "name": "stdout",
     "output_type": "stream",
     "text": [
      "10\n"
     ]
    }
   ],
   "source": [
    "double = lambda x: x*2\n",
    "print(double(5))  # Output: 10"
   ]
  },
  {
   "cell_type": "code",
   "execution_count": 93,
   "id": "c4d4e0c6",
   "metadata": {},
   "outputs": [
    {
     "name": "stdout",
     "output_type": "stream",
     "text": [
      "5.0\n"
     ]
    }
   ],
   "source": [
    "half = lambda x: x/2\n",
    "print(half(10))  # Output: 5.0"
   ]
  },
  {
   "cell_type": "code",
   "execution_count": 94,
   "id": "1fe13d74",
   "metadata": {},
   "outputs": [
    {
     "name": "stdout",
     "output_type": "stream",
     "text": [
      "5\n"
     ]
    }
   ],
   "source": [
    "absolute = lambda x: abs(x)\n",
    "print(absolute(-5))  # Output: 5"
   ]
  },
  {
   "cell_type": "code",
   "execution_count": 95,
   "id": "2712c8eb",
   "metadata": {},
   "outputs": [
    {
     "name": "stdout",
     "output_type": "stream",
     "text": [
      "H\n"
     ]
    }
   ],
   "source": [
    "first_letter = lambda x: x[0]\n",
    "print(first_letter(\"Hello\"))  # Output: \"H\""
   ]
  },
  {
   "cell_type": "code",
   "execution_count": 97,
   "id": "99eaae58",
   "metadata": {},
   "outputs": [
    {
     "name": "stdout",
     "output_type": "stream",
     "text": [
      "4.0\n"
     ]
    }
   ],
   "source": [
    "import math\n",
    "square_root = lambda x : math.sqrt(x)\n",
    "print(square_root(16)) # Output: 4.0"
   ]
  },
  {
   "cell_type": "code",
   "execution_count": 98,
   "id": "44cb70fb",
   "metadata": {},
   "outputs": [
    {
     "name": "stdout",
     "output_type": "stream",
     "text": [
      "5\n"
     ]
    }
   ],
   "source": [
    "last_element = lambda x: x[-1]\n",
    "print(last_element([1,2,3,4,5]))  # Output: 5"
   ]
  },
  {
   "cell_type": "code",
   "execution_count": 101,
   "id": "bca0e537",
   "metadata": {},
   "outputs": [
    {
     "name": "stdout",
     "output_type": "stream",
     "text": [
      "55\n"
     ]
    }
   ],
   "source": [
    "def fibonacci(n):\n",
    "    if n == 0:\n",
    "        return 0\n",
    "    elif n == 1:\n",
    "        return 1\n",
    "    else:\n",
    "        return fibonacci(n-1) + fibonacci(n-2)\n",
    "\n",
    "print(fibonacci(10)) # Output: 55"
   ]
  },
  {
   "cell_type": "code",
   "execution_count": 102,
   "id": "713724e0",
   "metadata": {},
   "outputs": [
    {
     "name": "stdout",
     "output_type": "stream",
     "text": [
      "True\n",
      "False\n"
     ]
    }
   ],
   "source": [
    "def is_palindrome(s):\n",
    "    return s == s[::-1]\n",
    "\n",
    "print(is_palindrome(\"racecar\")) # Output: True\n",
    "print(is_palindrome(\"hello\")) # Output: False"
   ]
  },
  {
   "cell_type": "code",
   "execution_count": 103,
   "id": "a1f4bc74",
   "metadata": {},
   "outputs": [
    {
     "name": "stdout",
     "output_type": "stream",
     "text": [
      "olleh\n"
     ]
    }
   ],
   "source": [
    "def reverse_string(s):\n",
    "    return s[::-1]\n",
    "\n",
    "print(reverse_string(\"hello\")) # Output: \"olleh\""
   ]
  },
  {
   "cell_type": "code",
   "execution_count": 104,
   "id": "63d5af50",
   "metadata": {},
   "outputs": [
    {
     "name": "stdout",
     "output_type": "stream",
     "text": [
      "55\n"
     ]
    }
   ],
   "source": [
    "def fibonacci(n):\n",
    "    a, b = 0, 1\n",
    "    for i in range(n):\n",
    "        a, b = b, a + b\n",
    "    return a\n",
    "\n",
    "print(fibonacci(10)) # Output: 55"
   ]
  },
  {
   "cell_type": "code",
   "execution_count": 105,
   "id": "4ac77c98",
   "metadata": {},
   "outputs": [
    {
     "name": "stdout",
     "output_type": "stream",
     "text": [
      "55\n"
     ]
    }
   ],
   "source": [
    "def fibonacci(n):\n",
    "    a, b = 0, 1\n",
    "    i = 0\n",
    "    while i < n:\n",
    "        a, b = b, a + b\n",
    "        i += 1\n",
    "    return a\n",
    "\n",
    "print(fibonacci(10)) # Output: 55"
   ]
  },
  {
   "cell_type": "code",
   "execution_count": 106,
   "id": "e3a3383b",
   "metadata": {},
   "outputs": [
    {
     "name": "stdout",
     "output_type": "stream",
     "text": [
      "10\n"
     ]
    }
   ],
   "source": [
    "def sum_of_digits(n):\n",
    "    total = 0\n",
    "    for char in str(n):\n",
    "        total += int(char)\n",
    "    return total\n",
    "\n",
    "print(sum_of_digits(1234)) # Output: 10 (1 + 2 + 3 + 4)"
   ]
  },
  {
   "cell_type": "code",
   "execution_count": 107,
   "id": "1e5c6055",
   "metadata": {},
   "outputs": [
    {
     "name": "stdout",
     "output_type": "stream",
     "text": [
      "10\n"
     ]
    }
   ],
   "source": [
    "def sum_of_digits(n):\n",
    "    total = 0\n",
    "    while n > 0:\n",
    "        total += n % 10\n",
    "        n = n // 10\n",
    "    return total\n",
    "\n",
    "print(sum_of_digits(1234)) # Output: 10 (1 + 2 + 3 + 4)"
   ]
  },
  {
   "cell_type": "code",
   "execution_count": 108,
   "id": "eff175ed",
   "metadata": {},
   "outputs": [
    {
     "name": "stdout",
     "output_type": "stream",
     "text": [
      "10\n"
     ]
    }
   ],
   "source": [
    "def sum_of_digits(n):\n",
    "    if n == 0:\n",
    "        return 0\n",
    "    else:\n",
    "        return (n % 10) + sum_of_digits(n // 10)\n",
    "\n",
    "print(sum_of_digits(1234)) # Output: 10 (1 + 2 + 3 + 4)"
   ]
  },
  {
   "cell_type": "code",
   "execution_count": 309,
   "id": "cb372ac0",
   "metadata": {},
   "outputs": [
    {
     "name": "stdout",
     "output_type": "stream",
     "text": [
      "1\n",
      "2\n",
      "3\n",
      "4\n",
      "5\n"
     ]
    }
   ],
   "source": [
    "numbers = [1, 2, 3, 4, 5]\n",
    "for num in numbers:\n",
    "    print(num)\n"
   ]
  },
  {
   "cell_type": "code",
   "execution_count": 310,
   "id": "5ab2dd83",
   "metadata": {},
   "outputs": [
    {
     "name": "stdout",
     "output_type": "stream",
     "text": [
      "1\n",
      "2\n",
      "3\n",
      "4\n",
      "5\n"
     ]
    }
   ],
   "source": [
    "i = 1\n",
    "while i <= 5:\n",
    "    print(i)\n",
    "    i += 1\n"
   ]
  },
  {
   "cell_type": "code",
   "execution_count": 311,
   "id": "ee8091e8",
   "metadata": {},
   "outputs": [
    {
     "name": "stdout",
     "output_type": "stream",
     "text": [
      "Enter a number: 2\n",
      "You entered: 2\n",
      "Enter a number: 3\n",
      "You entered: 3\n",
      "Enter a number: 4\n",
      "You entered: 4\n",
      "Enter a number: q\n"
     ]
    }
   ],
   "source": [
    "while True:\n",
    "    user_input = input(\"Enter a number: \")\n",
    "    if user_input == \"q\":\n",
    "        break\n",
    "    else:\n",
    "        number = int(user_input)\n",
    "        print(\"You entered:\", number)\n"
   ]
  },
  {
   "cell_type": "code",
   "execution_count": 312,
   "id": "d5ea57ac",
   "metadata": {},
   "outputs": [
    {
     "name": "stdout",
     "output_type": "stream",
     "text": [
      "The length of 'cat' is 3.\n",
      "The length of 'dog' is 3.\n",
      "The length of 'bird' is 4.\n"
     ]
    }
   ],
   "source": [
    "words = [\"cat\", \"dog\", \"bird\"]\n",
    "for word in words:\n",
    "    print(\"The length of '{}' is {}.\".format(word, len(word)))"
   ]
  },
  {
   "cell_type": "code",
   "execution_count": 313,
   "id": "cdaa22eb",
   "metadata": {},
   "outputs": [
    {
     "name": "stdout",
     "output_type": "stream",
     "text": [
      "The average price is: 4.7725\n"
     ]
    }
   ],
   "source": [
    "prices = [1.23, 6.98, 8.43, 2.45]\n",
    "total = 0\n",
    "for price in prices:\n",
    "    total += price\n",
    "average = total / len(prices)\n",
    "print(\"The average price is:\", average)"
   ]
  },
  {
   "cell_type": "code",
   "execution_count": 314,
   "id": "82536295",
   "metadata": {},
   "outputs": [
    {
     "name": "stdout",
     "output_type": "stream",
     "text": [
      "10\n",
      "9\n",
      "8\n",
      "7\n",
      "6\n",
      "5\n",
      "4\n",
      "3\n",
      "2\n",
      "1\n",
      "0\n",
      "blastoff!\n"
     ]
    }
   ],
   "source": [
    "n = 10\n",
    "while n >= 0:\n",
    "    print(n)\n",
    "    n -= 1\n",
    "print(\"blastoff!\")"
   ]
  },
  {
   "cell_type": "code",
   "execution_count": 315,
   "id": "58bb227f",
   "metadata": {},
   "outputs": [
    {
     "name": "stdout",
     "output_type": "stream",
     "text": [
      "The factorial of 5 is: 120\n"
     ]
    }
   ],
   "source": [
    "n = 5\n",
    "result = 1\n",
    "while n > 0:\n",
    "    result *= n\n",
    "    n -= 1\n",
    "print(\"The factorial of 5 is:\", result)"
   ]
  },
  {
   "cell_type": "code",
   "execution_count": 316,
   "id": "6470b164",
   "metadata": {},
   "outputs": [
    {
     "name": "stdout",
     "output_type": "stream",
     "text": [
      "1\n",
      "4\n",
      "9\n",
      "16\n",
      "25\n",
      "36\n",
      "49\n",
      "64\n",
      "81\n",
      "100\n"
     ]
    }
   ],
   "source": [
    "for i in range(1, 11):\n",
    "    print(i**2)\n"
   ]
  },
  {
   "cell_type": "code",
   "execution_count": 317,
   "id": "167373db",
   "metadata": {},
   "outputs": [
    {
     "name": "stdout",
     "output_type": "stream",
     "text": [
      "0 apple\n",
      "1 banana\n",
      "2 cherry\n"
     ]
    }
   ],
   "source": [
    "fruits = [\"apple\", \"banana\", \"cherry\"]\n",
    "for index, fruit in enumerate(fruits):\n",
    "    print(index, fruit)\n"
   ]
  },
  {
   "cell_type": "code",
   "execution_count": 318,
   "id": "a49dcf2a",
   "metadata": {},
   "outputs": [
    {
     "name": "stdout",
     "output_type": "stream",
     "text": [
      "3 is in the list.\n"
     ]
    }
   ],
   "source": [
    "found = False\n",
    "numbers = [1, 2, 3, 4, 5]\n",
    "search = 3\n",
    "\n",
    "while not found:\n",
    "    for number in numbers:\n",
    "        if number == search:\n",
    "            print(search, \"is in the list.\")\n",
    "            found = True\n",
    "            break\n",
    "    if not found:\n",
    "        print(search, \"is not in the list.\")\n"
   ]
  },
  {
   "cell_type": "code",
   "execution_count": 320,
   "id": "2c68b122",
   "metadata": {},
   "outputs": [
    {
     "name": "stdout",
     "output_type": "stream",
     "text": [
      "The factorial of 5 is 120\n"
     ]
    }
   ],
   "source": [
    "number = 5\n",
    "factorial = 1\n",
    "for i in range(1, number + 1):\n",
    "    factorial *= i\n",
    "print(\"The factorial of\", number, \"is\", factorial)\n"
   ]
  },
  {
   "cell_type": "raw",
   "id": "deabb0fc",
   "metadata": {},
   "source": [
    "calculate the Fibonacci series of a given number:"
   ]
  },
  {
   "cell_type": "code",
   "execution_count": 321,
   "id": "1fd0723b",
   "metadata": {},
   "outputs": [
    {
     "name": "stdout",
     "output_type": "stream",
     "text": [
      "0 1 1 2 3 5 8 13 21 34 "
     ]
    }
   ],
   "source": [
    "n = 10\n",
    "first = 0\n",
    "second = 1\n",
    "print(first, second, end=\" \")\n",
    "for i in range(2, n):\n",
    "    next_term = first + second\n",
    "    print(next_term, end=\" \")\n",
    "    first = second\n",
    "    second = next_term\n"
   ]
  },
  {
   "cell_type": "code",
   "execution_count": 322,
   "id": "ad2760ac",
   "metadata": {},
   "outputs": [
    {
     "name": "stdout",
     "output_type": "stream",
     "text": [
      "1\t2\t3\t4\t5\t6\t7\t8\t9\t10\t\n",
      "2\t4\t6\t8\t10\t12\t14\t16\t18\t20\t\n",
      "3\t6\t9\t12\t15\t18\t21\t24\t27\t30\t\n",
      "4\t8\t12\t16\t20\t24\t28\t32\t36\t40\t\n",
      "5\t10\t15\t20\t25\t30\t35\t40\t45\t50\t\n",
      "6\t12\t18\t24\t30\t36\t42\t48\t54\t60\t\n",
      "7\t14\t21\t28\t35\t42\t49\t56\t63\t70\t\n",
      "8\t16\t24\t32\t40\t48\t56\t64\t72\t80\t\n",
      "9\t18\t27\t36\t45\t54\t63\t72\t81\t90\t\n",
      "10\t20\t30\t40\t50\t60\t70\t80\t90\t100\t\n"
     ]
    }
   ],
   "source": [
    "for i in range(1, 11):\n",
    "    for j in range(1, 11):\n",
    "        print(i*j, end='\\t')\n",
    "    print()\n"
   ]
  },
  {
   "cell_type": "code",
   "execution_count": 323,
   "id": "6a6a81b2",
   "metadata": {},
   "outputs": [
    {
     "name": "stdout",
     "output_type": "stream",
     "text": [
      "The first Armstrong number is:  1\n"
     ]
    }
   ],
   "source": [
    "start = 1\n",
    "end = 1000\n",
    "for num in range(start, end + 1):\n",
    "    order = len(str(num))\n",
    "    sum = 0\n",
    "    temp = num\n",
    "    while temp > 0:\n",
    "        digit = temp % 10\n",
    "        sum += digit ** order\n",
    "        temp //= 10\n",
    "    if num == sum:\n",
    "        print(\"The first Armstrong number is: \", num)\n",
    "        break\n"
   ]
  },
  {
   "cell_type": "code",
   "execution_count": 324,
   "id": "5e35a266",
   "metadata": {},
   "outputs": [
    {
     "name": "stdout",
     "output_type": "stream",
     "text": [
      "2\n",
      "3\n",
      "5\n",
      "7\n",
      "11\n",
      "13\n",
      "17\n",
      "19\n"
     ]
    }
   ],
   "source": [
    "start = 2 #print out the prime numbers in a given range:\n",
    "end = 20\n",
    "for num in range(start, end + 1):\n",
    "    for i in range(2, num):\n",
    "        if (num % i) == 0:\n",
    "            break\n",
    "    else:\n",
    "        print(num)\n"
   ]
  },
  {
   "cell_type": "code",
   "execution_count": 325,
   "id": "0fe9a9ef",
   "metadata": {},
   "outputs": [
    {
     "name": "stdout",
     "output_type": "stream",
     "text": [
      "Largest number is: 10\n",
      "Smallest number is: 1\n"
     ]
    }
   ],
   "source": [
    "numbers = [1, 2, 3, 4, 5, 6, 7, 8, 9, 10]\n",
    "largest = numbers[0]  #find the largest and smallest number in a list:\n",
    "smallest = numbers[0]\n",
    "for number in numbers:\n",
    "    if number > largest:\n",
    "        largest = number\n",
    "    if number < smallest:\n",
    "        smallest = number\n",
    "print(\"Largest number is:\", largest)\n",
    "print(\"Smallest number is:\", smallest)\n"
   ]
  },
  {
   "cell_type": "code",
   "execution_count": 326,
   "id": "1e997d75",
   "metadata": {},
   "outputs": [
    {
     "name": "stdout",
     "output_type": "stream",
     "text": [
      "Common elements: [4, 5]\n"
     ]
    }
   ],
   "source": [
    "list1 = [1, 2, 3, 4, 5]\n",
    "list2 = [4, 5, 6, 7, 8]\n",
    "common = []\n",
    "for i in list1:\n",
    "    for j in list2:\n",
    "        if i == j:\n",
    "            common.append(i)\n",
    "print(\"Common elements:\", common)\n"
   ]
  },
  {
   "cell_type": "code",
   "execution_count": 327,
   "id": "723f70b3",
   "metadata": {},
   "outputs": [
    {
     "name": "stdout",
     "output_type": "stream",
     "text": [
      "121 is a palindrome\n"
     ]
    }
   ],
   "source": [
    "num = 121\n",
    "temp = num\n",
    "rev = 0\n",
    "while temp != 0:\n",
    "    rev = (rev * 10) + (temp % 10)\n",
    "    temp = temp // 10\n",
    "if num == rev:\n",
    "    print(num, \"is a palindrome\")\n",
    "else:\n",
    "    print(num, \"is not a palindrome\")\n"
   ]
  },
  {
   "cell_type": "code",
   "execution_count": 328,
   "id": "df9d662d",
   "metadata": {},
   "outputs": [
    {
     "name": "stdout",
     "output_type": "stream",
     "text": [
      "Sum of even numbers in the range 1 to 10 is: 30\n"
     ]
    }
   ],
   "source": [
    "start = 1\n",
    "end = 10\n",
    "even_sum = 0\n",
    "for i in range(start, end+1):\n",
    "    if i % 2 == 0:\n",
    "        even_sum += i\n",
    "print(\"Sum of even numbers in the range\", start, \"to\", end, \"is:\", even_sum)\n"
   ]
  },
  {
   "cell_type": "code",
   "execution_count": 329,
   "id": "633016fc",
   "metadata": {},
   "outputs": [
    {
     "name": "stdout",
     "output_type": "stream",
     "text": [
      "The string is a palindrome\n"
     ]
    }
   ],
   "source": [
    "string = \"madam\"\n",
    "flag = True\n",
    "for i in range(len(string)//2):\n",
    "    if string[i] != string[len(string)-i-1]:\n",
    "        flag = False\n",
    "        break\n",
    "if flag:\n",
    "    print(\"The string is a palindrome\")\n",
    "else:\n",
    "    print(\"The string is not a palindrome\")\n"
   ]
  },
  {
   "cell_type": "code",
   "execution_count": 330,
   "id": "2cb17083",
   "metadata": {},
   "outputs": [
    {
     "name": "stdout",
     "output_type": "stream",
     "text": [
      "The string is a palindrome\n"
     ]
    }
   ],
   "source": [
    "string = \"madam\"\n",
    "flag = True\n",
    "for i in range(len(string)//2):\n",
    "    if string[i] != string[len(string)-i-1]:\n",
    "        flag = False\n",
    "        break\n",
    "if flag:\n",
    "    print(\"The string is a palindrome\")\n",
    "else:\n",
    "    print(\"The string is not a palindrome\")\n"
   ]
  },
  {
   "cell_type": "code",
   "execution_count": 331,
   "id": "c9d67008",
   "metadata": {},
   "outputs": [
    {
     "name": "stdout",
     "output_type": "stream",
     "text": [
      "Common letters between 'hello' and 'world' are: l, o\n"
     ]
    }
   ],
   "source": [
    "string1 = \"hello\"\n",
    "string2 = \"world\"\n",
    "common_letters = []\n",
    "for letter in string1:\n",
    "    if letter in string2:\n",
    "        common_letters.append(letter)\n",
    "print(\"Common letters between '\" + string1 + \"' and '\" + string2 + \"' are: \" + ', '.join(set(common_letters)))\n"
   ]
  },
  {
   "cell_type": "code",
   "execution_count": 332,
   "id": "c3d94cb2",
   "metadata": {},
   "outputs": [
    {
     "name": "stdout",
     "output_type": "stream",
     "text": [
      "GCD of 60 and 48 is :  12\n"
     ]
    }
   ],
   "source": [
    "num1 = 60\n",
    "num2 = 48\n",
    "while(num2):\n",
    "    num1, num2 = num2, num1 % num2\n",
    "print(\"GCD of 60 and 48 is : \", num1)\n"
   ]
  },
  {
   "cell_type": "code",
   "execution_count": 333,
   "id": "c735ba55",
   "metadata": {},
   "outputs": [
    {
     "name": "stdout",
     "output_type": "stream",
     "text": [
      "Sum of all elements in the matrix is: 45\n"
     ]
    }
   ],
   "source": [
    "matrix = [[1, 2, 3], [4, 5, 6], [7, 8, 9]]\n",
    "sum = 0\n",
    "for row in matrix:\n",
    "    for element in row:\n",
    "        sum += element\n",
    "print(\"Sum of all elements in the matrix is:\", sum)\n"
   ]
  },
  {
   "cell_type": "code",
   "execution_count": 334,
   "id": "f615d1ef",
   "metadata": {},
   "outputs": [
    {
     "name": "stdout",
     "output_type": "stream",
     "text": [
      "All elements in the list are unique\n"
     ]
    }
   ],
   "source": [
    "lst = [1,2,3,4,5,6]\n",
    "flag = True\n",
    "for i in range(len(lst)):\n",
    "    for j in range(i+1, len(lst)):\n",
    "        if lst[i] == lst[j]:\n",
    "            flag = False\n",
    "            break\n",
    "    if not flag:\n",
    "        break\n",
    "if flag:\n",
    "    print(\"All elements in the list are unique\")\n",
    "else:\n",
    "    print(\"All elements in the list are not unique\")\n"
   ]
  },
  {
   "cell_type": "code",
   "execution_count": 335,
   "id": "af2db80d",
   "metadata": {},
   "outputs": [
    {
     "name": "stdout",
     "output_type": "stream",
     "text": [
      "Second highest number is: 8\n"
     ]
    }
   ],
   "source": [
    "numbers = [1, 2, 3, 4, 5, 6, 7, 8, 9]\n",
    "highest = max(numbers)\n",
    "numbers.remove(highest)\n",
    "second_highest = max(numbers)\n",
    "print(\"Second highest number is:\", second_highest)\n"
   ]
  },
  {
   "cell_type": "code",
   "execution_count": 336,
   "id": "8641d7f9",
   "metadata": {},
   "outputs": [
    {
     "name": "stdout",
     "output_type": "stream",
     "text": [
      "Factors of 24 are:\n",
      "1\n",
      "2\n",
      "3\n",
      "4\n",
      "6\n",
      "8\n",
      "12\n",
      "24\n"
     ]
    }
   ],
   "source": [
    "num = 24\n",
    "i = 1\n",
    "print(\"Factors of\", num, \"are:\")\n",
    "while i <= num:\n",
    "    if (num % i) == 0:\n",
    "        print(i)\n",
    "    i += 1\n"
   ]
  },
  {
   "cell_type": "code",
   "execution_count": 337,
   "id": "9f72e575",
   "metadata": {},
   "outputs": [
    {
     "name": "stdout",
     "output_type": "stream",
     "text": [
      "Sum of digits of the number 12345 is: 15\n"
     ]
    }
   ],
   "source": [
    "number = 12345\n",
    "sum = 0\n",
    "for digit in str(number):\n",
    "    sum += int(digit)\n",
    "print(\"Sum of digits of the number\", number, \"is:\", sum)\n"
   ]
  },
  {
   "cell_type": "code",
   "execution_count": 338,
   "id": "b2cdd8d3",
   "metadata": {},
   "outputs": [
    {
     "name": "stdout",
     "output_type": "stream",
     "text": [
      "Second smallest number is: 2\n"
     ]
    }
   ],
   "source": [
    "numbers = [5, 2, 9, 1, 5, 6]\n",
    "unique_numbers = list(set(numbers))\n",
    "unique_numbers.sort()\n",
    "print(\"Second smallest number is:\", unique_numbers[1])\n"
   ]
  },
  {
   "cell_type": "code",
   "execution_count": 339,
   "id": "172fe3ed",
   "metadata": {},
   "outputs": [
    {
     "name": "stdout",
     "output_type": "stream",
     "text": [
      "Frequency of characters in the string:\n",
      "h : 1\n",
      "e : 1\n",
      "l : 3\n",
      "o : 2\n",
      "  : 1\n",
      "w : 1\n",
      "r : 1\n",
      "d : 1\n"
     ]
    }
   ],
   "source": [
    "string = \"hello world\"\n",
    "char_freq = {}\n",
    "for char in string:\n",
    "    char_freq[char] = char_freq.get(char, 0) + 1\n",
    "print(\"Frequency of characters in the string:\")\n",
    "for char, freq in char_freq.items():\n",
    "    print(char, \":\", freq)\n"
   ]
  },
  {
   "cell_type": "code",
   "execution_count": 340,
   "id": "0ca1aaaa",
   "metadata": {},
   "outputs": [
    {
     "name": "stdout",
     "output_type": "stream",
     "text": [
      "HCF of 15 and 25 is :  5\n"
     ]
    }
   ],
   "source": [
    "num1 = 15\n",
    "num2 = 25\n",
    "while num1!=num2:\n",
    "    if num1>num2:\n",
    "        num1-=num2\n",
    "    else:\n",
    "        num2-=num1\n",
    "print(\"HCF of 15 and 25 is : \", num1)\n"
   ]
  },
  {
   "cell_type": "code",
   "execution_count": 341,
   "id": "37a14ae4",
   "metadata": {},
   "outputs": [
    {
     "name": "stdout",
     "output_type": "stream",
     "text": [
      "Grade: B\n"
     ]
    }
   ],
   "source": [
    "percentage = 82\n",
    "if percentage >= 90:\n",
    "    print(\"Grade: A\")\n",
    "elif percentage >= 80:\n",
    "    print(\"Grade: B\")\n",
    "elif percentage >= 70:\n",
    "    print(\"Grade: C\")\n",
    "elif percentage >= 60:\n",
    "    print(\"Grade: D\")\n",
    "else:\n",
    "    print(\"Grade: F\")\n"
   ]
  },
  {
   "cell_type": "code",
   "execution_count": 342,
   "id": "cb56d8fd",
   "metadata": {},
   "outputs": [
    {
     "name": "stdout",
     "output_type": "stream",
     "text": [
      "2020 is a leap year.\n"
     ]
    }
   ],
   "source": [
    "year = 2020\n",
    "if year % 4 == 0 and (year % 100 != 0 or year % 400 == 0):\n",
    "    print(year, \"is a leap year.\")\n",
    "else:\n",
    "    print(year, \"is not a leap year.\")\n"
   ]
  },
  {
   "cell_type": "code",
   "execution_count": 343,
   "id": "2b5190a0",
   "metadata": {},
   "outputs": [
    {
     "name": "stdout",
     "output_type": "stream",
     "text": [
      "0 is zero.\n"
     ]
    }
   ],
   "source": [
    "number = 0\n",
    "if number > 0:\n",
    "    print(number, \"is a positive number.\")\n",
    "elif number < 0:\n",
    "    print(number, \"is a negative number.\")\n",
    "else:\n",
    "    print(number, \"is zero.\")\n"
   ]
  },
  {
   "cell_type": "code",
   "execution_count": 344,
   "id": "c40f9ae8",
   "metadata": {},
   "outputs": [
    {
     "name": "stdout",
     "output_type": "stream",
     "text": [
      "a is a vowel.\n"
     ]
    }
   ],
   "source": [
    "char = 'a'\n",
    "if char in ('a', 'e', 'i', 'o', 'u'):\n",
    "    print(char, \"is a vowel.\")\n",
    "elif char.isalpha():\n",
    "    print(char, \"is a consonant.\")\n",
    "else:\n",
    "    print(char, \"is not a letter.\")\n"
   ]
  },
  {
   "cell_type": "code",
   "execution_count": 345,
   "id": "39dbeba5",
   "metadata": {},
   "outputs": [
    {
     "name": "stdout",
     "output_type": "stream",
     "text": [
      "7 is odd\n"
     ]
    }
   ],
   "source": [
    "num = 7\n",
    "if num % 2 == 0:\n",
    "    print(num, \"is even\")\n",
    "else:\n",
    "    print(num, \"is odd\")\n"
   ]
  },
  {
   "cell_type": "code",
   "execution_count": 346,
   "id": "ae087f41",
   "metadata": {},
   "outputs": [
    {
     "name": "stdout",
     "output_type": "stream",
     "text": [
      "15 is divisible by 3 and 5\n"
     ]
    }
   ],
   "source": [
    "num = 15\n",
    "if num % 3 == 0 and num % 5 == 0:\n",
    "    print(num, \"is divisible by 3 and 5\")\n",
    "else:\n",
    "    print(num, \"is not divisible by 3 and 5\")\n"
   ]
  },
  {
   "cell_type": "code",
   "execution_count": 347,
   "id": "bb6b4e83",
   "metadata": {},
   "outputs": [
    {
     "name": "stdout",
     "output_type": "stream",
     "text": [
      "19 is a prime number\n"
     ]
    }
   ],
   "source": [
    "num = 19\n",
    "if num > 1:\n",
    "    for i in range(2, num):\n",
    "        if (num % i) == 0:\n",
    "            print(num, \"is not a prime number\")\n",
    "            break\n",
    "    else:\n",
    "        print(num, \"is a prime number\")\n",
    "else:\n",
    "    print(num, \"is not a prime number\")\n"
   ]
  },
  {
   "cell_type": "code",
   "execution_count": 348,
   "id": "b2ff0ad6",
   "metadata": {},
   "outputs": [
    {
     "name": "stdout",
     "output_type": "stream",
     "text": [
      "8 is divisible by 2\n"
     ]
    }
   ],
   "source": [
    "num = 8\n",
    "if num % 2 == 0:\n",
    "    print(num, \"is divisible by 2\")\n",
    "elif num % 3 == 0:\n",
    "    print(num, \"is divisible by 3\")\n",
    "else:\n",
    "    print(num, \"is not divisible by 2 or 3\")\n"
   ]
  },
  {
   "cell_type": "code",
   "execution_count": 349,
   "id": "53b9e97d",
   "metadata": {},
   "outputs": [
    {
     "name": "stdout",
     "output_type": "stream",
     "text": [
      "20 is greater than 10\n"
     ]
    }
   ],
   "source": [
    "num1 = 10\n",
    "num2 = 20\n",
    "if num1 > num2:\n",
    "    print(num1, \"is greater than\", num2)\n",
    "else:\n",
    "    print(num2, \"is greater than\", num1)\n"
   ]
  },
  {
   "cell_type": "code",
   "execution_count": 350,
   "id": "0d4858b2",
   "metadata": {},
   "outputs": [
    {
     "name": "stdout",
     "output_type": "stream",
     "text": [
      "Grade: C\n"
     ]
    }
   ],
   "source": [
    "percentage = 75\n",
    "if percentage >= 90:\n",
    "    print(\"Grade: A\")\n",
    "elif percentage >= 80:\n",
    "    print(\"Grade: B\")\n",
    "elif percentage >= 70:\n",
    "    print(\"Grade: C\")\n",
    "elif percentage >= 60:\n",
    "    print(\"Grade: D\")\n",
    "else:\n",
    "    print(\"Grade: F\")\n"
   ]
  },
  {
   "cell_type": "code",
   "execution_count": 351,
   "id": "6f9da4b6",
   "metadata": {},
   "outputs": [
    {
     "name": "stdout",
     "output_type": "stream",
     "text": [
      "21 is a multiple of 7\n"
     ]
    }
   ],
   "source": [
    "num = 21\n",
    "if num % 7 == 0:\n",
    "    print(num, \"is a multiple of 7\")\n",
    "else:\n",
    "    print(num, \"is not a multiple of 7\")\n"
   ]
  },
  {
   "cell_type": "code",
   "execution_count": 352,
   "id": "a7a26adc",
   "metadata": {},
   "outputs": [
    {
     "name": "stdout",
     "output_type": "stream",
     "text": [
      "16 is a perfect square\n"
     ]
    }
   ],
   "source": [
    "num = 16\n",
    "root = int(num ** 0.5)\n",
    "if root ** 2 == num:\n",
    "    print(num, \"is a perfect square\")\n",
    "else:\n",
    "    print(num, \"is not a perfect square\")\n"
   ]
  },
  {
   "cell_type": "code",
   "execution_count": 353,
   "id": "9e77ca31",
   "metadata": {},
   "outputs": [
    {
     "name": "stdout",
     "output_type": "stream",
     "text": [
      "8 is a perfect cube\n"
     ]
    }
   ],
   "source": [
    "num = 8\n",
    "root = int(num ** (1/3))\n",
    "if root ** 3 == num:\n",
    "    print(num, \"is a perfect cube\")\n",
    "else:\n",
    "    print(num, \"is not a perfect cube\")\n"
   ]
  },
  {
   "cell_type": "code",
   "execution_count": 354,
   "id": "08ddf960",
   "metadata": {},
   "outputs": [
    {
     "name": "stdout",
     "output_type": "stream",
     "text": [
      "The string is a palindrome\n"
     ]
    }
   ],
   "source": [
    "string = \"madam\"\n",
    "flag = True\n",
    "for i in range(len(string)//2):\n",
    "    if string[i] != string[len(string)-i-1]:\n",
    "        flag = False\n",
    "        break\n",
    "if flag:\n",
    "    print(\"The string is a palindrome\")\n",
    "else:\n",
    "    print(\"The string is not a palindrome\")\n"
   ]
  },
  {
   "cell_type": "code",
   "execution_count": 109,
   "id": "37db8d70",
   "metadata": {},
   "outputs": [
    {
     "name": "stdout",
     "output_type": "stream",
     "text": [
      "10\n"
     ]
    }
   ],
   "source": [
    "name = \"John Smith\"\n",
    "print(len(name)) # Output: 10"
   ]
  },
  {
   "cell_type": "code",
   "execution_count": 110,
   "id": "fb133a56",
   "metadata": {},
   "outputs": [
    {
     "name": "stdout",
     "output_type": "stream",
     "text": [
      "JOHN SMITH\n",
      "john smith\n"
     ]
    }
   ],
   "source": [
    "name = \"John Smith\"\n",
    "print(name.upper()) # Output: \"JOHN SMITH\"\n",
    "print(name.lower()) # Output: \"john smith\""
   ]
  },
  {
   "cell_type": "code",
   "execution_count": 111,
   "id": "3834bbbb",
   "metadata": {},
   "outputs": [
    {
     "name": "stdout",
     "output_type": "stream",
     "text": [
      "John Smith\n"
     ]
    }
   ],
   "source": [
    "name = \"   John Smith    \"\n",
    "print(name.strip()) # Output: \"John Smith\""
   ]
  },
  {
   "cell_type": "code",
   "execution_count": 112,
   "id": "052350ce",
   "metadata": {},
   "outputs": [
    {
     "name": "stdout",
     "output_type": "stream",
     "text": [
      "Hello, my name is Jane Smith\n"
     ]
    }
   ],
   "source": [
    "text = \"Hello, my name is John Smith\"\n",
    "print(text.replace(\"John\", \"Jane\")) # Output: \"Hello, my name is Jane Smith\""
   ]
  },
  {
   "cell_type": "code",
   "execution_count": 113,
   "id": "6bb761d1",
   "metadata": {},
   "outputs": [
    {
     "name": "stdout",
     "output_type": "stream",
     "text": [
      "['Hello,', 'my', 'name', 'is', 'John', 'Smith']\n"
     ]
    }
   ],
   "source": [
    "text = \"Hello, my name is John Smith\"\n",
    "print(text.split(\" \")) # Output: [\"Hello,\", \"my\", \"name\", \"is\", \"John\", \"Smith\"]"
   ]
  },
  {
   "cell_type": "code",
   "execution_count": 114,
   "id": "61605b85",
   "metadata": {},
   "outputs": [
    {
     "name": "stdout",
     "output_type": "stream",
     "text": [
      "18\n"
     ]
    }
   ],
   "source": [
    "text = \"Hello, my name is John Smith\"\n",
    "print(text.find(\"John\")) # Output: 18"
   ]
  },
  {
   "cell_type": "code",
   "execution_count": 115,
   "id": "bbd911cc",
   "metadata": {},
   "outputs": [
    {
     "name": "stdout",
     "output_type": "stream",
     "text": [
      "True\n",
      "True\n"
     ]
    }
   ],
   "source": [
    "text = \"Hello, my name is John Smith\"\n",
    "print(text.startswith(\"Hello\")) # Output: True\n",
    "print(text.endswith(\"Smith\")) # Output: True"
   ]
  },
  {
   "cell_type": "raw",
   "id": "0e162a37",
   "metadata": {},
   "source": [
    "Example:\n",
    "Let's consider the input number is 1234.\n",
    "\n",
    "Initialize total = 0.\n",
    "Start the while loop, as 1234 > 0, so it will start the loop.\n",
    "\n",
    "\n",
    "\n",
    "Shafeena Farheen\n",
    "3.\n",
    "In the first iteration of the while loop, the last digit of the number 1234 is 4, so the code adds it to the total variable, total = total + 4 = 4.\n",
    "4. The code then updates the value of n by floor dividing it by 10, which gives n = 1234 // 10 = 123.\n",
    "\n",
    "The loop iterates again, and the last digit of the number 123 is 3, so the code adds it to the total variable, total = total + 3 = 7.\n",
    "The code again updates the value of n by floor dividing it by 10, which gives n = 123 // 10 = 12.\n",
    "This process continues until the while loop reaches 0, the final value of total is 10 (1+0=1+2=3+4=10)\n",
    "Return the value of total which is 10"
   ]
  },
  {
   "cell_type": "code",
   "execution_count": 116,
   "id": "5a7b432e",
   "metadata": {},
   "outputs": [
    {
     "name": "stdout",
     "output_type": "stream",
     "text": [
      "Hello world\n"
     ]
    }
   ],
   "source": [
    "words = [\"Hello\", \"world\"]\n",
    "print(\" \".join(words)) # Output: \"Hello world\""
   ]
  },
  {
   "cell_type": "code",
   "execution_count": 117,
   "id": "20f21bcd",
   "metadata": {},
   "outputs": [
    {
     "name": "stdout",
     "output_type": "stream",
     "text": [
      "4\n"
     ]
    }
   ],
   "source": [
    "text = \"Hello, my name is John Smith. I am a software developer.\"\n",
    "print(text.count(\"a\")) # Output: 3"
   ]
  },
  {
   "cell_type": "code",
   "execution_count": 118,
   "id": "74a0325c",
   "metadata": {},
   "outputs": [
    {
     "name": "stdout",
     "output_type": "stream",
     "text": [
      "18\n"
     ]
    }
   ],
   "source": [
    "text = \"Hello, my name is John Smith\"\n",
    "print(text.index(\"John\")) # Output: 18"
   ]
  },
  {
   "cell_type": "code",
   "execution_count": 119,
   "id": "1fca500d",
   "metadata": {},
   "outputs": [
    {
     "name": "stdout",
     "output_type": "stream",
     "text": [
      "True\n",
      "False\n"
     ]
    }
   ],
   "source": [
    "text = \"Hello123\"\n",
    "print(text.isalnum()) # Output: True\n",
    "\n",
    "text = \"Hello World\"\n",
    "print(text.isalnum()) # Output: False"
   ]
  },
  {
   "cell_type": "code",
   "execution_count": 120,
   "id": "adffd4ff",
   "metadata": {},
   "outputs": [
    {
     "name": "stdout",
     "output_type": "stream",
     "text": [
      "True\n",
      "False\n"
     ]
    }
   ],
   "source": [
    "text = \"Hello\"\n",
    "print(text.isalpha()) # Output: True\n",
    "\n",
    "text = \"Hello123\"\n",
    "print(text.isalpha()) # Output: False"
   ]
  },
  {
   "cell_type": "code",
   "execution_count": 121,
   "id": "010a07cf",
   "metadata": {},
   "outputs": [
    {
     "name": "stdout",
     "output_type": "stream",
     "text": [
      "True\n",
      "False\n"
     ]
    }
   ],
   "source": [
    "text = \"1234\"\n",
    "print(text.isdigit()) # Output: True\n",
    "\n",
    "text = \"Hello123\"\n",
    "print(text.isdigit()) # Output: False"
   ]
  },
  {
   "cell_type": "code",
   "execution_count": 122,
   "id": "aec5c266",
   "metadata": {},
   "outputs": [
    {
     "name": "stdout",
     "output_type": "stream",
     "text": [
      "(1,)\n"
     ]
    }
   ],
   "source": [
    "my_tuple = (1,)\n",
    "print(my_tuple) # Output: (1,)"
   ]
  },
  {
   "cell_type": "code",
   "execution_count": 123,
   "id": "51504ae2",
   "metadata": {},
   "outputs": [
    {
     "name": "stdout",
     "output_type": "stream",
     "text": [
      "(1, 2, 3, 4, 5)\n"
     ]
    }
   ],
   "source": [
    "my_tuple = (1, 2, 3, 4, 5)\n",
    "print(my_tuple) # Output: (1, 2, 3, 4, 5)"
   ]
  },
  {
   "cell_type": "code",
   "execution_count": 124,
   "id": "547765a3",
   "metadata": {},
   "outputs": [
    {
     "name": "stdout",
     "output_type": "stream",
     "text": [
      "(1, 2, 10, 4, 5)\n"
     ]
    }
   ],
   "source": [
    "my_tuple = (1, 2, 3, 4, 5)\n",
    "new_tuple = my_tuple[:2] + (10,) + my_tuple[3:]\n",
    "print(new_tuple) # Output: (1, 2, 10, 4, 5)"
   ]
  },
  {
   "cell_type": "code",
   "execution_count": 125,
   "id": "ec1a0d50",
   "metadata": {},
   "outputs": [
    {
     "name": "stdout",
     "output_type": "stream",
     "text": [
      "1\n",
      "2\n",
      "3\n",
      "4\n",
      "5\n"
     ]
    }
   ],
   "source": [
    "my_tuple = (1, 2, 3, 4, 5)\n",
    "for element in my_tuple:\n",
    "    print(element)"
   ]
  },
  {
   "cell_type": "code",
   "execution_count": 126,
   "id": "21c7e28a",
   "metadata": {},
   "outputs": [
    {
     "name": "stdout",
     "output_type": "stream",
     "text": [
      "1\n",
      "2\n",
      "3\n"
     ]
    }
   ],
   "source": [
    "my_tuple = (1, 2, 3)\n",
    "x, y, z = my_tuple\n",
    "print(x) # Output: 1\n",
    "print(y)\n",
    "print(z)\n"
   ]
  },
  {
   "cell_type": "code",
   "execution_count": 127,
   "id": "f61ce6b3",
   "metadata": {},
   "outputs": [
    {
     "name": "stdout",
     "output_type": "stream",
     "text": [
      "(1, 2, 3, 4, 5, 6)\n"
     ]
    }
   ],
   "source": [
    "tuple1 = (1, 2, 3)\n",
    "tuple2 = (4, 5, 6)\n",
    "tuple3 = tuple1 + tuple2\n",
    "print(tuple3) # Output: (1, 2, 3, 4, 5, 6)"
   ]
  },
  {
   "cell_type": "code",
   "execution_count": 128,
   "id": "c74fcb9b",
   "metadata": {},
   "outputs": [
    {
     "name": "stdout",
     "output_type": "stream",
     "text": [
      "(1, 2, 3, 1, 2, 3, 1, 2, 3)\n"
     ]
    }
   ],
   "source": [
    "my_tuple = (1, 2, 3)\n",
    "new_tuple = my_tuple * 3\n",
    "print(new_tuple) # Output: (1, 2, 3, 1, 2, 3, 1, 2, 3)"
   ]
  },
  {
   "cell_type": "code",
   "execution_count": 129,
   "id": "c5119c12",
   "metadata": {},
   "outputs": [
    {
     "name": "stdout",
     "output_type": "stream",
     "text": [
      "True\n",
      "False\n"
     ]
    }
   ],
   "source": [
    "my_tuple = (1, 2, 3, 4, 5)\n",
    "print(3 in my_tuple) # Output: True\n",
    "print(6 in my_tuple) # Output: False"
   ]
  },
  {
   "cell_type": "code",
   "execution_count": 130,
   "id": "59d750e8",
   "metadata": {},
   "outputs": [
    {
     "name": "stdout",
     "output_type": "stream",
     "text": [
      "2\n",
      "3\n",
      "6\n"
     ]
    }
   ],
   "source": [
    "my_tuple = (1, 2, 3, 4, 2, 5)\n",
    "print(my_tuple.count(2)) # Output: 2\n",
    "print(my_tuple.index(4)) # Output: 3\n",
    "print(len(my_tuple)) # Output: 6"
   ]
  },
  {
   "cell_type": "code",
   "execution_count": 131,
   "id": "5b7e3e1f",
   "metadata": {},
   "outputs": [
    {
     "name": "stdout",
     "output_type": "stream",
     "text": [
      "tuple key\n"
     ]
    }
   ],
   "source": [
    "my_dict = {(1, 2): \"tuple key\", 3: \"integer key\"}\n",
    "print(my_dict[(1, 2)]) # Output: \"tuple key\""
   ]
  },
  {
   "cell_type": "code",
   "execution_count": 132,
   "id": "0377da76",
   "metadata": {},
   "outputs": [
    {
     "name": "stdout",
     "output_type": "stream",
     "text": [
      "(1, 4, 9, 16, 25)\n"
     ]
    }
   ],
   "source": [
    "my_tuple = (1, 2, 3, 4, 5)\n",
    "squared_tuple = tuple(i ** 2 for i in my_tuple)\n",
    "print(squared_tuple) # Output: (1, 4, 9, 16, 25)"
   ]
  },
  {
   "cell_type": "code",
   "execution_count": 133,
   "id": "d19acac5",
   "metadata": {},
   "outputs": [
    {
     "name": "stdout",
     "output_type": "stream",
     "text": [
      "(1, 2, 3, 4, 5)\n"
     ]
    }
   ],
   "source": [
    "my_tuple = (5, 4, 3, 2, 1)\n",
    "sorted_tuple = tuple(sorted(my_tuple))\n",
    "print(sorted_tuple) # Output: (1, 2, 3, 4, 5)"
   ]
  },
  {
   "cell_type": "code",
   "execution_count": 134,
   "id": "2f56a0ec",
   "metadata": {},
   "outputs": [
    {
     "name": "stdout",
     "output_type": "stream",
     "text": [
      "24\n"
     ]
    }
   ],
   "source": [
    "def multiply(a, b, c):\n",
    "    return a * b * c\n",
    "\n",
    "my_tuple = (2, 3, 4)\n",
    "result = multiply(*my_tuple)\n",
    "print(result) # Output: 24"
   ]
  },
  {
   "cell_type": "code",
   "execution_count": 135,
   "id": "a3816712",
   "metadata": {},
   "outputs": [
    {
     "name": "stdout",
     "output_type": "stream",
     "text": [
      "{1, 2, 3, 4, 5}\n",
      "{1, 2, 3, 4, 5}\n"
     ]
    }
   ],
   "source": [
    "my_set = {1, 2, 3, 4, 5}\n",
    "print(my_set) # Output: {1, 2, 3, 4, 5}\n",
    "\n",
    "my_set = set([1, 2, 3, 4, 5])\n",
    "print(my_set) # Output: {1, 2, 3, 4, 5}"
   ]
  },
  {
   "cell_type": "code",
   "execution_count": 136,
   "id": "d87e592b",
   "metadata": {},
   "outputs": [
    {
     "name": "stdout",
     "output_type": "stream",
     "text": [
      "{1, 2, 3, 4}\n"
     ]
    }
   ],
   "source": [
    "my_set = {1, 2, 3}\n",
    "my_set.add(4)\n",
    "print(my_set) # Output: {1, 2, 3, 4}"
   ]
  },
  {
   "cell_type": "code",
   "execution_count": 137,
   "id": "196a8375",
   "metadata": {},
   "outputs": [
    {
     "name": "stdout",
     "output_type": "stream",
     "text": [
      "{1, 2, 4}\n",
      "{1, 2, 4}\n"
     ]
    }
   ],
   "source": [
    "my_set = {1, 2, 3, 4}\n",
    "my_set.remove(3)\n",
    "print(my_set) # Output: {1, 2, 4}\n",
    "\n",
    "my_set.discard(5) # It will not give an error if element is not present.\n",
    "print(my_set) # Output: {1, 2, 4}"
   ]
  },
  {
   "cell_type": "code",
   "execution_count": 138,
   "id": "18df5920",
   "metadata": {},
   "outputs": [
    {
     "name": "stdout",
     "output_type": "stream",
     "text": [
      "{1, 2, 3, 4, 5}\n"
     ]
    }
   ],
   "source": [
    "numbers = [1, 2, 3, 4, 5]\n",
    "unique_numbers = set(numbers)\n",
    "print(unique_numbers) # Output: {1, 2, 3, 4, 5}"
   ]
  },
  {
   "cell_type": "code",
   "execution_count": 139,
   "id": "15f9e041",
   "metadata": {},
   "outputs": [
    {
     "name": "stdout",
     "output_type": "stream",
     "text": [
      "{1, 2, 3, 4, 5}\n"
     ]
    }
   ],
   "source": [
    "numbers = [1, 2, 2, 3, 4, 4, 5]\n",
    "unique_numbers = set(numbers)\n",
    "print(unique_numbers) # Output: {1, 2, 3, 4, 5}"
   ]
  },
  {
   "cell_type": "code",
   "execution_count": 140,
   "id": "b7249f9e",
   "metadata": {},
   "outputs": [
    {
     "name": "stdout",
     "output_type": "stream",
     "text": [
      "True\n",
      "False\n"
     ]
    }
   ],
   "source": [
    "numbers = {1, 2, 3, 4, 5}\n",
    "print(3 in numbers) # Output: True\n",
    "print(6 in numbers) # Output: False"
   ]
  },
  {
   "cell_type": "code",
   "execution_count": 141,
   "id": "eb076dcc",
   "metadata": {},
   "outputs": [
    {
     "name": "stdout",
     "output_type": "stream",
     "text": [
      "{1, 2, 3, 4}\n",
      "{1, 3, 4}\n"
     ]
    }
   ],
   "source": [
    "numbers = {1, 2, 3}\n",
    "numbers.add(4)\n",
    "print(numbers) # Output: {1, 2, 3, 4}\n",
    "\n",
    "numbers.remove(2)\n",
    "print(numbers) # Output: {1, 3, 4}"
   ]
  },
  {
   "cell_type": "code",
   "execution_count": 142,
   "id": "50367645",
   "metadata": {},
   "outputs": [
    {
     "name": "stdout",
     "output_type": "stream",
     "text": [
      "{1, 2, 3, 4, 5}\n",
      "{3}\n",
      "{1, 2}\n",
      "{1, 2, 4, 5}\n"
     ]
    }
   ],
   "source": [
    "A = {1, 2, 3}\n",
    "B = {3, 4, 5}\n",
    "\n",
    "# Union\n",
    "print(A.union(B)) # Output: {1, 2, 3, 4, 5}\n",
    "\n",
    "# Intersection\n",
    "print(A.intersection(B)) # Output: {3}\n",
    "\n",
    "# Difference\n",
    "print(A.difference(B)) # Output: {1, 2}\n",
    "\n",
    "# Symmetric difference\n",
    "print(A.symmetric_difference(B)) # Output: {1, 2, 4, 5}"
   ]
  },
  {
   "cell_type": "code",
   "execution_count": 143,
   "id": "07e8de20",
   "metadata": {},
   "outputs": [
    {
     "name": "stdout",
     "output_type": "stream",
     "text": [
      "set()\n"
     ]
    }
   ],
   "source": [
    "empty_set = set()\n",
    "print(empty_set) # Output: set()"
   ]
  },
  {
   "cell_type": "code",
   "execution_count": 144,
   "id": "ec37707b",
   "metadata": {},
   "outputs": [
    {
     "name": "stdout",
     "output_type": "stream",
     "text": [
      "1\n",
      "2\n",
      "3\n",
      "4\n",
      "5\n"
     ]
    }
   ],
   "source": [
    "numbers = {1, 2, 3, 4, 5}\n",
    "for number in numbers:\n",
    "    print(number)\n",
    "# Output:\n",
    "# 1\n",
    "# 2\n",
    "# 3\n",
    "# 4\n",
    "# 5"
   ]
  },
  {
   "cell_type": "code",
   "execution_count": 145,
   "id": "244b6f0c",
   "metadata": {},
   "outputs": [
    {
     "name": "stdout",
     "output_type": "stream",
     "text": [
      "{'H', 'd', ' ', 'W', 'e', 'l', 'r', 'o'}\n"
     ]
    }
   ],
   "source": [
    "string = \"Hello World\"\n",
    "unique_chars = set(string)\n",
    "print(unique_chars) # Output: {' ', 'H', 'W', 'd', 'e', 'l', 'o', 'r'}"
   ]
  },
  {
   "cell_type": "code",
   "execution_count": 146,
   "id": "4984fb8e",
   "metadata": {},
   "outputs": [
    {
     "name": "stdout",
     "output_type": "stream",
     "text": [
      "{1, 4, 9, 16, 25}\n"
     ]
    }
   ],
   "source": [
    "squared_set = {x**2 for x in range(1,6)}\n",
    "print(squared_set) # Output: {1, 4, 9, 16, 25}"
   ]
  },
  {
   "cell_type": "code",
   "execution_count": 147,
   "id": "33b0c919",
   "metadata": {},
   "outputs": [
    {
     "name": "stdout",
     "output_type": "stream",
     "text": [
      "{3}\n"
     ]
    }
   ],
   "source": [
    "list_of_lists = [[1,2,3], [2,3,4], [3,4,5]]\n",
    "common_elements = set.intersection(*map(set,list_of_lists))\n",
    "print(common_elements) # Output: {3}"
   ]
  },
  {
   "cell_type": "code",
   "execution_count": 148,
   "id": "e3796055",
   "metadata": {},
   "outputs": [
    {
     "name": "stdout",
     "output_type": "stream",
     "text": [
      "Positive comments:  ['He is a good boy', 'He is an awesome player', 'She is the best', 'These burger are really nice']\n",
      "Negative comments:  ['Food is the worst here', 'This pizza tastes awful']\n"
     ]
    }
   ],
   "source": [
    "positive = ['good','awesome', 'best', 'nice']\n",
    "negative = ['worst','awful']\n",
    "comments = ['He is a good boy',\n",
    "            'Food is the worst here',\n",
    "            'He is an awesome player',\n",
    "            'She is the best',\n",
    "            'This pizza tastes awful',\n",
    "            'These burger are really nice']\n",
    "\n",
    "positive_comments = []\n",
    "negative_comments = []\n",
    "\n",
    "for comment in comments:\n",
    "    for word in positive:\n",
    "        if word in comment:\n",
    "            positive_comments.append(comment)\n",
    "            break\n",
    "    else:\n",
    "        for word in negative:\n",
    "            if word in comment:\n",
    "                negative_comments.append(comment)\n",
    "                break\n",
    "\n",
    "print(\"Positive comments: \", positive_comments)\n",
    "print(\"Negative comments: \", negative_comments)\n"
   ]
  },
  {
   "cell_type": "code",
   "execution_count": 150,
   "id": "032c7c45",
   "metadata": {},
   "outputs": [
    {
     "name": "stdout",
     "output_type": "stream",
     "text": [
      "{'Drax': 'Peak_Human', 'Spiderman': 'Peak_Human', 'Thanos': 'God_Like', 'Captain America': 'Peak_Human', 'Loki': 'Super_strong', 'Thor': 'God_Like', 'Groot': 'Strong', 'Ironman': 'Super_strong', 'Dr. Strange': 'Super_strong'}\n"
     ]
    }
   ],
   "source": [
    "power_level = {'Drax':30,\n",
    "               'Spiderman':50,\n",
    "               'Thanos':58000,\n",
    "               'Captain America':80,\n",
    "               'Loki':3200,\n",
    "               'Thor':44000,\n",
    "               'Groot': 120,\n",
    "               'Ironman':5000,\n",
    "               'Dr. Strange':8000}              # Dictionary of superheroes as keys and their corresponding power levels as values.\n",
    "\n",
    "for hero in power_level:                       # Iterating heroes from the power_level dictionary\n",
    "    if((power_level[hero] > 35000) and (power_level[hero] < 70000)):      # If power level of the hero is between 35000 and 70000\n",
    "        power_level[hero] = 'God_Like'                                      # Then replace the power_level with the category \"God_Like\"\n",
    "    elif((power_level[hero] > 3000) and (power_level[hero] < 10000)):     # If power level of the hero is between 3000 and 10000\n",
    "        power_level[hero] = 'Super_strong'                                  # Then replace the power_level with the category \"Super_Strong\"\n",
    "    elif((power_level[hero] > 100) and (power_level[hero] < 200)):        # If power level of the hero is between 100 and 200 \n",
    "        power_level[hero] = 'Strong'                                        # Then replace the power_level with the category \"Strong\"\n",
    "    elif((power_level[hero] > 10) and (power_level[hero] < 90)):          # If power level of the hero is between 10 and 90\n",
    "        power_level[hero] = 'Peak_Human'                                    # Then replace the power_level with the category \"Peak_Human\"\n",
    "\n",
    "print(power_level)"
   ]
  },
  {
   "cell_type": "code",
   "execution_count": 151,
   "id": "c7ee4303",
   "metadata": {},
   "outputs": [
    {
     "name": "stdout",
     "output_type": "stream",
     "text": [
      "God_Like:  ['Thanos', 'Thor']\n",
      "Super_Strong:  ['Loki', 'Ironman', 'Dr. Strange']\n",
      "Strong:  ['Groot']\n",
      "Peak_Human:  ['Drax', 'Spiderman', 'Captain America']\n"
     ]
    }
   ],
   "source": [
    "power_level = {'Drax':30,\n",
    "               'Spiderman':50,\n",
    "               'Thanos':58000,\n",
    "               'Captain America':80,\n",
    "               'Loki':3200,\n",
    "               'Thor':44000,\n",
    "               'Groot': 120,\n",
    "               'Ironman':5000,\n",
    "               'Dr. Strange':8000}              # Dictionary of superheroes as keys and their corresponding power levels as values.                         \n",
    "\n",
    "God_Like = []            # Empty list for collecting heroes with god like power level\n",
    "Super_Strong = []        # Empty list for collecting heroes who are super strong\n",
    "Strong = []              # Empty list for collecting heroes who are strong\n",
    "Peak_Human = []          # Empty list for collecting heroes who are peak human\n",
    "\n",
    "for hero in power_level:\n",
    "    if((power_level[hero] > 35000) and (power_level[hero] < 70000)):      # If power level of the hero is between 35000 and 70000\n",
    "        God_Like.append(hero)                                               # Append that hero to God_Like list\n",
    "    elif((power_level[hero] > 3000) and (power_level[hero] < 10000)):     # If power level of the hero is between 35000 and 70000\n",
    "        Super_Strong.append(hero)                                           # Append that hero to Super_Strong list\n",
    "    elif((power_level[hero] > 100) and (power_level[hero] < 200)):        # If power level of the hero is between 35000 and 70000\n",
    "        Strong.append(hero)                                                 # Append that hero to Strong list\n",
    "    elif((power_level[hero] > 10) and (power_level[hero] < 90)):          # If power level of the hero is between 35000 and 70000\n",
    "        Peak_Human.append(hero)                                             # Append that hero to Peak_Human list\n",
    "         \n",
    "print('God_Like: ', God_Like)\n",
    "print('Super_Strong: ', Super_Strong)\n",
    "print('Strong: ', Strong)\n",
    "print('Peak_Human: ', Peak_Human)"
   ]
  },
  {
   "cell_type": "code",
   "execution_count": 154,
   "id": "6236ee6e",
   "metadata": {},
   "outputs": [
    {
     "name": "stdout",
     "output_type": "stream",
     "text": [
      "['Lemon', 'Grapes', 'Kiwi', 'Orange', 'Limes']\n"
     ]
    }
   ],
   "source": [
    "fruits = (('Lemon','sour'),\n",
    "          ('DragonFruit', 'Sweet'),\n",
    "          ('Grapes','soUr'),\n",
    "          ('Kiwi','Sour'),\n",
    "          ('Apples','sweet'),\n",
    "          ('Orange','sour'),\n",
    "          ('Blueberries','sweet'),\n",
    "          ('Limes','Sour')\n",
    "          )\n",
    "\n",
    "sour_fruits = []\n",
    "\n",
    "for fruit in fruits:\n",
    "    if fruit[1].lower() == 'sour':\n",
    "        sour_fruits.append(fruit[0])\n",
    "\n",
    "print(sour_fruits)"
   ]
  },
  {
   "cell_type": "code",
   "execution_count": 155,
   "id": "df83db4e",
   "metadata": {},
   "outputs": [
    {
     "name": "stdout",
     "output_type": "stream",
     "text": [
      "A \n",
      "B C \n",
      "D E F \n",
      "G H I J \n",
      "K L M N O \n",
      "P Q R S T U \n"
     ]
    }
   ],
   "source": [
    "n = 6\n",
    "char = ord('A')\n",
    "for i in range(1, n + 1):\n",
    "    for j in range(i):\n",
    "        print(chr(char), end = \" \")\n",
    "        char += 1\n",
    "    print()"
   ]
  },
  {
   "cell_type": "code",
   "execution_count": 156,
   "id": "3217d7f2",
   "metadata": {},
   "outputs": [
    {
     "name": "stdout",
     "output_type": "stream",
     "text": [
      "(2.0, 2.0, 2.0, 3.0)\n"
     ]
    }
   ],
   "source": [
    "tuple1 = (10, 4, 6, 9)\n",
    "tuple2 = (5, 2, 3, 3)\n",
    "result = tuple(a/b for a,b in zip(tuple1,tuple2))\n",
    "print(result)"
   ]
  },
  {
   "cell_type": "code",
   "execution_count": 157,
   "id": "84805930",
   "metadata": {},
   "outputs": [
    {
     "name": "stdout",
     "output_type": "stream",
     "text": [
      "(2, 2, 2, 3)\n"
     ]
    }
   ],
   "source": [
    "tuple1 = (10, 4, 6, 9)\n",
    "tuple2 = (5, 2, 3, 3)\n",
    "result = tuple(a//b for a,b in zip(tuple1,tuple2))\n",
    "print(result)"
   ]
  },
  {
   "cell_type": "code",
   "execution_count": 158,
   "id": "4f28ddb8",
   "metadata": {},
   "outputs": [
    {
     "name": "stdout",
     "output_type": "stream",
     "text": [
      "['sky', 'sun', 'moon', 'star', 'mars']\n"
     ]
    }
   ],
   "source": [
    "astro = [['sky', 'sun', 'moon'], ['star', 'Jupiter', 'mars'], ['Jupiter', 'Neptune', 'Pluto']]\n",
    "short_words = [word for sublist in astro for word in sublist if len(word)<5]\n",
    "print(short_words)"
   ]
  },
  {
   "cell_type": "code",
   "execution_count": 159,
   "id": "ef185b61",
   "metadata": {},
   "outputs": [
    {
     "name": "stdout",
     "output_type": "stream",
     "text": [
      "['sky', 'sun', 'moon', 'star', 'mars']\n"
     ]
    }
   ],
   "source": [
    "astro = [['sky', 'sun', 'moon'], ['star', 'Jupiter', 'mars'], ['Jupiter', 'Neptune', 'Pluto']]\n",
    "short_words = []\n",
    "for sublist in astro:\n",
    "    for word in sublist:\n",
    "        if len(word) < 5:\n",
    "            short_words.append(word)\n",
    "print(short_words)"
   ]
  },
  {
   "cell_type": "code",
   "execution_count": 160,
   "id": "83326b58",
   "metadata": {},
   "outputs": [
    {
     "name": "stdout",
     "output_type": "stream",
     "text": [
      "Enter the range end: 3\n",
      "2 4 6 8 10 12 14 16 18 20 \n",
      "3 6 9 12 15 18 21 24 27 30 \n"
     ]
    }
   ],
   "source": [
    "range_end = int(input(\"Enter the range end: \"))\n",
    "for i in range(2, range_end+1):\n",
    "    for j in range(1, 11):\n",
    "        print(i*j, end=\" \")\n",
    "    print()"
   ]
  },
  {
   "cell_type": "code",
   "execution_count": 163,
   "id": "eef9761d",
   "metadata": {},
   "outputs": [
    {
     "name": "stdout",
     "output_type": "stream",
     "text": [
      "Enter a number in range: 3\n",
      "2  X  1  =  2\n",
      "2  X  2  =  4\n",
      "2  X  3  =  6\n",
      "2  X  4  =  8\n",
      "2  X  5  =  10\n",
      "2  X  6  =  12\n",
      "2  X  7  =  14\n",
      "2  X  8  =  16\n",
      "2  X  9  =  18\n",
      "2  X  10  =  20\n",
      "\n",
      "\n",
      "3  X  1  =  3\n",
      "3  X  2  =  6\n",
      "3  X  3  =  9\n",
      "3  X  4  =  12\n",
      "3  X  5  =  15\n",
      "3  X  6  =  18\n",
      "3  X  7  =  21\n",
      "3  X  8  =  24\n",
      "3  X  9  =  27\n",
      "3  X  10  =  30\n",
      "\n",
      "\n"
     ]
    }
   ],
   "source": [
    "range_num = int(input('Enter a number in range: '))\n",
    "\n",
    "for n in range(2 , range_num + 1):\n",
    "    for i in range(1,11):\n",
    "        print(n, ' X ', i, ' = ', n*i)\n",
    "    print(\"\\n\")"
   ]
  },
  {
   "cell_type": "code",
   "execution_count": 164,
   "id": "cde3db9a",
   "metadata": {},
   "outputs": [
    {
     "name": "stdout",
     "output_type": "stream",
     "text": [
      "(4, 5, 6, {'gfg': 1, 'is': 2, 'best': 3})\n"
     ]
    }
   ],
   "source": [
    "original_tuple = (4, 5, 6)\n",
    "new_dict = {'gfg': 1, 'is': 2, 'best': 3}\n",
    "new_tuple = original_tuple + (new_dict,)\n",
    "print(new_tuple)"
   ]
  },
  {
   "cell_type": "code",
   "execution_count": 165,
   "id": "f0f439d5",
   "metadata": {},
   "outputs": [
    {
     "name": "stdout",
     "output_type": "stream",
     "text": [
      "(4, 5, 6, 'gfg', 'is', 'best')\n"
     ]
    }
   ],
   "source": [
    "original_tuple = (4, 5, 6)\n",
    "new_dict = {'gfg': 1, 'is': 2, 'best': 3}\n",
    "new_tuple = original_tuple + tuple(new_dict)\n",
    "print(new_tuple)"
   ]
  },
  {
   "cell_type": "code",
   "execution_count": 167,
   "id": "a7853140",
   "metadata": {},
   "outputs": [
    {
     "name": "stdout",
     "output_type": "stream",
     "text": [
      "Enter the first string: shafeena\n",
      "Enter the second string: aneefahs\n",
      "The strings are anagrams.\n"
     ]
    }
   ],
   "source": [
    "string1 = input(\"Enter the first string: \")\n",
    "string2 = input(\"Enter the second string: \")\n",
    "if sorted(string1) == sorted(string2):\n",
    "    print(\"The strings are anagrams.\")\n",
    "else:\n",
    "    print(\"The strings are not anagrams.\")"
   ]
  },
  {
   "cell_type": "code",
   "execution_count": 168,
   "id": "802d8ce0",
   "metadata": {},
   "outputs": [
    {
     "name": "stdout",
     "output_type": "stream",
     "text": [
      "Enter the first string: shafeena\n",
      "Enter the second string: farheen\n",
      "The strings are not anagrams.\n"
     ]
    }
   ],
   "source": [
    "from collections import Counter\n",
    "string1 = input(\"Enter the first string: \")\n",
    "string2 = input(\"Enter the second string: \")\n",
    "if Counter(string1) == Counter(string2):\n",
    "    print(\"The strings are anagrams.\")\n",
    "else:\n",
    "    print(\"The strings are not anagrams.\")"
   ]
  },
  {
   "cell_type": "code",
   "execution_count": 169,
   "id": "208fc956",
   "metadata": {},
   "outputs": [
    {
     "name": "stdout",
     "output_type": "stream",
     "text": [
      "{'Fruits01': 'Apple', 'Fruits02': 'Orange', 'Fruits03': 'Grapes'}\n"
     ]
    }
   ],
   "source": [
    "fruity = {'Fruits 01' : 'Apple', 'Fruits 02' : 'Orange', 'Fruits 0 3 ': 'Grapes'}\n",
    "new_fruity = {k.replace(\" \",\"\"):v for k,v in fruity.items()}\n",
    "print(new_fruity)"
   ]
  },
  {
   "cell_type": "code",
   "execution_count": 170,
   "id": "62c3f05b",
   "metadata": {},
   "outputs": [
    {
     "name": "stdout",
     "output_type": "stream",
     "text": [
      "{'Fruits01': 'Apple', 'Fruits02': 'Orange', 'Fruits03': 'Grapes'}\n"
     ]
    }
   ],
   "source": [
    "fruity = {'Fruits 01' : 'Apple', 'Fruits 02' : 'Orange', 'Fruits 0 3 ': 'Grapes'}\n",
    "new_fruity = {}\n",
    "for k, v in fruity.items():\n",
    "    k = k.replace(\" \",\"\")\n",
    "    new_fruity[k] = v\n",
    "print(new_fruity)"
   ]
  },
  {
   "cell_type": "code",
   "execution_count": 171,
   "id": "475e7865",
   "metadata": {},
   "outputs": [
    {
     "name": "stdout",
     "output_type": "stream",
     "text": [
      "{'Fruits01': 'Apple', 'Fruits02': 'Orange', 'Fruits03': 'Grapes'}\n"
     ]
    }
   ],
   "source": [
    "fruity = {'Fruits 01' : 'Apple', 'Fruits 02' : 'Orange', 'Fruits 0 3 ': 'Grapes'}\n",
    "new_fruity = dict([(k.replace(\" \",\"\"), v) for k, v in fruity.items()])\n",
    "print(new_fruity)"
   ]
  },
  {
   "cell_type": "code",
   "execution_count": null,
   "id": "3fb61841",
   "metadata": {},
   "outputs": [],
   "source": [
    "fruity = {'Fruits 01' : 'Apple', 'Fruits 02' : 'Orange', 'Fruits 0 3 ': 'Grapes'}\n",
    "new_fruity = dict(map(lambda item: (item[0].replace(\" \",\"\"), item[1]), fruity.items()))\n",
    "print(new_fruity)"
   ]
  },
  {
   "cell_type": "code",
   "execution_count": 173,
   "id": "0f80454e",
   "metadata": {},
   "outputs": [
    {
     "name": "stdout",
     "output_type": "stream",
     "text": [
      "{'Fruits01': None, 'Fruits02': None, 'Fruits03': None}\n"
     ]
    }
   ],
   "source": [
    "fruity = {'Fruits 01' : 'Apple', 'Fruits 02' : 'Orange', 'Fruits 0 3 ': 'Grapes'}\n",
    "fruity_keys = fruity.keys()\n",
    "fruity_keys = [key.replace(\" \",\"\") for key in fruity_keys]\n",
    "fruity.update(dict.fromkeys(fruity_keys, None))\n",
    "new_fruity = dict((key, fruity[key]) for key in fruity_keys)\n",
    "print(new_fruity)"
   ]
  },
  {
   "cell_type": "code",
   "execution_count": 174,
   "id": "83208f0b",
   "metadata": {},
   "outputs": [
    {
     "name": "stdout",
     "output_type": "stream",
     "text": [
      "{}\n"
     ]
    }
   ],
   "source": [
    "fruits = {'apple': 1, 'banana': 2, 'orange': 3}\n",
    "fruits.clear()\n",
    "print(fruits) # {}"
   ]
  },
  {
   "cell_type": "code",
   "execution_count": 175,
   "id": "a5977631",
   "metadata": {},
   "outputs": [
    {
     "name": "stdout",
     "output_type": "stream",
     "text": [
      "{'apple': 1, 'banana': 2, 'orange': 3}\n",
      "{'apple': 4, 'banana': 2, 'orange': 3}\n"
     ]
    }
   ],
   "source": [
    "fruits = {'apple': 1, 'banana': 2, 'orange': 3}\n",
    "fruits_copy = fruits.copy()\n",
    "fruits_copy['apple'] = 4\n",
    "print(fruits) # {'apple': 1, 'banana': 2, 'orange': 3}\n",
    "print(fruits_copy) # {'apple': 4, 'banana': 2, 'orange': 3}"
   ]
  },
  {
   "cell_type": "markdown",
   "id": "ad2bd104",
   "metadata": {},
   "source": [
    "# dict.fromkeys(iterable, value): This function is used to create a new dictionary with keys from an iterable and values set to a specified value."
   ]
  },
  {
   "cell_type": "code",
   "execution_count": 176,
   "id": "85c8ebb3",
   "metadata": {},
   "outputs": [
    {
     "name": "stdout",
     "output_type": "stream",
     "text": [
      "{'apple': 0, 'banana': 0, 'orange': 0}\n"
     ]
    }
   ],
   "source": [
    "keys = ['apple', 'banana', 'orange']\n",
    "fruits = dict.fromkeys(keys, 0)\n",
    "print(fruits) # {'apple': 0, 'banana': 0, 'orange': 0}"
   ]
  },
  {
   "cell_type": "markdown",
   "id": "1c1fefff",
   "metadata": {},
   "source": [
    "# dict.get(key, default): This function is used to return the value of a specified key. If the key is not found, it returns a default value."
   ]
  },
  {
   "cell_type": "code",
   "execution_count": 177,
   "id": "2d2649bb",
   "metadata": {},
   "outputs": [
    {
     "name": "stdout",
     "output_type": "stream",
     "text": [
      "1\n",
      "Not found\n"
     ]
    }
   ],
   "source": [
    "fruits = {'apple': 1, 'banana': 2, 'orange': 3}\n",
    "print(fruits.get('apple')) # 1\n",
    "print(fruits.get('mango', 'Not found')) # Not found"
   ]
  },
  {
   "cell_type": "code",
   "execution_count": 178,
   "id": "06adde31",
   "metadata": {},
   "outputs": [
    {
     "name": "stdout",
     "output_type": "stream",
     "text": [
      "[[1, 3, 5, 7], [2, 4, 6, 8]]\n"
     ]
    }
   ],
   "source": [
    "matrix = [[1, 2], [3, 4], [5, 6], [7, 8]]\n",
    "transposed_matrix = [[row[i] for row in matrix] for i in range(len(matrix[0]))]\n",
    "print(transposed_matrix)"
   ]
  },
  {
   "cell_type": "code",
   "execution_count": 179,
   "id": "eea437cd",
   "metadata": {},
   "outputs": [
    {
     "name": "stdout",
     "output_type": "stream",
     "text": [
      "[[1, 3, 5, 7], [2, 4, 6, 8]]\n"
     ]
    }
   ],
   "source": [
    "matrix = [[1, 2], [3, 4], [5, 6], [7, 8]]\n",
    "transposed_matrix = list(map(list, zip(*matrix)))\n",
    "print(transposed_matrix)"
   ]
  },
  {
   "cell_type": "code",
   "execution_count": 180,
   "id": "ed386314",
   "metadata": {},
   "outputs": [
    {
     "name": "stdout",
     "output_type": "stream",
     "text": [
      "[[1 3 5 7]\n",
      " [2 4 6 8]]\n"
     ]
    }
   ],
   "source": [
    "import numpy as np\n",
    "matrix = [[1, 2], [3, 4], [5, 6], [7, 8]]\n",
    "transposed_matrix = np.transpose(matrix)\n",
    "print(transposed_matrix)"
   ]
  },
  {
   "cell_type": "code",
   "execution_count": 181,
   "id": "857bb9c7",
   "metadata": {},
   "outputs": [
    {
     "name": "stdout",
     "output_type": "stream",
     "text": [
      "[[1, 3, 5, 7], [2, 4, 6, 8]]\n"
     ]
    }
   ],
   "source": [
    "matrix = [[1, 2], [3, 4], [5, 6], [7, 8]]\n",
    "transposed_matrix = []\n",
    "for i in range(len(matrix[0])):\n",
    "    transposed_matrix.append([row[i] for row in matrix])\n",
    "print(transposed_matrix)"
   ]
  },
  {
   "cell_type": "code",
   "execution_count": 182,
   "id": "56a58eec",
   "metadata": {},
   "outputs": [
    {
     "name": "stdout",
     "output_type": "stream",
     "text": [
      "[[1, 2, 3], [1, 2, 3], [1, 2, 3], [1, 2, 3], [1, 2, 3]]\n"
     ]
    }
   ],
   "source": [
    "matrix = [[1, 2, 3] for i in range(5)]\n",
    "print(matrix)"
   ]
  },
  {
   "cell_type": "code",
   "execution_count": 183,
   "id": "f444824b",
   "metadata": {},
   "outputs": [
    {
     "name": "stdout",
     "output_type": "stream",
     "text": [
      "[[1, 2, 3], [1, 2, 3], [1, 2, 3], [1, 2, 3], [1, 2, 3]]\n"
     ]
    }
   ],
   "source": [
    "matrix = []\n",
    "for i in range(5):\n",
    "    matrix.append([1, 2, 3])\n",
    "print(matrix)"
   ]
  },
  {
   "cell_type": "code",
   "execution_count": 184,
   "id": "b845c595",
   "metadata": {},
   "outputs": [
    {
     "name": "stdout",
     "output_type": "stream",
     "text": [
      "[[1 2 3]\n",
      " [1 2 3]\n",
      " [1 2 3]\n",
      " [1 2 3]\n",
      " [1 2 3]]\n"
     ]
    }
   ],
   "source": [
    "import numpy as np\n",
    "matrix = np.full((5,3), [1, 2, 3])\n",
    "print(matrix)"
   ]
  },
  {
   "cell_type": "code",
   "execution_count": 185,
   "id": "7989267e",
   "metadata": {},
   "outputs": [
    {
     "name": "stdout",
     "output_type": "stream",
     "text": [
      "['TRUE', 'FALSE', 'TRUE', 'TRUE', 'FALSE', 'FALSE', 'TRUE']\n"
     ]
    }
   ],
   "source": [
    "lsbool = ['True','FALse','tRUe','tRue','False','faLse','True']\n",
    "result = list(map(lambda x: x.upper(), lsbool))\n",
    "print(result)"
   ]
  },
  {
   "cell_type": "code",
   "execution_count": 186,
   "id": "a6e253ef",
   "metadata": {},
   "outputs": [
    {
     "name": "stdout",
     "output_type": "stream",
     "text": [
      "['TRUE', 'FALSE', 'TRUE', 'TRUE', 'FALSE', 'FALSE', 'TRUE']\n"
     ]
    }
   ],
   "source": [
    "lsbool = ['True','FALse','tRUe','tRue','False','faLse','True']\n",
    "result = [x.upper() for x in lsbool]\n",
    "print(result)"
   ]
  },
  {
   "cell_type": "code",
   "execution_count": 187,
   "id": "2dd5b4c0",
   "metadata": {},
   "outputs": [
    {
     "name": "stdout",
     "output_type": "stream",
     "text": [
      "['TRUE', 'FALSE', 'TRUE', 'TRUE', 'FALSE', 'FALSE', 'TRUE']\n"
     ]
    }
   ],
   "source": [
    "lsbool = ['True','FALse','tRUe','tRue','False','faLse','True']\n",
    "result = []\n",
    "for x in lsbool:\n",
    "    result.append(x.upper())\n",
    "print(result)"
   ]
  },
  {
   "cell_type": "code",
   "execution_count": 188,
   "id": "bc7859a2",
   "metadata": {},
   "outputs": [
    {
     "name": "stdout",
     "output_type": "stream",
     "text": [
      "dict_items([('apple', 1), ('banana', 2), ('orange', 3)])\n"
     ]
    }
   ],
   "source": [
    "fruits = {'apple':1, 'banana':2, 'orange':3}\n",
    "print(fruits.items())"
   ]
  },
  {
   "cell_type": "code",
   "execution_count": 189,
   "id": "61642ab5",
   "metadata": {},
   "outputs": [
    {
     "name": "stdout",
     "output_type": "stream",
     "text": [
      "dict_keys(['apple', 'banana', 'orange'])\n"
     ]
    }
   ],
   "source": [
    "fruits = {'apple':1, 'banana':2, 'orange':3}\n",
    "print(fruits.keys())"
   ]
  },
  {
   "cell_type": "code",
   "execution_count": 190,
   "id": "5005f90d",
   "metadata": {},
   "outputs": [
    {
     "name": "stdout",
     "output_type": "stream",
     "text": [
      "dict_values([1, 2, 3])\n"
     ]
    }
   ],
   "source": [
    "fruits = {'apple':1, 'banana':2, 'orange':3}\n",
    "print(fruits.values())"
   ]
  },
  {
   "cell_type": "code",
   "execution_count": 191,
   "id": "d9928bc4",
   "metadata": {},
   "outputs": [
    {
     "name": "stdout",
     "output_type": "stream",
     "text": [
      "2\n"
     ]
    }
   ],
   "source": [
    "fruits = {'apple':1, 'banana':2, 'orange':3}\n",
    "print(fruits.pop('banana', 'Key not found'))"
   ]
  },
  {
   "cell_type": "code",
   "execution_count": 192,
   "id": "73879eeb",
   "metadata": {},
   "outputs": [
    {
     "name": "stdout",
     "output_type": "stream",
     "text": [
      "('orange', 3)\n"
     ]
    }
   ],
   "source": [
    "fruits = {'apple':1, 'banana':2, 'orange':3}\n",
    "print(fruits.popitem())"
   ]
  },
  {
   "cell_type": "code",
   "execution_count": 194,
   "id": "8118b916",
   "metadata": {},
   "outputs": [
    {
     "name": "stdout",
     "output_type": "stream",
     "text": [
      "['apple', 'banana', 'orange', 'kiwi']\n"
     ]
    }
   ],
   "source": [
    "fruits = ['apple', 'banana', 'orange']\n",
    "fruits.append('kiwi')\n",
    "print(fruits)"
   ]
  },
  {
   "cell_type": "code",
   "execution_count": 195,
   "id": "fff9397c",
   "metadata": {},
   "outputs": [
    {
     "name": "stdout",
     "output_type": "stream",
     "text": [
      "['apple', 'banana', 'orange', 'kiwi', 'mango']\n"
     ]
    }
   ],
   "source": [
    "fruits = ['apple', 'banana', 'orange']\n",
    "more_fruits = ['kiwi', 'mango']\n",
    "fruits.extend(more_fruits)\n",
    "print(fruits)"
   ]
  },
  {
   "cell_type": "code",
   "execution_count": 196,
   "id": "f913a4b6",
   "metadata": {},
   "outputs": [
    {
     "name": "stdout",
     "output_type": "stream",
     "text": [
      "['apple', 'kiwi', 'banana', 'orange']\n"
     ]
    }
   ],
   "source": [
    "fruits = ['apple', 'banana', 'orange']\n",
    "fruits.insert(1, 'kiwi')\n",
    "print(fruits)"
   ]
  },
  {
   "cell_type": "code",
   "execution_count": 197,
   "id": "f8d32d03",
   "metadata": {},
   "outputs": [
    {
     "name": "stdout",
     "output_type": "stream",
     "text": [
      "['apple', 'orange', 'banana']\n"
     ]
    }
   ],
   "source": [
    "fruits = ['apple', 'banana', 'orange', 'banana']\n",
    "fruits.remove('banana')\n",
    "print(fruits)"
   ]
  },
  {
   "cell_type": "code",
   "execution_count": 198,
   "id": "90f96444",
   "metadata": {},
   "outputs": [
    {
     "name": "stdout",
     "output_type": "stream",
     "text": [
      "['apple', 'banana']\n"
     ]
    }
   ],
   "source": [
    "fruits = ['apple', 'banana', 'orange']\n",
    "fruits.pop()\n",
    "print(fruits)"
   ]
  },
  {
   "cell_type": "code",
   "execution_count": 199,
   "id": "6df3baec",
   "metadata": {},
   "outputs": [
    {
     "name": "stdout",
     "output_type": "stream",
     "text": [
      "1\n"
     ]
    }
   ],
   "source": [
    "fruits = ['apple', 'banana', 'orange', 'banana']\n",
    "print(fruits.index('banana'))"
   ]
  },
  {
   "cell_type": "code",
   "execution_count": 200,
   "id": "40bea82d",
   "metadata": {},
   "outputs": [
    {
     "name": "stdout",
     "output_type": "stream",
     "text": [
      "2\n"
     ]
    }
   ],
   "source": [
    "fruits = ['apple', 'banana', 'orange', 'banana']\n",
    "print(fruits.count('banana'))"
   ]
  },
  {
   "cell_type": "code",
   "execution_count": 201,
   "id": "161ffa00",
   "metadata": {},
   "outputs": [
    {
     "name": "stdout",
     "output_type": "stream",
     "text": [
      "['orange', 'banana', 'apple']\n"
     ]
    }
   ],
   "source": [
    "fruits = ['apple', 'banana', 'orange']\n",
    "fruits.reverse()\n",
    "print(fruits)"
   ]
  },
  {
   "cell_type": "code",
   "execution_count": 202,
   "id": "1483bc8f",
   "metadata": {},
   "outputs": [
    {
     "name": "stdout",
     "output_type": "stream",
     "text": [
      "[1, 2, 3, 4, 5]\n"
     ]
    }
   ],
   "source": [
    "numbers = [3, 1, 4, 2, 5]\n",
    "numbers.sort()\n",
    "print(numbers)"
   ]
  },
  {
   "cell_type": "code",
   "execution_count": 203,
   "id": "323011d7",
   "metadata": {},
   "outputs": [
    {
     "name": "stdout",
     "output_type": "stream",
     "text": [
      "[1, 2, 3, 4, 5]\n"
     ]
    }
   ],
   "source": [
    "numbers = [3, 1, 4, 2, 5]\n",
    "sorted_numbers = sorted(numbers)\n",
    "print(sorted_numbers)"
   ]
  },
  {
   "cell_type": "code",
   "execution_count": 204,
   "id": "77bbba97",
   "metadata": {},
   "outputs": [
    {
     "name": "stdout",
     "output_type": "stream",
     "text": [
      "[4, 5, 6, 7]\n"
     ]
    }
   ],
   "source": [
    "numbers = [1, 2, 3, 4, 5, 6, 7, 8, 9, 10]\n",
    "print(numbers[3:7])"
   ]
  },
  {
   "cell_type": "code",
   "execution_count": 207,
   "id": "2eaf1427",
   "metadata": {},
   "outputs": [
    {
     "name": "stdout",
     "output_type": "stream",
     "text": [
      "3\n"
     ]
    }
   ],
   "source": [
    "fruits = ['apple', 'banana', 'orange']\n",
    "print(len(fruits))"
   ]
  },
  {
   "cell_type": "code",
   "execution_count": 208,
   "id": "839e6ad8",
   "metadata": {},
   "outputs": [
    {
     "name": "stdout",
     "output_type": "stream",
     "text": [
      "5\n"
     ]
    }
   ],
   "source": [
    "numbers = [1, 2, 3, 4, 5]\n",
    "print(max(numbers))"
   ]
  },
  {
   "cell_type": "code",
   "execution_count": 209,
   "id": "df1519e5",
   "metadata": {},
   "outputs": [
    {
     "name": "stdout",
     "output_type": "stream",
     "text": [
      "1\n"
     ]
    }
   ],
   "source": [
    "numbers = [1, 2, 3, 4, 5]\n",
    "print(min(numbers))"
   ]
  },
  {
   "cell_type": "code",
   "execution_count": 210,
   "id": "b1c1b7e9",
   "metadata": {},
   "outputs": [
    {
     "name": "stdout",
     "output_type": "stream",
     "text": [
      "15\n"
     ]
    }
   ],
   "source": [
    "numbers = [1, 2, 3, 4, 5]\n",
    "total = 0\n",
    "for num in numbers:\n",
    "    total += num\n",
    "print(total)"
   ]
  },
  {
   "cell_type": "code",
   "execution_count": 212,
   "id": "020d394f",
   "metadata": {},
   "outputs": [
    {
     "name": "stdout",
     "output_type": "stream",
     "text": [
      "15\n"
     ]
    }
   ],
   "source": [
    "import builtins\n",
    "numbers = [1, 2, 3, 4, 5]\n",
    "print(builtins.sum(numbers))"
   ]
  },
  {
   "cell_type": "code",
   "execution_count": 213,
   "id": "7427f114",
   "metadata": {},
   "outputs": [
    {
     "name": "stdout",
     "output_type": "stream",
     "text": [
      "apple\n",
      "orange\n",
      "['apple', 'mango', 'orange']\n",
      "['apple', 'mango', 'orange', 'kiwi']\n",
      "['apple', 'mango', 'kiwi']\n",
      "['apple', 'kiwi', 'mango']\n",
      "3\n"
     ]
    }
   ],
   "source": [
    "# Creating a 1-dimensional list\n",
    "fruits = ['apple', 'banana', 'orange']\n",
    "\n",
    "# Accessing elements in the list\n",
    "print(fruits[0]) # Output: 'apple'\n",
    "print(fruits[2]) # Output: 'orange'\n",
    "\n",
    "# Modifying elements in the list\n",
    "fruits[1] = 'mango'\n",
    "print(fruits) # Output: ['apple', 'mango', 'orange']\n",
    "\n",
    "# Adding elements to the list\n",
    "fruits.append('kiwi')\n",
    "print(fruits) # Output: ['apple', 'mango', 'orange', 'kiwi']\n",
    "\n",
    "# Removing elements from the list\n",
    "fruits.remove('orange')\n",
    "print(fruits) # Output: ['apple', 'mango', 'kiwi']\n",
    "\n",
    "# Sorting the list\n",
    "fruits.sort()\n",
    "print(fruits) # Output: ['apple', 'kiwi', 'mango']\n",
    "\n",
    "# Finding the length of the list\n",
    "print(len(fruits)) # Output: 3"
   ]
  },
  {
   "cell_type": "code",
   "execution_count": 214,
   "id": "801fe18a",
   "metadata": {},
   "outputs": [
    {
     "name": "stdout",
     "output_type": "stream",
     "text": [
      "['apple', 'pear', 'banana', 'orange']\n"
     ]
    }
   ],
   "source": [
    "fruits = ['apple', 'banana', 'orange']\n",
    "fruits.insert(1, 'pear')\n",
    "print(fruits) # Output: ['apple', 'pear', 'banana', 'orange']"
   ]
  },
  {
   "cell_type": "code",
   "execution_count": 215,
   "id": "7ac562de",
   "metadata": {},
   "outputs": [
    {
     "name": "stdout",
     "output_type": "stream",
     "text": [
      "['apple', 'orange']\n"
     ]
    }
   ],
   "source": [
    "fruits = ['apple', 'banana', 'orange']\n",
    "del fruits[1]\n",
    "print(fruits) # Output: ['apple', 'orange']"
   ]
  },
  {
   "cell_type": "code",
   "execution_count": 216,
   "id": "59143310",
   "metadata": {},
   "outputs": [
    {
     "name": "stdout",
     "output_type": "stream",
     "text": [
      "['orange', 'banana', 'apple']\n"
     ]
    }
   ],
   "source": [
    "fruits = ['apple', 'banana', 'orange']\n",
    "fruits.reverse()\n",
    "print(fruits) # Output: ['orange', 'banana', 'apple']"
   ]
  },
  {
   "cell_type": "code",
   "execution_count": 217,
   "id": "62e7e550",
   "metadata": {},
   "outputs": [
    {
     "name": "stdout",
     "output_type": "stream",
     "text": [
      "2\n"
     ]
    }
   ],
   "source": [
    "fruits = ['apple', 'banana', 'orange', 'apple', 'orange']\n",
    "print(fruits.count('apple')) # Output: 2"
   ]
  },
  {
   "cell_type": "code",
   "execution_count": 218,
   "id": "0a904dc9",
   "metadata": {},
   "outputs": [
    {
     "name": "stdout",
     "output_type": "stream",
     "text": [
      "True\n",
      "False\n"
     ]
    }
   ],
   "source": [
    "fruits = ['apple', 'banana', 'orange']\n",
    "print('apple' in fruits) # Output: True\n",
    "print('mango' in fruits) # Output: False"
   ]
  },
  {
   "cell_type": "code",
   "execution_count": 219,
   "id": "c6450837",
   "metadata": {},
   "outputs": [
    {
     "name": "stdout",
     "output_type": "stream",
     "text": [
      "apple\n",
      "banana\n",
      "orange\n"
     ]
    }
   ],
   "source": [
    "fruits = ['apple', 'banana', 'orange']\n",
    "for fruit in fruits:\n",
    "    print(fruit)\n",
    "# Output:\n",
    "# apple\n",
    "# banana\n",
    "# orange"
   ]
  },
  {
   "cell_type": "code",
   "execution_count": 220,
   "id": "c58064b7",
   "metadata": {},
   "outputs": [
    {
     "name": "stdout",
     "output_type": "stream",
     "text": [
      "[1, 4, 9, 16, 25]\n"
     ]
    }
   ],
   "source": [
    "numbers = [1, 2, 3, 4, 5]\n",
    "squared_numbers = [num ** 2 for num in numbers]\n",
    "print(squared_numbers) # Output: [1, 4, 9, 16, 25]"
   ]
  },
  {
   "cell_type": "code",
   "execution_count": 221,
   "id": "c8ed3b5f",
   "metadata": {},
   "outputs": [
    {
     "name": "stdout",
     "output_type": "stream",
     "text": [
      "[2, 4]\n"
     ]
    }
   ],
   "source": [
    "numbers = [1, 2, 3, 4, 5]\n",
    "even_numbers = list(filter(lambda x: x % 2 == 0, numbers))\n",
    "print(even_numbers) # Output: [2, 4]"
   ]
  },
  {
   "cell_type": "code",
   "execution_count": 222,
   "id": "cdfac839",
   "metadata": {},
   "outputs": [
    {
     "name": "stdout",
     "output_type": "stream",
     "text": [
      "[1, 4, 9, 16, 25]\n"
     ]
    }
   ],
   "source": [
    "numbers = [1, 2, 3, 4, 5]\n",
    "squared_numbers = list(map(lambda x: x ** 2, numbers))\n",
    "print(squared_numbers) # Output: [1, 4, 9, 16, 25]"
   ]
  },
  {
   "cell_type": "code",
   "execution_count": 223,
   "id": "eb7e4299",
   "metadata": {},
   "outputs": [
    {
     "name": "stdout",
     "output_type": "stream",
     "text": [
      "120\n"
     ]
    }
   ],
   "source": [
    "from functools import reduce\n",
    "numbers = [1, 2, 3, 4, 5]\n",
    "product = reduce(lambda x, y: x * y, numbers)\n",
    "print(product) # Output: 120"
   ]
  },
  {
   "cell_type": "code",
   "execution_count": 224,
   "id": "91addfe5",
   "metadata": {},
   "outputs": [
    {
     "name": "stdout",
     "output_type": "stream",
     "text": [
      "True\n"
     ]
    }
   ],
   "source": [
    "numbers = [1, 2, 3, 4, 5]\n",
    "has_even_numbers = any(x % 2 == 0 for x in numbers)\n",
    "print(has_even_numbers) # Output: True"
   ]
  },
  {
   "cell_type": "code",
   "execution_count": 225,
   "id": "371dad1f",
   "metadata": {},
   "outputs": [
    {
     "name": "stdout",
     "output_type": "stream",
     "text": [
      "[[1, 2, 3], [4, 5, 6], [7, 8, 9]]\n"
     ]
    }
   ],
   "source": [
    "matrix = [[1, 2, 3], [4, 5, 6], [7, 8, 9]]\n",
    "print(matrix)\n",
    "# Output: [[1, 2, 3], [4, 5, 6], [7, 8, 9]]"
   ]
  },
  {
   "cell_type": "code",
   "execution_count": 226,
   "id": "ba99f859",
   "metadata": {},
   "outputs": [
    {
     "name": "stdout",
     "output_type": "stream",
     "text": [
      "6\n"
     ]
    }
   ],
   "source": [
    "matrix = [[1, 2, 3], [4, 5, 6], [7, 8, 9]]\n",
    "print(matrix[1][2]) # Output: 6"
   ]
  },
  {
   "cell_type": "code",
   "execution_count": 227,
   "id": "eb313901",
   "metadata": {},
   "outputs": [
    {
     "name": "stdout",
     "output_type": "stream",
     "text": [
      "[[1, 2, 3], [4, 10, 6], [7, 8, 9]]\n"
     ]
    }
   ],
   "source": [
    "matrix = [[1, 2, 3], [4, 5, 6], [7, 8, 9]]\n",
    "matrix[1][1] = 10\n",
    "print(matrix)\n",
    "# Output: [[1, 2, 3], [4, 10, 6], [7, 8, 9]]"
   ]
  },
  {
   "cell_type": "code",
   "execution_count": 228,
   "id": "17717a04",
   "metadata": {},
   "outputs": [
    {
     "name": "stdout",
     "output_type": "stream",
     "text": [
      "1\n",
      "2\n",
      "3\n",
      "4\n",
      "5\n",
      "6\n",
      "7\n",
      "8\n",
      "9\n"
     ]
    }
   ],
   "source": [
    "matrix = [[1, 2, 3], [4, 5, 6], [7, 8, 9]]\n",
    "for row in matrix:\n",
    "    for element in row:\n",
    "        print(element)\n",
    "# Output: 1 2 3 4 5 6 7 8 9"
   ]
  },
  {
   "cell_type": "code",
   "execution_count": 229,
   "id": "ee1aa7b9",
   "metadata": {},
   "outputs": [
    {
     "name": "stdout",
     "output_type": "stream",
     "text": [
      "[[1, 4, 9], [16, 25, 36], [49, 64, 81]]\n"
     ]
    }
   ],
   "source": [
    "matrix = [[1, 2, 3], [4, 5, 6], [7, 8, 9]]\n",
    "squared_matrix = [[element ** 2 for element in row] for row in matrix]\n",
    "print(squared_matrix)\n",
    "# Output: [[1, 4, 9], [16, 25, 36], [49, 64, 81]]"
   ]
  },
  {
   "cell_type": "code",
   "execution_count": 230,
   "id": "fe2efb2f",
   "metadata": {},
   "outputs": [
    {
     "name": "stdout",
     "output_type": "stream",
     "text": [
      "[[1, 4, 7], [2, 5, 8], [3, 6, 9]]\n"
     ]
    }
   ],
   "source": [
    "matrix = [[1, 2, 3], [4, 5, 6], [7, 8, 9]]\n",
    "transposed_matrix = list(map(list, zip(*matrix)))\n",
    "print(transposed_matrix)\n",
    "# Output: [[1, 4, 7], [2, 5, 8], [3, 6, 9]]"
   ]
  },
  {
   "cell_type": "code",
   "execution_count": 231,
   "id": "59a17f11",
   "metadata": {},
   "outputs": [
    {
     "name": "stdout",
     "output_type": "stream",
     "text": [
      "Number of rows:  3\n",
      "Number of columns:  3\n"
     ]
    }
   ],
   "source": [
    "matrix = [[1, 2, 3], [4, 5, 6], [7, 8, 9]]\n",
    "num_rows = len(matrix)\n",
    "num_cols = len(matrix[0])\n",
    "print(\"Number of rows: \", num_rows) # Output: 3\n",
    "print(\"Number of columns: \", num_cols) # Output: 3"
   ]
  },
  {
   "cell_type": "code",
   "execution_count": 232,
   "id": "906e31ab",
   "metadata": {},
   "outputs": [
    {
     "name": "stdout",
     "output_type": "stream",
     "text": [
      "Element at ( 0 , 0 ) : 1\n",
      "Element at ( 0 , 1 ) : 2\n",
      "Element at ( 0 , 2 ) : 3\n",
      "Element at ( 1 , 0 ) : 4\n",
      "Element at ( 1 , 1 ) : 5\n",
      "Element at ( 1 , 2 ) : 6\n",
      "Element at ( 2 , 0 ) : 7\n",
      "Element at ( 2 , 1 ) : 8\n",
      "Element at ( 2 , 2 ) : 9\n"
     ]
    }
   ],
   "source": [
    "matrix = [[1, 2, 3], [4, 5, 6], [7, 8, 9]]\n",
    "for i, row in enumerate(matrix):\n",
    "    for j, element in enumerate(row):\n",
    "        print(\"Element at (\", i, \",\", j, \") :\", element)"
   ]
  },
  {
   "cell_type": "code",
   "execution_count": 233,
   "id": "fe2330bb",
   "metadata": {},
   "outputs": [
    {
     "name": "stdout",
     "output_type": "stream",
     "text": [
      "[[1, 2, 3], [7, 8, 9]]\n"
     ]
    }
   ],
   "source": [
    "matrix = [[1, 2, 3], [4, 5, 6], [7, 8, 9]]\n",
    "del matrix[1] # remove the second row\n",
    "print(matrix) # Output: [[1, 2, 3], [7, 8, 9]]"
   ]
  },
  {
   "cell_type": "code",
   "execution_count": 234,
   "id": "7eee91b6",
   "metadata": {},
   "outputs": [
    {
     "name": "stdout",
     "output_type": "stream",
     "text": [
      "[[1, 2, 3], [4, 5, 6, 10, 11], [7, 8, 9]]\n"
     ]
    }
   ],
   "source": [
    "matrix = [[1, 2, 3], [4, 5, 6], [7, 8, 9]]\n",
    "matrix[1].extend([10, 11]) # add [10, 11] to the second row\n",
    "print(matrix) # Output: [[1, 2, 3], [4, 5, 6, 10, 11], ["
   ]
  },
  {
   "cell_type": "code",
   "execution_count": 235,
   "id": "fb9f5fad",
   "metadata": {},
   "outputs": [
    {
     "name": "stdout",
     "output_type": "stream",
     "text": [
      "[2, 4, 6, 8, 10]\n"
     ]
    }
   ],
   "source": [
    "numbers = [1, 2, 3, 4, 5, 6, 7, 8, 9, 10]\n",
    "even_numbers = list(filter(lambda x: x % 2 == 0, numbers))\n",
    "print(even_numbers) # Output: [2, 4, 6, 8, 10]"
   ]
  },
  {
   "cell_type": "code",
   "execution_count": 236,
   "id": "5fec4144",
   "metadata": {},
   "outputs": [
    {
     "name": "stdout",
     "output_type": "stream",
     "text": [
      "[1, 4, 9, 16, 25, 36, 49, 64, 81, 100]\n"
     ]
    }
   ],
   "source": [
    "numbers = [1, 2, 3, 4, 5, 6, 7, 8, 9, 10]\n",
    "squared_numbers = list(map(lambda x: x ** 2, numbers))\n",
    "print(squared_numbers) # Output: [1, 4, 9, 16, 25, 36, 49, 64, 81, 100]"
   ]
  },
  {
   "cell_type": "code",
   "execution_count": 237,
   "id": "c48cec48",
   "metadata": {},
   "outputs": [
    {
     "name": "stdout",
     "output_type": "stream",
     "text": [
      "15\n"
     ]
    }
   ],
   "source": [
    "from functools import reduce\n",
    "numbers = [1, 2, 3, 4, 5]\n",
    "sum_of_numbers = reduce(lambda x, y: x + y, numbers)\n",
    "print(sum_of_numbers) # Output: 15"
   ]
  },
  {
   "cell_type": "code",
   "execution_count": 238,
   "id": "d58f1d9a",
   "metadata": {},
   "outputs": [
    {
     "name": "stdout",
     "output_type": "stream",
     "text": [
      "[3, 4, 5]\n"
     ]
    }
   ],
   "source": [
    "numbers = [1, 2, 3, 4, 5]\n",
    "greater_than_two = list(filter(lambda x: x > 2, numbers))\n",
    "print(greater_than_two) # Output: [3, 4, 5]"
   ]
  },
  {
   "cell_type": "code",
   "execution_count": 239,
   "id": "c9b9921c",
   "metadata": {},
   "outputs": [
    {
     "name": "stdout",
     "output_type": "stream",
     "text": [
      "[('Alice', 25, 'HR'), ('Bob', 30, 'IT'), ('Charlie', 35, 'Finance')]\n"
     ]
    }
   ],
   "source": [
    "employees = [(\"Alice\", 25, \"HR\"), (\"Bob\", 30, \"IT\"), (\"Charlie\", 35, \"Finance\")]\n",
    "employees.sort(key=lambda x: x[1])\n",
    "print(employees) # Output: [(\"Alice\", 25, \"HR\"), (\"Bob\", 30, \"IT\"), (\"Charlie\", 35, \"Finance\")]"
   ]
  },
  {
   "cell_type": "code",
   "execution_count": 241,
   "id": "8cdb8ee1",
   "metadata": {},
   "outputs": [
    {
     "name": "stdout",
     "output_type": "stream",
     "text": [
      "5\n"
     ]
    }
   ],
   "source": [
    "numbers = [1, 2, 3, 4, 5]\n",
    "print(max(numbers, key=lambda x: x ** 2)) # Output: 5"
   ]
  },
  {
   "cell_type": "code",
   "execution_count": 242,
   "id": "019a47a7",
   "metadata": {},
   "outputs": [
    {
     "name": "stdout",
     "output_type": "stream",
     "text": [
      "['banana', 'cherry']\n"
     ]
    }
   ],
   "source": [
    "words = [\"apple\", \"banana\", \"cherry\", \"date\"]\n",
    "long_words = list(filter(lambda x: len(x) > 5, words))\n",
    "print(long_words) # Output: [\"banana\", \"cherry\"]"
   ]
  },
  {
   "cell_type": "code",
   "execution_count": 243,
   "id": "2b7c1887",
   "metadata": {},
   "outputs": [
    {
     "name": "stdout",
     "output_type": "stream",
     "text": [
      "['APPLE', 'BANANA', 'CHERRY', 'DATE']\n"
     ]
    }
   ],
   "source": [
    "words = [\"apple\", \"banana\", \"cherry\", \"date\"]\n",
    "uppercase_words = list(map(lambda x: x.upper(), words))\n",
    "print(uppercase_words) # Output: [\"APPLE\", \"BANANA\", \"CHERRY\", \"DATE\"]"
   ]
  },
  {
   "cell_type": "code",
   "execution_count": 244,
   "id": "7783a4b0",
   "metadata": {},
   "outputs": [
    {
     "name": "stdout",
     "output_type": "stream",
     "text": [
      "120\n"
     ]
    }
   ],
   "source": [
    "from functools import reduce\n",
    "numbers = [1, 2, 3, 4, 5]\n",
    "product = reduce(lambda x, y: x * y, numbers)\n",
    "print(product) # Output: 120"
   ]
  },
  {
   "cell_type": "code",
   "execution_count": 245,
   "id": "e1754062",
   "metadata": {},
   "outputs": [
    {
     "name": "stdout",
     "output_type": "stream",
     "text": [
      "[{'name': 'Alice', 'age': 25}, {'name': 'Bob', 'age': 30}, {'name': 'Charlie', 'age': 35}]\n"
     ]
    }
   ],
   "source": [
    "data = [{\"name\": \"Alice\", \"age\": 25}, {\"name\": \"Bob\", \"age\": 30}, {\"name\": \"Charlie\", \"age\": 35}]\n",
    "adults = list(filter(lambda x: x[\"age\"] >= 21, data))\n",
    "print(adults) # Output: [{\"name\": \"Alice\", \"age\": 25}, {\"name\": \"Bob\", \"age\": 30}, {\"name\": \"Charlie\", \"age\": 35}]"
   ]
  },
  {
   "cell_type": "code",
   "execution_count": 246,
   "id": "b8f6a2ba",
   "metadata": {},
   "outputs": [
    {
     "name": "stdout",
     "output_type": "stream",
     "text": [
      "['Alice', 'Bob', 'Charlie']\n"
     ]
    }
   ],
   "source": [
    "data = [{\"name\": \"Alice\", \"age\": 25}, {\"name\": \"Bob\", \"age\": 30}, {\"name\": \"Charlie\", \"age\": 35}]\n",
    "names = list(map(lambda x: x[\"name\"], data))\n",
    "print(names) # Output: [\"Alice\", \"Bob\", \"Charlie\"]"
   ]
  },
  {
   "cell_type": "code",
   "execution_count": 247,
   "id": "cf782c19",
   "metadata": {},
   "outputs": [
    {
     "name": "stdout",
     "output_type": "stream",
     "text": [
      "15\n"
     ]
    }
   ],
   "source": [
    "from functools import reduce\n",
    "numbers = [1, 2, 3, 4, 5]\n",
    "sum = reduce(lambda x, y: x + y, numbers)\n",
    "print(sum) # Output: 15"
   ]
  },
  {
   "cell_type": "code",
   "execution_count": 248,
   "id": "ad57f72d",
   "metadata": {},
   "outputs": [
    {
     "name": "stdout",
     "output_type": "stream",
     "text": [
      "['date', 'apple', 'banana', 'cherry']\n"
     ]
    }
   ],
   "source": [
    "words = [\"apple\", \"banana\", \"cherry\", \"date\"]\n",
    "sorted_words = sorted(words, key=lambda x: len(x))\n",
    "print(sorted_words) # Output: [\"date\", \"cherry\", \"apple\", \"banana\"]"
   ]
  },
  {
   "cell_type": "code",
   "execution_count": 249,
   "id": "f177048e",
   "metadata": {},
   "outputs": [
    {
     "name": "stdout",
     "output_type": "stream",
     "text": [
      "True\n"
     ]
    }
   ],
   "source": [
    "numbers = [1, 2, 3, 4, 5]\n",
    "has_even = any(map(lambda x: x % 2 == 0, numbers))\n",
    "print(has_even) # Output: True"
   ]
  },
  {
   "cell_type": "code",
   "execution_count": 250,
   "id": "0ba1839b",
   "metadata": {},
   "outputs": [
    {
     "name": "stdout",
     "output_type": "stream",
     "text": [
      "[1, 0, 1, 1, 0, 0, 1]\n"
     ]
    }
   ],
   "source": [
    "lsbool = ['TRUE','FALSE','TRUE','TRUE','FALSE','FALSE','TRUE']\n",
    "lsbool = [1 if x=='TRUE' else 0 for x in lsbool]\n",
    "print(lsbool) # Output: [1, 0, 1, 1, 0, 0, 1]"
   ]
  },
  {
   "cell_type": "code",
   "execution_count": 251,
   "id": "6586d045",
   "metadata": {},
   "outputs": [
    {
     "name": "stdout",
     "output_type": "stream",
     "text": [
      "[1, 0, 1, 1, 0, 0, 1]\n"
     ]
    }
   ],
   "source": [
    "lsbool = ['TRUE','FALSE','TRUE','TRUE','FALSE','FALSE','TRUE']\n",
    "lsbool = list(map(lambda x: 1 if x=='TRUE' else 0, lsbool))\n",
    "print(lsbool) # Output: [1, 0, 1, 1, 0, 0, 1]"
   ]
  },
  {
   "cell_type": "code",
   "execution_count": 252,
   "id": "9f0afaa6",
   "metadata": {},
   "outputs": [
    {
     "name": "stdout",
     "output_type": "stream",
     "text": [
      "Enter a number: 2\n",
      "Square: 4\n",
      "Cube: 8\n",
      "Squareroot: 1.4142135623730951\n",
      "Double: 4\n",
      "Sum of all outputs: 17.414213562373096\n"
     ]
    }
   ],
   "source": [
    "# Create a dictionary containing lambda functions\n",
    "functions = {\n",
    "    'Square': lambda x: x**2,\n",
    "    'Cube': lambda x: x**3,\n",
    "    'Squareroot': lambda x: x**0.5,\n",
    "    'Double': lambda x: x*2\n",
    "}\n",
    "\n",
    "# Take input from user\n",
    "user_input = int(input(\"Enter a number: \"))\n",
    "\n",
    "# Initialize a variable to store the sum of all outputs\n",
    "output_sum = 0\n",
    "\n",
    "# Iterate over the dictionary and call each function with the user input\n",
    "for key, func in functions.items():\n",
    "    output = func(user_input)\n",
    "    print(f\"{key}: {output}\")\n",
    "    output_sum += output\n",
    "    #output_sum = functions['Square'](user_input) + functions['Cube'](user_input) \n",
    "    #+ functions['Squareroot'](user_input) + functions['Double'](user_input)\n",
    "\n",
    "\n",
    "# Print the sum of all outputs\n",
    "print(f\"Sum of all outputs: {output_sum}\")"
   ]
  },
  {
   "cell_type": "code",
   "execution_count": 254,
   "id": "18ff6d24",
   "metadata": {},
   "outputs": [
    {
     "name": "stdout",
     "output_type": "stream",
     "text": [
      "Enter a number: 2\n",
      "Square: 4\n",
      "Cube: 8\n",
      "Squareroot: 1.4142135623730951\n",
      "Double: 4\n",
      "Sum of all outputs: 17.414213562373096\n"
     ]
    }
   ],
   "source": [
    "# Create a dictionary containing lambda functions\n",
    "functions = {\n",
    "    'Square': lambda x: x**2,\n",
    "    'Cube': lambda x: x**3,\n",
    "    'Squareroot': lambda x: x**0.5,\n",
    "    'Double': lambda x: x*2\n",
    "}\n",
    "\n",
    "# Take input from user\n",
    "user_input = int(input(\"Enter a number: \"))\n",
    "\n",
    "# Initialize a variable to store the sum of all outputs\n",
    "output_sum = 0\n",
    "\n",
    "# Iterate over the dictionary and call each function with the user input\n",
    "for key, func in functions.items():\n",
    "    output = func(user_input)\n",
    "    print(f\"{key}: {output}\")\n",
    "    output_sum = functions['Square'](user_input) + functions['Cube'](user_input) + functions['Squareroot'](user_input) + functions['Double'](user_input)\n",
    "\n",
    "\n",
    "# Print the sum of all outputs\n",
    "print(f\"Sum of all outputs: {output_sum}\")\n"
   ]
  },
  {
   "cell_type": "code",
   "execution_count": 255,
   "id": "0213b809",
   "metadata": {},
   "outputs": [
    {
     "name": "stdout",
     "output_type": "stream",
     "text": [
      "['hOw', 'ARe']\n"
     ]
    }
   ],
   "source": [
    "ls = ['hello', 'Dear', 'hOw', 'ARe', 'You']\n",
    "result = [word for word in ls if word[1].isupper()]\n",
    "print(result) # Output: ['hOw', 'ARe']"
   ]
  },
  {
   "cell_type": "code",
   "execution_count": 257,
   "id": "977b477d",
   "metadata": {},
   "outputs": [
    {
     "name": "stdout",
     "output_type": "stream",
     "text": [
      "['hOw', 'ARe']\n"
     ]
    }
   ],
   "source": [
    "ls = ['hello', 'Dear', 'hOw', 'ARe', 'You']\n",
    "result = list(filter(lambda x: x[1].isupper(), ls))\n",
    "print(result) # Output: ['hOw', 'ARe']"
   ]
  },
  {
   "cell_type": "code",
   "execution_count": 258,
   "id": "bf877d7b",
   "metadata": {},
   "outputs": [
    {
     "name": "stdout",
     "output_type": "stream",
     "text": [
      "[('Sharon', 50), ('Jack', 75)]\n"
     ]
    }
   ],
   "source": [
    "tnames = ('John','Sharon','Jack','Annie')\n",
    "tmarks = (32,50,75,12)\n",
    "\n",
    "result = [(name, mark) for name, mark in zip(tnames, tmarks) if mark > 40]\n",
    "print(result) \n",
    "# Output: [('Sharon', 50), ('Jack', 75)]"
   ]
  },
  {
   "cell_type": "code",
   "execution_count": 260,
   "id": "82821ced",
   "metadata": {},
   "outputs": [
    {
     "name": "stdout",
     "output_type": "stream",
     "text": [
      "[('Sharon', 50), ('Jack', 75)]\n"
     ]
    }
   ],
   "source": [
    "result = list(filter(lambda x: x[1] > 40, zip(tnames, tmarks)))\n",
    "print(result)"
   ]
  },
  {
   "cell_type": "code",
   "execution_count": 261,
   "id": "5f88d821",
   "metadata": {},
   "outputs": [
    {
     "name": "stdout",
     "output_type": "stream",
     "text": [
      "{8, 3}\n"
     ]
    }
   ],
   "source": [
    "from functools import reduce\n",
    "\n",
    "given_sets = [[1, 2, 3, 4, 8], [2, 3, 8, 5, 6], [8, 4, 5, 3, 7], [6, 9, 8, 3], [9, 12, 3, 7, 6, 8, 4, 6, 21, 1, 6]]\n",
    "\n",
    "result = reduce(set.intersection, map(set, given_sets))\n",
    "print(result) # Output: {8, 3}"
   ]
  },
  {
   "cell_type": "code",
   "execution_count": 263,
   "id": "5878348b",
   "metadata": {},
   "outputs": [
    {
     "name": "stdout",
     "output_type": "stream",
     "text": [
      "Enter a string: shafeena\n",
      "4\n"
     ]
    }
   ],
   "source": [
    "glstring = 'great'\n",
    "\n",
    "def count_not_in_glstring(string, glstring):\n",
    "    if string == \"\":\n",
    "        return 0\n",
    "    else:\n",
    "        if string[0] != \" \" and string[0] not in glstring:\n",
    "            return 1 + count_not_in_glstring(string[1:], glstring)\n",
    "        else:\n",
    "            return count_not_in_glstring(string[1:], glstring)\n",
    "\n",
    "user_string = input(\"Enter a string: \")\n",
    "result = count_not_in_glstring(user_string, glstring)\n",
    "print(result)"
   ]
  },
  {
   "cell_type": "code",
   "execution_count": 264,
   "id": "0335964d",
   "metadata": {},
   "outputs": [
    {
     "name": "stdout",
     "output_type": "stream",
     "text": [
      "{'Chris', 'John', 'Sharon', 'Annie', 'Mike', 'Jack'}\n",
      "{'Annie', 'Sharon', 'Jack'}\n",
      "{'Mike', 'Chris'}\n"
     ]
    }
   ],
   "source": [
    "world_cup_2011 = {'John', 'Jack', 'Sharon', 'Annie'}\n",
    "world_cup_2015 = {'Jack', 'Sharon', 'Annie', 'Mike', 'Chris'}\n",
    "\n",
    "# Find the list of all players who played in either 2011 or 2015 World Cup\n",
    "all_players = world_cup_2011.union(world_cup_2015)\n",
    "print(all_players) # Output: {'Mike', 'John', 'Jack', 'Sharon', 'Annie', 'Chris'}\n",
    "\n",
    "# Find the list of players who played for both 2011 and 2015 World Cup\n",
    "both_players = world_cup_2011.intersection(world_cup_2015)\n",
    "print(both_players) # Output: {'Jack', 'Sharon', 'Annie'}\n",
    "\n",
    "# Find the list of players who were 'not' the part of 2011 World Cup and played in 2015 World Cup\n",
    "new_players = world_cup_2015.difference(world_cup_2011)\n",
    "print(new_players) # Output: {'Mike', 'Chris'}"
   ]
  },
  {
   "cell_type": "code",
   "execution_count": 265,
   "id": "7f25a7d1",
   "metadata": {},
   "outputs": [
    {
     "name": "stdout",
     "output_type": "stream",
     "text": [
      "[9, 8.5, 7.75, 6.875, 5.9375]\n"
     ]
    }
   ],
   "source": [
    "from itertools import accumulate\n",
    "\n",
    "numbers = [9, 8, 7, 6, 5]\n",
    "\n",
    "# Using the accumulate function and a lambda function to find cumulative average\n",
    "cumulative_average = list(accumulate(numbers, lambda x, y: (x + y) / 2))\n",
    "print(cumulative_average) # Output: [9.0, 8.5, 7.75, 7.125, 6.5625]"
   ]
  },
  {
   "cell_type": "code",
   "execution_count": 266,
   "id": "1fc88886",
   "metadata": {},
   "outputs": [
    {
     "name": "stdout",
     "output_type": "stream",
     "text": [
      "{'John': 7.440366972477065, 'Shelly': 10.747196738022426, 'Marry': 5.786952089704383}\n"
     ]
    }
   ],
   "source": [
    "WeightOnEarth = {'John':45, 'Shelly':65, 'Marry':35}\n",
    "GMoon = 1.622\n",
    "GEarth = 9.81\n",
    "\n",
    "# Using map and lambda function to find weight on the moon\n",
    "WeightOnMoon = dict(map(lambda x: (x[0], x[1]*GMoon/GEarth), WeightOnEarth.items()))\n",
    "print(WeightOnMoon) # Output: {'John': 27.66352288982129, 'Shelly': 39.85290963245868, 'Marry': 22.06659176029963}"
   ]
  },
  {
   "cell_type": "code",
   "execution_count": 267,
   "id": "ab599597",
   "metadata": {},
   "outputs": [
    {
     "name": "stdout",
     "output_type": "stream",
     "text": [
      "{'John': 7.440366972477065, 'Shelly': 10.747196738022426, 'Marry': 5.786952089704383}\n"
     ]
    }
   ],
   "source": [
    "WeightOnEarth = {'John':45, 'Shelly':65, 'Marry':35}\n",
    "GMoon = 1.622\n",
    "GEarth = 9.81\n",
    "\n",
    "WeightOnMoon = {}\n",
    "\n",
    "# Using for loop to find weight on the moon\n",
    "for name, weight in WeightOnEarth.items():\n",
    "    WeightOnMoon[name] = weight*GMoon/GEarth\n",
    "\n",
    "print(WeightOnMoon) # Output: {'John': 27.66352288982129, 'Shelly': 39.85290963245868, 'Marry': 22.06659176029963}"
   ]
  },
  {
   "cell_type": "markdown",
   "id": "82a73fdc",
   "metadata": {},
   "source": [
    "# Nested loops"
   ]
  },
  {
   "cell_type": "code",
   "execution_count": 268,
   "id": "e1a5bbbd",
   "metadata": {},
   "outputs": [
    {
     "name": "stdout",
     "output_type": "stream",
     "text": [
      "1 2 3 \n",
      "4 5 6 \n",
      "7 8 9 \n"
     ]
    }
   ],
   "source": [
    "matrix = [[1, 2, 3], [4, 5, 6], [7, 8, 9]]\n",
    "\n",
    "# Using nested loops to print the matrix\n",
    "for row in matrix:\n",
    "    for num in row:\n",
    "        print(num, end=\" \")\n",
    "    print()\n",
    "\n",
    "# Output:\n",
    "# 1 2 3\n",
    "# 4 5 6\n",
    "# 7 8 9"
   ]
  },
  {
   "cell_type": "code",
   "execution_count": 269,
   "id": "aad46e9e",
   "metadata": {},
   "outputs": [
    {
     "name": "stdout",
     "output_type": "stream",
     "text": [
      "1 a\n",
      "1 b\n",
      "1 c\n",
      "2 a\n",
      "2 b\n",
      "2 c\n",
      "3 a\n",
      "3 b\n",
      "3 c\n"
     ]
    }
   ],
   "source": [
    "list1 = [1, 2, 3]\n",
    "list2 = ['a', 'b', 'c']\n",
    "\n",
    "# Using nested loops to print the cartesian product\n",
    "for num1 in list1:\n",
    "    for letter in list2:\n",
    "        print(num1, letter)"
   ]
  },
  {
   "cell_type": "code",
   "execution_count": 270,
   "id": "fb4ae79d",
   "metadata": {},
   "outputs": [
    {
     "name": "stdout",
     "output_type": "stream",
     "text": [
      "1\t2\t3\t4\t5\t6\t7\t8\t9\t10\t\n",
      "2\t4\t6\t8\t10\t12\t14\t16\t18\t20\t\n",
      "3\t6\t9\t12\t15\t18\t21\t24\t27\t30\t\n",
      "4\t8\t12\t16\t20\t24\t28\t32\t36\t40\t\n",
      "5\t10\t15\t20\t25\t30\t35\t40\t45\t50\t\n",
      "6\t12\t18\t24\t30\t36\t42\t48\t54\t60\t\n",
      "7\t14\t21\t28\t35\t42\t49\t56\t63\t70\t\n",
      "8\t16\t24\t32\t40\t48\t56\t64\t72\t80\t\n",
      "9\t18\t27\t36\t45\t54\t63\t72\t81\t90\t\n",
      "10\t20\t30\t40\t50\t60\t70\t80\t90\t100\t\n"
     ]
    }
   ],
   "source": [
    "for i in range(1, 11):\n",
    "    for j in range(1, 11):\n",
    "        print(i * j, end=\"\\t\")\n",
    "    print()"
   ]
  },
  {
   "cell_type": "raw",
   "id": "a681cf22",
   "metadata": {},
   "source": [
    "Printing a pyramid pattern:"
   ]
  },
  {
   "cell_type": "code",
   "execution_count": 271,
   "id": "b302053a",
   "metadata": {},
   "outputs": [
    {
     "name": "stdout",
     "output_type": "stream",
     "text": [
      "* \n",
      "* * \n",
      "* * * \n",
      "* * * * \n",
      "* * * * * \n"
     ]
    }
   ],
   "source": [
    "for i in range(1, 6):\n",
    "    for j in range(1, i + 1):\n",
    "        print(\"*\", end=\" \")\n",
    "    print()"
   ]
  },
  {
   "cell_type": "markdown",
   "id": "20897ae8",
   "metadata": {},
   "source": [
    "Summing up the diagonals of a matrix:"
   ]
  },
  {
   "cell_type": "code",
   "execution_count": 272,
   "id": "df30209b",
   "metadata": {},
   "outputs": [
    {
     "name": "stdout",
     "output_type": "stream",
     "text": [
      "15\n"
     ]
    }
   ],
   "source": [
    "matrix = [[1, 2, 3], [4, 5, 6], [7, 8, 9]]\n",
    "\n",
    "diagonal_sum = 0\n",
    "for i in range(len(matrix)):\n",
    "    diagonal_sum += matrix[i][i]\n",
    "\n",
    "print(diagonal_sum)"
   ]
  },
  {
   "cell_type": "markdown",
   "id": "482100b3",
   "metadata": {},
   "source": [
    "Flattening a nested list:"
   ]
  },
  {
   "cell_type": "code",
   "execution_count": 273,
   "id": "80e64924",
   "metadata": {},
   "outputs": [
    {
     "name": "stdout",
     "output_type": "stream",
     "text": [
      "[1, 2, 3, 4, 5, 6, 7, 8]\n"
     ]
    }
   ],
   "source": [
    "nested_list = [[1, 2], [3, 4], [5, 6], [7, 8]]\n",
    "flat_list = []\n",
    "\n",
    "for sublist in nested_list:\n",
    "    for item in sublist:\n",
    "        flat_list.append(item)\n",
    "\n",
    "print(flat_list)"
   ]
  },
  {
   "cell_type": "markdown",
   "id": "9c76286a",
   "metadata": {},
   "source": [
    "Generating a permutation of a list:"
   ]
  },
  {
   "cell_type": "code",
   "execution_count": 274,
   "id": "557194ab",
   "metadata": {},
   "outputs": [
    {
     "name": "stdout",
     "output_type": "stream",
     "text": [
      "(1, 2, 3)\n",
      "(1, 3, 2)\n",
      "(2, 1, 3)\n",
      "(2, 3, 1)\n",
      "(3, 1, 2)\n",
      "(3, 2, 1)\n"
     ]
    }
   ],
   "source": [
    "import itertools\n",
    "\n",
    "items = [1, 2, 3]\n",
    "\n",
    "for perm in itertools.permutations(items):\n",
    "    print(perm)"
   ]
  },
  {
   "cell_type": "markdown",
   "id": "528a53f6",
   "metadata": {},
   "source": [
    "Counting occurrences of a letter in a word:"
   ]
  },
  {
   "cell_type": "code",
   "execution_count": 275,
   "id": "a1048a3f",
   "metadata": {},
   "outputs": [
    {
     "name": "stdout",
     "output_type": "stream",
     "text": [
      "2\n"
     ]
    }
   ],
   "source": [
    "word = \"hello\"\n",
    "letter = \"l\"\n",
    "count = 0\n",
    "\n",
    "for char in word:\n",
    "    if char == letter:\n",
    "        count += 1\n",
    "\n",
    "print(count)"
   ]
  },
  {
   "cell_type": "markdown",
   "id": "e42cdd07",
   "metadata": {},
   "source": [
    "Generating a combination of a list:"
   ]
  },
  {
   "cell_type": "code",
   "execution_count": 276,
   "id": "d7a84512",
   "metadata": {},
   "outputs": [
    {
     "name": "stdout",
     "output_type": "stream",
     "text": [
      "(1, 2)\n",
      "(1, 3)\n",
      "(2, 3)\n"
     ]
    }
   ],
   "source": [
    "import itertools\n",
    "\n",
    "items = [1, 2, 3]\n",
    "\n",
    "for comb in itertools.combinations(items, 2):\n",
    "    print(comb)"
   ]
  },
  {
   "cell_type": "markdown",
   "id": "3fbf84d7",
   "metadata": {},
   "source": [
    "Reversing the elements of a list:"
   ]
  },
  {
   "cell_type": "code",
   "execution_count": 277,
   "id": "c35d4bcb",
   "metadata": {},
   "outputs": [
    {
     "name": "stdout",
     "output_type": "stream",
     "text": [
      "[5, 4, 3, 2, 1]\n"
     ]
    }
   ],
   "source": [
    "numbers = [1, 2, 3, 4, 5]\n",
    "\n",
    "for i in range(len(numbers) // 2):\n",
    "    numbers[i], numbers[-i - 1] = numbers[-i - 1], numbers[i]\n",
    "\n",
    "print(numbers)"
   ]
  },
  {
   "cell_type": "markdown",
   "id": "4b387d82",
   "metadata": {},
   "source": [
    "Generating a Cartesian product of two lists:"
   ]
  },
  {
   "cell_type": "code",
   "execution_count": 278,
   "id": "bc9f712e",
   "metadata": {},
   "outputs": [
    {
     "name": "stdout",
     "output_type": "stream",
     "text": [
      "1 a\n",
      "1 b\n",
      "1 c\n",
      "2 a\n",
      "2 b\n",
      "2 c\n",
      "3 a\n",
      "3 b\n",
      "3 c\n"
     ]
    }
   ],
   "source": [
    "list1 = [1, 2, 3]\n",
    "list2 = ['a', 'b', 'c']\n",
    "\n",
    "for num1 in list1:\n",
    "    for letter in list2:\n",
    "        print(num1, letter)"
   ]
  },
  {
   "cell_type": "markdown",
   "id": "63e31910",
   "metadata": {},
   "source": [
    "Finding the common elements between two lists:"
   ]
  },
  {
   "cell_type": "code",
   "execution_count": 289,
   "id": "7023599c",
   "metadata": {},
   "outputs": [
    {
     "name": "stdout",
     "output_type": "stream",
     "text": [
      "[2, 3, 4, 5, 6, 7, 8, 9]\n"
     ]
    }
   ],
   "source": [
    "list1 = [[1, 2, 3], [4, 5, 6], [7, 8, 9]]\n",
    "list2 = [[2, 3, 4], [5, 6, 7], [8, 9, 10]]\n",
    "common_elements = []\n",
    "for row1 in list1:\n",
    "    for element in row1:\n",
    "        for row2 in list2:\n",
    "            if element in row2:\n",
    "                common_elements.append(element)\n",
    "print(common_elements)"
   ]
  },
  {
   "cell_type": "code",
   "execution_count": 283,
   "id": "7743ea33",
   "metadata": {},
   "outputs": [
    {
     "name": "stdout",
     "output_type": "stream",
     "text": [
      "[2, 4]\n"
     ]
    }
   ],
   "source": [
    "list1 = [1, 2, 3, 4, 5]\n",
    "list2 = [2, 4, 6, 8, 10]\n",
    "common_elements = []\n",
    "\n",
    "for element in list1:\n",
    "    if element in list2:\n",
    "        common_elements.append(element)\n",
    "\n",
    "print(common_elements)"
   ]
  },
  {
   "cell_type": "code",
   "execution_count": 291,
   "id": "1ab8faef",
   "metadata": {},
   "outputs": [
    {
     "name": "stdout",
     "output_type": "stream",
     "text": [
      "15\n"
     ]
    }
   ],
   "source": [
    "#Using a for loop to find the sum of all elements in a list:\n",
    "numbers = [1, 2, 3, 4, 5]\n",
    "sum = 0\n",
    "for num in numbers:\n",
    "    sum += num\n",
    "print(sum)"
   ]
  },
  {
   "cell_type": "code",
   "execution_count": 294,
   "id": "18612d7c",
   "metadata": {},
   "outputs": [
    {
     "name": "stdout",
     "output_type": "stream",
     "text": [
      "3.0\n"
     ]
    }
   ],
   "source": [
    "#Using a for loop to find the average of all elements in a list:\n",
    "numbers = [1, 2, 3, 4, 5]\n",
    "sum = 0\n",
    "for num in numbers:\n",
    "    sum += num\n",
    "    average = sum / len(numbers)\n",
    "print(average)\n"
   ]
  },
  {
   "cell_type": "code",
   "execution_count": 295,
   "id": "c06470a0",
   "metadata": {},
   "outputs": [
    {
     "name": "stdout",
     "output_type": "stream",
     "text": [
      "2\n",
      "3\n",
      "5\n",
      "7\n",
      "11\n",
      "13\n",
      "17\n",
      "19\n",
      "23\n",
      "29\n",
      "31\n",
      "37\n",
      "41\n",
      "43\n",
      "47\n",
      "53\n",
      "59\n",
      "61\n",
      "67\n",
      "71\n",
      "73\n",
      "79\n",
      "83\n",
      "89\n",
      "97\n"
     ]
    }
   ],
   "source": [
    "for num in range(2, 101):\n",
    "    is_prime = True\n",
    "    for i in range(2, num):\n",
    "        if num % i == 0:\n",
    "            is_prime = False\n",
    "            break\n",
    "    if is_prime:\n",
    "        print(num)"
   ]
  },
  {
   "cell_type": "code",
   "execution_count": 296,
   "id": "a9bcbf1c",
   "metadata": {},
   "outputs": [
    {
     "name": "stdout",
     "output_type": "stream",
     "text": [
      "1 a\n",
      "1 b\n",
      "1 c\n",
      "2 a\n",
      "2 b\n",
      "2 c\n",
      "3 a\n",
      "3 b\n",
      "3 c\n"
     ]
    }
   ],
   "source": [
    "list1 = [1, 2, 3]\n",
    "list2 = ['a', 'b', 'c']\n",
    "for element1 in list1:\n",
    "    for element2 in list2:\n",
    "        print(element1, element2)"
   ]
  },
  {
   "cell_type": "code",
   "execution_count": 297,
   "id": "9bfd3a16",
   "metadata": {},
   "outputs": [
    {
     "name": "stdout",
     "output_type": "stream",
     "text": [
      "9\n"
     ]
    }
   ],
   "source": [
    "matrix = [[1, 2, 3], [4, 5, 6], [7, 8, 9]]\n",
    "largest = 0\n",
    "for row in matrix:\n",
    "    for element in row:\n",
    "        if element > largest:\n",
    "            largest = element\n",
    "print(largest)"
   ]
  },
  {
   "cell_type": "markdown",
   "id": "e6c83990",
   "metadata": {},
   "source": [
    "df.query('expression')"
   ]
  },
  {
   "cell_type": "raw",
   "id": "3faf9576",
   "metadata": {},
   "source": [
    "df.query('age > 30')\n",
    "df.query('age > 30 & gender == \"female\"')"
   ]
  },
  {
   "cell_type": "code",
   "execution_count": 299,
   "id": "7c380199",
   "metadata": {},
   "outputs": [
    {
     "name": "stdout",
     "output_type": "stream",
     "text": [
      "UPPER CASE LOWER CASE\n",
      "upper case lower case\n"
     ]
    }
   ],
   "source": [
    "# Create a sample string\n",
    "sample_string = \"UpPeR CaSe LoWeR CaSe\"\n",
    "\n",
    "# Convert the string to uppercase\n",
    "upper_case_string = sample_string.upper()\n",
    "print(upper_case_string) # Output: UPPER CASE LOWER CASE\n",
    "\n",
    "# Convert the string to lowercase\n",
    "lower_case_string = sample_string.lower()\n",
    "print(lower_case_string) # Output: upper case lower case"
   ]
  },
  {
   "cell_type": "code",
   "execution_count": 355,
   "id": "c3d9f72e",
   "metadata": {},
   "outputs": [
    {
     "name": "stdout",
     "output_type": "stream",
     "text": [
      "   name  age         city\n",
      "0  John   25     New York\n",
      "1  Jane   32  Los Angeles\n",
      "2   Sam   45      Chicago\n"
     ]
    }
   ],
   "source": [
    "import pandas as pd\n",
    "\n",
    "data = {'name': ['John', 'Jane', 'Sam'], 'age': [25, 32, 45], 'city': ['New York', 'Los Angeles', 'Chicago']}\n",
    "df = pd.DataFrame(data)\n",
    "print(df)\n"
   ]
  },
  {
   "cell_type": "code",
   "execution_count": null,
   "id": "90e178ee",
   "metadata": {},
   "outputs": [],
   "source": [
    "import pandas as pd\n",
    "\n",
    "df = pd.read_csv('data.csv')\n",
    "print(df)\n"
   ]
  },
  {
   "cell_type": "code",
   "execution_count": null,
   "id": "93496470",
   "metadata": {},
   "outputs": [],
   "source": [
    "import pandas as pd\n",
    "\n",
    "df = pd.read_csv('data.csv')\n",
    "\n",
    "# Selecting a single column\n",
    "print(df['name'])\n",
    "\n",
    "# Selecting multiple columns\n",
    "print(df[['name', 'age']])\n",
    "\n",
    "# Selecting rows by index\n",
    "print(df.loc[0])\n",
    "\n",
    "# Selecting rows by condition\n",
    "print(df[df['age'] > 30])\n"
   ]
  },
  {
   "cell_type": "code",
   "execution_count": null,
   "id": "5dc2f014",
   "metadata": {},
   "outputs": [],
   "source": [
    "Selecting columns and rows:\n",
    "import pandas as pd\n",
    "\n",
    "df = pd.read_csv('data.csv')\n",
    "\n",
    "# Group by column 'city' and calculating mean for each group\n",
    "grouped = df.groupby('city').mean()\n",
    "print(grouped)\n",
    "\n",
    "# Group by column 'city' and counting number of rows in each group\n",
    "grouped = df.groupby('city').count()\n",
    "print(grouped)"
   ]
  },
  {
   "cell_type": "code",
   "execution_count": null,
   "id": "a0124b5f",
   "metadata": {},
   "outputs": [],
   "source": [
    "Grouping and Aggregating:\n",
    "import pandas as pd\n",
    "\n",
    "df = pd.read_csv('data.csv')\n",
    "\n",
    "# Group by column 'city' and calculating mean for each group\n",
    "grouped = df.groupby('city').mean()\n",
    "print(grouped)\n",
    "\n",
    "# Group by column 'city' and counting number of rows in each group\n",
    "grouped = df.groupby('city').count()\n",
    "print(grouped)\n"
   ]
  },
  {
   "cell_type": "code",
   "execution_count": null,
   "id": "976e88d2",
   "metadata": {},
   "outputs": [],
   "source": [
    "Merging and joining data frames:\n",
    "import pandas as pd\n",
    "\n",
    "df1 = pd.DataFrame({'key': ['A', 'B', 'C', 'D'],\n",
    "                   'value': np.random.randn(4)})\n",
    "\n",
    "df2 = pd.DataFrame({'key': ['B', 'D', 'E', 'F'],\n",
    "                   'value': np.random.randn(4)})\n",
    "\n",
    "#inner join\n",
    "merged = pd.merge(df1, df2, on='key')\n",
    "\n",
    "#outer join\n",
    "merged = pd.merge(df1, df2, on='key', how='outer')\n",
    "\n"
   ]
  },
  {
   "cell_type": "code",
   "execution_count": null,
   "id": "179a7294",
   "metadata": {},
   "outputs": [],
   "source": [
    "A program that selects a specific column in a DataFrame:\n",
    "import pandas as pd\n",
    "df = pd.read_csv('data.csv')\n",
    "print(df['name'])\n"
   ]
  },
  {
   "cell_type": "code",
   "execution_count": null,
   "id": "40699627",
   "metadata": {},
   "outputs": [],
   "source": [
    "A program that selects multiple columns in a DataFrame:\n",
    "import pandas as pd\n",
    "df = pd.read_csv('data.csv')\n",
    "print(df[['name', 'age']])\n"
   ]
  },
  {
   "cell_type": "code",
   "execution_count": null,
   "id": "db77f90e",
   "metadata": {},
   "outputs": [],
   "source": [
    "A program that filters rows in a DataFrame based on a condition:\n",
    "import pandas as pd\n",
    "df = pd.read_csv('data.csv')\n",
    "print(df[df['age'] > 30])\n"
   ]
  },
  {
   "cell_type": "code",
   "execution_count": null,
   "id": "4f0bd098",
   "metadata": {},
   "outputs": [],
   "source": [
    "A program that sorts a DataFrame by a specific column:\n",
    "import pandas as pd\n",
    "df = pd.read_csv('data.csv')\n",
    "print(df.sort_values(by='age'))\n"
   ]
  },
  {
   "cell_type": "code",
   "execution_count": null,
   "id": "69ec9838",
   "metadata": {},
   "outputs": [],
   "source": [
    "A program that groups a DataFrame by a specific column:\n",
    "import pandas as pd\n",
    "df = pd.read_csv('data.csv')\n",
    "print(df.groupby('city').mean())\n"
   ]
  },
  {
   "cell_type": "code",
   "execution_count": null,
   "id": "bf771256",
   "metadata": {},
   "outputs": [],
   "source": [
    "A program that merges two DataFrames on a specific column:\n",
    "import pandas as pd\n",
    "df1 = pd.read_csv('data1.csv')\n",
    "df2 = pd.read_csv('data2.csv')\n",
    "merged_df\n"
   ]
  },
  {
   "cell_type": "code",
   "execution_count": null,
   "id": "6b277630",
   "metadata": {},
   "outputs": [],
   "source": [
    "A program that renames columns in a DataFrame:\n",
    "import pandas as pd\n",
    "df = pd.read_csv('data.csv')\n",
    "df = df.rename(columns={'OldName1': 'NewName1', 'OldName2': 'NewName2'})\n",
    "print(df)\n"
   ]
  },
  {
   "cell_type": "code",
   "execution_count": null,
   "id": "89dfb380",
   "metadata": {},
   "outputs": [],
   "source": [
    "A program that drops a specific column in a DataFrame:\n",
    "import pandas as pd\n",
    "df = pd.read_csv('data.csv')\n",
    "df = df.drop(columns=['name'])\n",
    "print(df)\n"
   ]
  },
  {
   "cell_type": "code",
   "execution_count": null,
   "id": "60b50d97",
   "metadata": {},
   "outputs": [],
   "source": [
    "A program that fills missing values in a DataFrame:\n",
    "import pandas as pd\n",
    "df = pd.read_csv('data.csv')\n",
    "df = df.fillna(0)\n",
    "print(df)\n"
   ]
  },
  {
   "cell_type": "code",
   "execution_count": null,
   "id": "49380ebf",
   "metadata": {},
   "outputs": [],
   "source": [
    "A program that concatenates two DataFrames:\n",
    "import pandas as pd\n",
    "df1 = pd.read_csv('data1.csv')\n",
    "df2 = pd.read_csv('data2.csv')\n",
    "concatenated_df = pd.concat([df1, df2])\n",
    "print(concatenated_df)\n"
   ]
  },
  {
   "cell_type": "code",
   "execution_count": null,
   "id": "627bb216",
   "metadata": {},
   "outputs": [],
   "source": [
    "A program that joins two DataFrames on a specific column:\n",
    "import pandas as pd\n",
    "df1 = pd.read_csv('data1.csv')\n",
    "df2 = pd.read_csv('data2.csv')\n",
    "joined_df = df1.merge(df2, on='id')\n",
    "print(joined_df)\n"
   ]
  },
  {
   "cell_type": "code",
   "execution_count": null,
   "id": "83441acf",
   "metadata": {},
   "outputs": [],
   "source": [
    "A program that pivots a DataFrame:\n",
    "import pandas as pd\n",
    "df = pd.read_csv('data.csv')\n",
    "pivot_df = df.pivot(index='name', columns='year', values='sales')\n",
    "print(pivot_df)\n"
   ]
  },
  {
   "cell_type": "code",
   "execution_count": null,
   "id": "e0825f38",
   "metadata": {},
   "outputs": [],
   "source": [
    "16. A program that performs various statistical operations on a DataFrame:\n",
    "```python\n",
    "import pandas as pd\n",
    "df = pd.read_csv('data.csv')\n",
    "print(df.describe())"
   ]
  },
  {
   "cell_type": "code",
   "execution_count": null,
   "id": "2c308cf5",
   "metadata": {},
   "outputs": [],
   "source": [
    "A program that applies a function to a DataFrame:\n",
    "import pandas as pd\n",
    "df = pd.read_csv('data.csv')\n",
    "df['age_plus_one'] = df['age'].apply(lambda x: x+1)\n",
    "print(df)\n"
   ]
  },
  {
   "cell_type": "code",
   "execution_count": null,
   "id": "2198462e",
   "metadata": {},
   "outputs": [],
   "source": [
    "A program that uses the map function to apply a function on a specific column of a DataFrame:\n",
    "import pandas as pd\n",
    "df = pd.read_csv('data.csv')\n",
    "df['name'] = df['name'].map(lambda x: x.upper())\n",
    "print(df)\n"
   ]
  },
  {
   "cell_type": "code",
   "execution_count": null,
   "id": "74c61727",
   "metadata": {},
   "outputs": [],
   "source": [
    "A program that uses the drop_duplicates function to remove duplicate rows from a DataFrame:\n",
    "import pandas as pd\n",
    "df = pd.read_csv('data.csv')\n",
    "df = df.drop_duplicates()\n",
    "print(df)\n",
    "import pandas as pd\n",
    "df = pd.read_csv('data.csv')\n",
    "print(df.sample(3))\n",
    "import pandas as pd\n",
    "df = pd.read_csv('data.csv')\n",
    "print(df.info())\n",
    "import pandas as pd\n",
    "df = pd.read_csv('data.csv')\n",
    "print(df.isnull().sum())\n"
   ]
  },
  {
   "cell_type": "code",
   "execution_count": null,
   "id": "4406d499",
   "metadata": {},
   "outputs": [],
   "source": [
    "A program that uses the nunique() function to display the number of unique values in each column of a DataFrame:\n",
    "import pandas as pd\n",
    "df = pd.read_csv('data.csv')\n",
    "print(df.nunique())\n"
   ]
  },
  {
   "cell_type": "code",
   "execution_count": null,
   "id": "4111dd59",
   "metadata": {},
   "outputs": [],
   "source": [
    "A program that uses the value_counts() function to display the frequency of unique values in a column of a DataFrame:\n",
    "import pandas as pd\n",
    "df = pd.read_csv('data.csv')\n",
    "print(df['age'].value_counts())\n"
   ]
  },
  {
   "cell_type": "code",
   "execution_count": null,
   "id": "7be8229f",
   "metadata": {},
   "outputs": [],
   "source": [
    "A program that uses the to_csv() function to save a DataFrame to a CSV file:\n",
    "import pandas as pd\n",
    "df = pd.read_csv('data.csv')\n",
    "df.to_csv('new_data.csv', index=False)\n",
    "import pandas as pd\n",
    "df = pd.read_csv('data.csv')\n",
    "df.to_excel('data.xlsx', index=False)\n"
   ]
  },
  {
   "cell_type": "code",
   "execution_count": null,
   "id": "077f4b13",
   "metadata": {},
   "outputs": [],
   "source": [
    "import pandas as pd\n",
    "df = pd.read_csv('data.csv')\n",
    "print(df.to_html())\n",
    "import pandas as pd\n",
    "df = pd.read_csv('data.csv')\n",
    "df.to_json('data.json', orient='index')\n"
   ]
  },
  {
   "cell_type": "code",
   "execution_count": null,
   "id": "d83b0623",
   "metadata": {},
   "outputs": [],
   "source": [
    "A program that uses the .corr() function to compute pairwise correlation of columns of a DataFrame:\n",
    "import pandas as pd\n",
    "df = pd.read_csv('data.csv')\n",
    "print(df.corr())\n",
    "\n",
    "A program that uses the .cov() function to compute pairwise covariance of columns of a DataFrame:\n",
    "import pandas as pd\n",
    "df = pd.read_csv('data.csv')\n",
    "print(df.cov())\n",
    "\n",
    "A program that uses the .diff() function to compute the difference of a DataFrame element compared to another element in the DataFrame:\n",
    "import pandas as pd\n",
    "df = pd.read_csv('data.csv')\n",
    "print(df.diff())\n",
    "import pandas as pd\n",
    "df = pd.read_csv('data.csv')\n",
    "print(df.shift(1))\n",
    "\n",
    "import pandas as pd\n",
    "df = pd.read_csv('data.csv')\n",
    "print(df.rank())\n"
   ]
  },
  {
   "cell_type": "code",
   "execution_count": null,
   "id": "237033c9",
   "metadata": {},
   "outputs": [],
   "source": [
    "\n",
    "Question: Load the \"titanic.csv\" dataset into a DataFrame and display the first 5 rows.\n",
    "\n",
    "import pandas as pd\n",
    "df = pd.read_csv('titanic.csv')\n",
    "print(df.head())\n",
    "Question: Display the number of rows and columns in the \"titanic.csv\" dataset.\n",
    "\n",
    "import pandas as pd\n",
    "df = pd.read_csv('titanic.csv')\n",
    "print(\"Rows:\", df.shape[0])\n",
    "print(\"Columns:\", df.shape[1])\n",
    "Question: Display the column names in the \"titanic.csv\" dataset.\n",
    "\n",
    "import pandas as pd\n",
    "df = pd.read_csv('titanic.csv')\n",
    "print(df.columns)\n",
    "Question: Display the unique values in the \"Pclass\" column of the \"titanic.csv\" dataset.\n",
    "\n",
    "import pandas as pd\n",
    "df = pd.read_csv('titanic.csv')\n",
    "print(df['Pclass'].unique())\n",
    "Question: Display the average age of passengers in the \"titanic.csv\" dataset.\n",
    "\n",
    "import pandas as pd\n",
    "df = pd.read_csv('titanic.csv')\n",
    "print(df['Age'].mean())\n",
    "Question: Display the number of passengers who survived in the \"titanic.csv\" dataset.\n",
    "\n",
    "import pandas as pd\n",
    "df = pd.read_csv('titanic.csv')\n",
    "print(df[df['Survived'] == 1]['Survived'].count())\n",
    "Question: Display the number of passengers who did not survive in the \"titanic.csv\" dataset.\n",
    "\n",
    "import pandas as pd\n",
    "df = pd.read_csv('titanic.csv')\n",
    "print(df[df['Survived'] == 0]['Survived'].count())\n",
    "Question: Display the number of passengers in each class in the \"titanic.csv\" dataset.\n",
    "\n",
    "import pandas as pd\n",
    "df = pd.read_csv('titanic.csv')\n",
    "print(df['Pclass'].value_counts())\n",
    "Question: Display the number of passengers who traveled alone in the \"titanic.csv\" dataset.\n",
    "\n",
    "import pandas as pd\n",
    "df = pd.read_csv('titanic.csv')\n",
    "print(df[df['SibSp'] + df['Parch'] == 0]['PassengerId'].count())\n",
    "Question: Create a new column \"FamilySize\" in the \"titanic.csv\" dataset that combines the values of \"SibSp\" and \"Parch\" columns.\n",
    "\n",
    "import pandas as pd\n",
    "df = pd.read_csv('titanic.csv')\n",
    "df['FamilySize'] = df['SibSp'] + df['Parch']\n",
    "print(df.head())"
   ]
  },
  {
   "cell_type": "code",
   "execution_count": null,
   "id": "0d0fbf85",
   "metadata": {},
   "outputs": [],
   "source": [
    "\n",
    "Question: Load the \"employees.csv\" dataset into a DataFrame and display the first 5 rows.\n",
    "\n",
    "import pandas as pd\n",
    "df = pd.read_csv('employees.csv')\n",
    "print(df.head())\n",
    "Question: Display the number of unique job titles in the \"employees.csv\" dataset.\n",
    "\n",
    "import pandas as pd\n",
    "df = pd.read_csv('employees.csv')\n",
    "print(df['job_title'].nunique())\n",
    "Question: Display the average salary of employees in the \"employees.csv\" dataset grouped by department.\n",
    "\n",
    "import pandas as pd\n",
    "df = pd.read_csv('employees.csv')\n",
    "grouped_df = df.groupby(by='department')\n",
    "print(grouped_df['salary'].mean())\n",
    "Question: Create a new DataFrame that contains only the rows of the \"employees.csv\" dataset where the employee's salary is above the average salary.\n",
    "\n",
    "import pandas as pd\n",
    "df = pd.read_csv('employees.csv')\n",
    "average_salary = df['salary'].mean()\n",
    "above_average_df = df[df['salary'] > average_salary]\n",
    "print(above_average_df)\n",
    "Question: Load the \"sales.csv\" dataset into a DataFrame and display the total sales for each month.\n",
    "\n",
    "import pandas as pd\n",
    "df = pd.read_csv('sales.csv')\n",
    "grouped_df = df.groupby(by='month')\n",
    "print(grouped_df['sales'].sum())\n",
    "Question: Display the average sales for each product in the \"sales.csv\" dataset grouped by product category.\n",
    "\n",
    "import pandas as pd\n",
    "df = pd.read_csv('sales.csv')\n",
    "grouped_df = df.groupby(by=['product_category', 'product'])\n",
    "print(grouped_df['sales'].mean())"
   ]
  },
  {
   "cell_type": "code",
   "execution_count": null,
   "id": "36dc3ced",
   "metadata": {},
   "outputs": [],
   "source": [
    "Question: Load the \"students.csv\" dataset into a DataFrame and display the number of students that passed and failed each exam.\n",
    "    \n",
    "import pandas as pd\n",
    "df = pd.read_csv('students.csv')\n",
    "print(df.groupby(by=['exam', 'result'])['student_id'].count())\n",
    "Question: Display the average score of students in each class in the \"students.csv\" dataset.\n",
    "\n",
    "import pandas as pd\n",
    "df = pd.read_csv('students.csv')\n",
    "print(df.groupby(by='class')['score'].mean())\n",
    "Question: Create a new DataFrame that contains only the rows of the \"students.csv\" dataset where the student's score is above a certain threshold.\n",
    "\n",
    "import pandas as pd\n",
    "df = pd.read_csv('students.csv')\n",
    "above_threshold_df = df[df['score'] > 80]\n",
    "print(above_threshold_df)\n",
    "Question: Load the \"weather.csv\" dataset into a DataFrame and display the maximum temperature for each city.\n",
    "\n",
    "import pandas as pd\n",
    "df = pd.read_csv('weather.csv')\n",
    "print(df.groupby(by='city')['temperature'].max())\n",
    "Question: Display the average precipitation for each month in the \"weather.csv\" dataset.\n",
    "\n",
    "import pandas as pd\n",
    "df = pd.read_csv('weather.csv')\n",
    "print(df.groupby(by='month')['precipitation'].mean())\n",
    "Question: Create a new column \"Season\" in the \"weather.csv\" dataset based on the month.\n",
    "\n",
    "import pandas as pd\n",
    "df = pd.read_csv('weather.csv')\n",
    "def get_season(month):\n",
    "    if month in [12, 1, 2]:\n",
    "        return 'Winter'\n",
    "    elif month in [3, 4, 5]:\n",
    "        return 'Spring'\n",
    "    elif month in [6, 7, 8]:\n",
    "        return 'Summer'\n",
    "    else:\n",
    "        return 'Autumn'\n",
    "    \n",
    "df['Season'] = df['month'].apply(get_season)\n",
    "print(df.head())\n"
   ]
  },
  {
   "cell_type": "code",
   "execution_count": null,
   "id": "adcc3c24",
   "metadata": {},
   "outputs": [],
   "source": [
    "Question: Load the \"order.csv\" dataset into a DataFrame and display the total revenue for each month.\n",
    "\n",
    "import pandas as pd\n",
    "df = pd.read_csv('order.csv')\n",
    "grouped_df = df.groupby(by='month')\n",
    "print(grouped_df['revenue'].sum())\n",
    "Question: Display the number of orders for each product in the \"order.csv\" dataset.\n",
    "\n",
    "import pandas as pd\n",
    "df = pd.read_csv('order.csv')\n",
    "print(df['product'].value_counts())\n",
    "Question: Display the average revenue of orders in the \"order.csv\" dataset grouped by customer type.\n",
    "\n",
    "import pandas as pd\n",
    "df = pd.read_csv('order.csv')\n",
    "grouped_df = df.groupby(by='customer_type')\n",
    "print(grouped_df['revenue'].mean())\n",
    "Question: Create a new DataFrame that contains only the rows of the \"order.csv\" dataset where the order value is above a certain threshold.\n",
    "\n",
    "import pandas as pd\n",
    "df = pd.read_csv('order.csv')\n",
    "above_threshold_df = df[df['order_value'] > 1000]\n",
    "print(above_threshold_df)\n",
    "Question: Load the \"employee_data.csv\" dataset into a DataFrame and display the maximum salary of employees in each department.\n",
    "\n",
    "import pandas as pd\n",
    "df = pd.read_csv('employee_data.csv')\n",
    "print(df.groupby(by='department')['salary'].max())\n",
    "Question: Display the number of employees in each job title in the \"employee_data.csv\" dataset.\n",
    "\n",
    "import pandas as pd\n",
    "df = pd.read_csv('employee_data.csv')\n",
    "print(df['job_title'].value_counts())"
   ]
  },
  {
   "cell_type": "code",
   "execution_count": null,
   "id": "9d95bbcd",
   "metadata": {},
   "outputs": [],
   "source": [
    "\n",
    "Question: Load the \"flight_data.csv\" dataset into a DataFrame and display the first 5 rows.\n",
    "\n",
    "import pandas as pd\n",
    "df = pd.read_csv('flight_data.csv')\n",
    "print(df.head())\n",
    "Question: Display the number of flights that were delayed in the \"flight_data.csv\" dataset.\n",
    "\n",
    "import pandas as pd\n",
    "df = pd.read_csv('flight_data.csv')\n",
    "print(df[df['is_delayed'] == 'yes']['flight_id'].count())\n",
    "Question: Display the average delay time of flights in the \"flight_data.csv\" dataset grouped by airline.\n",
    "\n",
    "import pandas as pd\n",
    "df = pd.read_csv('flight_data.csv')\n",
    "grouped_df = df.groupby(by='airline')\n",
    "print(grouped_df['delay_time'].mean())\n",
    "Question: Create a new DataFrame that contains only the rows of the \"flight_data.csv\" dataset where the flight was delayed more than 2 hours.\n",
    "\n",
    "import pandas as pd\n",
    "df = pd.read_csv('flight_data.csv')\n",
    "delayed_df = df[df['delay_time'] > 120]\n",
    "print(delayed_df)"
   ]
  },
  {
   "cell_type": "code",
   "execution_count": null,
   "id": "abe2667f",
   "metadata": {},
   "outputs": [],
   "source": [
    "Question: Display the number of flights that were cancelled in the \"flight_data.csv\" dataset.\n",
    "\n",
    "import pandas as pd\n",
    "df = pd.read_csv('flight_data.csv')\n",
    "print(df[df['is_cancelled'] == 'yes']['flight_id'].count())\n",
    "Question: Display the number of flights that were operated by each airline in the \"flight_data.csv\" dataset.\n",
    "\n",
    "import pandas as pd\n",
    "df = pd.read_csv('flight_data.csv')\n",
    "print(df['airline'].value_counts())\n",
    "Question: Display the average distance of flights in the \"flight_data.csv\" dataset grouped by departure city.\n",
    "\n",
    "import pandas as pd\n",
    "df = pd.read_csv('flight_data.csv')\n",
    "grouped_df = df.groupby(by='departure_city')\n",
    "print(grouped_df['distance'].mean())\n",
    "Question: Create a new column \"Duration\" in the \"flight_data.csv\" dataset that calculates the duration of the flight in hours.\n",
    "\n",
    "import pandas as pd\n",
    "df = pd.read_csv('flight_data.csv')\n",
    "df['duration'] = df['flight_time']/60\n",
    "print(df.head())"
   ]
  },
  {
   "cell_type": "code",
   "execution_count": null,
   "id": "9cb1c3f9",
   "metadata": {},
   "outputs": [],
   "source": [
    "Question: Load the \"adult_income.csv\" dataset into a DataFrame and display the first 5 rows.\n",
    "\n",
    "import pandas as pd\n",
    "df = pd.read_csv('adult_income.csv')\n",
    "print(df.head())\n",
    "Question: Display the number of individuals in the \"adult_income.csv\" dataset that have income above $50,000 per year.\n",
    "\n",
    "import pandas as pd\n",
    "df = pd.read_csv('adult_income.csv')\n",
    "print(df[df['income'] == '>50K']['income'].count())\n",
    "Question: Display the average age of individuals in the \"adult_income.csv\" dataset grouped by education level.\n",
    "\n",
    "import pandas as pd\n",
    "df = pd.read_csv('adult_income.csv')\n",
    "grouped_df = df.groupby(by='education')\n",
    "print(grouped_df['age'].mean())\n",
    "Question: Create a new DataFrame that contains only the rows of the \"adult_income.csv\" dataset where the individual's occupation is \"Exec-managerial\".\n",
    "\n",
    "import pandas as pd\n",
    "df = pd.read_csv('adult_income.csv')\n",
    "exec_managerial_df = df[df['occupation'] == 'Exec-managerial']\n",
    "print(exec_managerial_df)\n",
    "Question: Load the \"car_data.csv\" dataset into a DataFrame and display the number of cars of each make.\n",
    "\n",
    "import pandas as pd\n",
    "df = pd.read_csv('car_data.csv')\n",
    "print(df['make'].value_counts())\n",
    "Question: Display the average price of cars in the \"car_data.csv\" dataset grouped by body style.\n",
    "\n",
    "import pandas as pd\n",
    "df = pd.read_csv('car_data.csv')\n",
    "grouped_df = df.groupby(by='body_style')\n",
    "print(grouped_df['price'].mean())\n",
    "Question: Create a new DataFrame that contains only the rows of the \"car_data.csv\" dataset where the car's fuel type is \"Diesel\" and the price is above $20,000.\n",
    "\n",
    "import pandas as pd\n",
    "df = pd.read_csv('car_data.csv')\n",
    "diesel_above_20000_df = df[(df['fuel_type'] == 'Diesel') & (df['price'] > 20000)]\n",
    "print(diesel_above_20000_df)\n",
    "Question: Display the number of cars in the \"car_data.csv\" dataset grouped by drive wheels and transmission type.\n",
    "\n",
    "import pandas as pd\n",
    "df = pd.read_csv('car_data.csv')\n",
    "grouped_df = df.groupby(by=['drive_wheels', 'transmission'])\n",
    "print(grouped_df['car_id'].count())"
   ]
  },
  {
   "cell_type": "code",
   "execution_count": null,
   "id": "9a52a4ae",
   "metadata": {},
   "outputs": [],
   "source": [
    "Question: What is the average arrival delay for flights in the dataset?\n",
    "Solution:\n",
    "\n",
    "import pandas as pd\n",
    "df = pd.read_csv('flightdata.csv')\n",
    "average_arrival_delay = df['ArrDelay'].mean()\n",
    "print(average_arrival_delay)\n",
    "Question: What is the correlation between departure delay and arrival delay?\n",
    "Solution:\n",
    "\n",
    "corr = df[['DepDelay', 'ArrDelay']].corr()\n",
    "print(corr)\n",
    "Question: What is the percentage of flights that were delayed more than 15 minutes?\n",
    "Solution:\n",
    "\n",
    "delayed_flights = df[df['ArrDelay'] > 15]\n",
    "total_flights = len(df)\n",
    "percentage_delayed = len(delayed_flights) / total_flights * 100\n",
    "print(percentage_delayed)\n",
    "Question: What is the most common cause of flight cancellation?\n",
    "Solution:\n",
    "\n",
    "cancelled_flights = df[df['Cancelled'] == 1]\n",
    "cancellation_reasons = cancelled_flights['CancellationCode'].value_counts()\n",
    "most_common_reason = cancellation_reasons.idxmax()\n",
    "print(most_common_reason)\n",
    "Question: How many flights were operated by each airline in the dataset?\n",
    "Solution:\n",
    "\n",
    "airline_counts = df['UniqueCarrier'].value_counts()\n",
    "print(airline_counts)\n",
    "Question: What is the average distance flown by flights in the dataset?\n",
    "Solution:\n",
    "\n",
    "import pandas as pd\n",
    "df = pd.read_csv('flightdata.csv')\n",
    "average_distance = df['Distance'].mean()\n",
    "print(average_distance)\n",
    "Question: What is the busiest hour of the day for flights in the dataset?\n",
    "Solution:\n",
    "\n",
    "df['DepTime'] = df['DepTime'].apply(lambda x: str(x).zfill(4))\n",
    "df['DepHour'] = df['DepTime'].apply(lambda x: x[:2])\n",
    "busiest_hour = df['DepHour'].value_counts().idxmax()\n",
    "print(busiest_hour)\n",
    "Question: What is the average flight time for flights in the dataset?\n",
    "Solution:\n",
    "\n",
    "df['FlightTime'] = df['AirTime'] + df['TaxiIn'] + df['TaxiOut']\n",
    "average_flight_time = df['FlightTime'].mean()\n",
    "print(average_flight_time)\n",
    "Question: What is the average delay for flights departing from each airport in the dataset?\n",
    "Solution:\n",
    "\n",
    "average_delays = df.groupby('Origin')['DepDelay'].mean()\n",
    "print(average_delays)\n",
    "Question: What is the average delay for flights by day of the week in the dataset?\n",
    "Solution:\n",
    "\n",
    "df['DayOfWeek'] = pd.to_datetime(df['FlightDate']).dt.dayofweek\n",
    "average_delays = df.groupby('DayOfWeek')['DepDelay'].mean()\n",
    "print(average_delays)"
   ]
  },
  {
   "cell_type": "code",
   "execution_count": null,
   "id": "ffdd7b5a",
   "metadata": {},
   "outputs": [],
   "source": [
    "Question: What is the average nightly rate for hotels in the dataset?\n",
    "Solution:\n",
    "\n",
    "import pandas as pd\n",
    "df = pd.read_csv('hoteldata.csv')\n",
    "average_nightly_rate = df['nightly_rate'].mean()\n",
    "print(average_nightly_rate)\n",
    "Question: How many hotels have more than 100 rooms in the dataset?\n",
    "Solution:\n",
    "\n",
    "hotels_over_100_rooms = df[df['number_of_rooms'] > 100]\n",
    "num_hotels = len(hotels_over_100_rooms)\n",
    "print(num_hotels)\n",
    "Question: What is the most common hotel star rating in the dataset?\n",
    "Solution:\n",
    "\n",
    "star_ratings = df['star_rating'].value_counts()\n",
    "most_common_rating = star_ratings.idxmax()\n",
    "print(most_common_rating)\n",
    "Question: What is the average number of reviews for hotels in the dataset?\n",
    "Solution:\n",
    "\n",
    "average_reviews = df['number_of_reviews'].mean()\n",
    "print(average_reviews)\n",
    "Question: What is the average nightly rate for hotels in each city in the dataset?\n",
    "Solution:\n",
    "\n",
    "average_nightly_rate_by_city = df.groupby('city')['nightly_rate'].mean()\n",
    "print(average_nightly_rate_by_city)"
   ]
  },
  {
   "cell_type": "code",
   "execution_count": null,
   "id": "945be7ad",
   "metadata": {},
   "outputs": [],
   "source": [
    "Question: What is the total number of confirmed cases in the dataset?\n",
    "Solution:\n",
    "\n",
    "import pandas as pd\n",
    "df = pd.read_csv('covid_data.csv')\n",
    "total_cases = df['confirmed_cases'].sum()\n",
    "print(total_cases)\n",
    "Question: How many countries have reported more than 50,000 deaths?\n",
    "Solution:\n",
    "\n",
    "countries_over_50000_deaths = df[df['deaths'] > 50000]\n",
    "num_countries = len(countries_over_50000_deaths)\n",
    "print(num_countries)\n",
    "Question: What is the average daily increase in confirmed cases for each month in the dataset?\n",
    "Solution:\n",
    "\n",
    "df['month'] = pd.to_datetime(df['date']).dt.month\n",
    "average_daily_increase = df.groupby('month')['daily_confirmed_cases'].mean()\n",
    "print(average_daily_increase)\n",
    "Question: What is the highest number of confirmed cases reported on a single day in the dataset?\n",
    "Solution:\n",
    "\n",
    "highest_daily_cases = df['daily_confirmed_cases'].max()\n",
    "print(highest_daily_cases)\n",
    "Question: What is the highest number of confirmed cases reported in a single country?\n",
    "Solution:\n",
    "\n",
    "highest_cases_by_country = df.groupby('country')['confirmed_cases'].max()\n",
    "print(highest_cases_by_country)"
   ]
  },
  {
   "cell_type": "code",
   "execution_count": null,
   "id": "23c97e53",
   "metadata": {},
   "outputs": [],
   "source": [
    "Question: What is the average delay time for trains in the dataset?\n",
    "Solution:\n",
    "\n",
    "import pandas as pd\n",
    "df = pd.read_csv('traindata.csv')\n",
    "average_delay = df['delay_time'].mean()\n",
    "print(average_delay)\n",
    "Question: How many trains were delayed more than 30 minutes?\n",
    "Solution:\n",
    "\n",
    "delayed_trains = df[df['delay_time'] > 30]\n",
    "num_delayed_trains = len(delayed_trains)\n",
    "print(num_delayed_trains)\n",
    "Question: What is the most common reason for train delays in the dataset?\n",
    "Solution:\n",
    "\n",
    "delay_reasons = df['delay_reason'].value_counts()\n",
    "most_common_reason = delay_reasons.idxmax()\n",
    "print(most_common_reason)\n",
    "Question: What is the average number of passengers on trains in the dataset?\n",
    "Solution:\n",
    "\n",
    "average_passengers = df['num_passengers'].mean()\n",
    "print(average_passengers)\n",
    "Question: What is the average delay time for trains by route in the dataset?\n",
    "Solution:\n",
    "\n",
    "average_delay_by_route = df.groupby('route')['delay_time'].mean()\n",
    "print(average_delay_by_route)"
   ]
  },
  {
   "cell_type": "code",
   "execution_count": null,
   "id": "d975a903",
   "metadata": {},
   "outputs": [],
   "source": [
    "Question: What is the average runs scored by players in the dataset?\n",
    "Solution:\n",
    "\n",
    "import pandas as pd\n",
    "df = pd.read_csv('cricketdata.csv')\n",
    "average_runs = df['runs_scored'].mean()\n",
    "print(average_runs)\n",
    "Question: How many players have a batting average greater than 50?\n",
    "Solution:\n",
    "\n",
    "high_average_players = df[df['batting_average'] > 50]\n",
    "num_players = len(high_average_players)\n",
    "print(num_players)\n",
    "Question: What is the most common batting position among players in the dataset?\n",
    "Solution:\n",
    "\n",
    "batting_positions = df['batting_position'].value_counts()\n",
    "most_common_position = batting_positions.idxmax()\n",
    "print(most_common_position)\n",
    "Question: What is the average number of wickets taken by bowlers in the dataset?\n",
    "Solution:\n",
    "\n",
    "average_wickets = df['wickets_taken'].mean()\n",
    "print(average_wickets)\n",
    "Question: What is the average number of runs conceded by bowlers in each team in the dataset?\n",
    "Solution:\n",
    "\n",
    "average_runs_conceded_by_team = df.groupby('team')['runs_conceded'].mean()\n",
    "print(average_runs_conceded_by_team)\n",
    "Question: What is the total number of centuries scored by players in the dataset?\n",
    "Solution:\n",
    "\n",
    "import pandas as pd\n",
    "df = pd.read_csv('cricketdata.csv')\n",
    "centuries_scored = df[df['runs_scored'] >= 100].count()\n",
    "print(centuries_scored)\n",
    "Question: How many players have scored more than 1000 runs in the dataset?\n",
    "Solution:\n",
    "\n",
    "players_over_1000_runs = df[df['runs_scored'] > 1000]\n",
    "num_players = len(players_over_1000_runs)\n",
    "print(num_players)\n",
    "Question: What is the maximum number of wickets taken by bowlers in a match in the dataset?\n",
    "Solution:\n",
    "\n",
    "max_wickets_taken = df['wickets_taken'].max()\n",
    "print(max_wickets_taken)\n",
    "Question: What is the average number of runs scored by batsmen in each format of the game?\n",
    "Solution:\n",
    "\n",
    "average_runs_by_format = df.groupby('format')['runs_scored'].mean()\n",
    "print(average_runs_by_format)\n",
    "Question: What is the average strike rate for players in the dataset?\n",
    "Solution:\n",
    "\n",
    "average_strike_rate = df['strike_rate'].mean()\n",
    "print(average_strike_rate)"
   ]
  },
  {
   "cell_type": "code",
   "execution_count": null,
   "id": "f6beaca3",
   "metadata": {},
   "outputs": [],
   "source": [
    "Question: What is the average GDP per capita of countries in the dataset?\n",
    "Solution:\n",
    "\n",
    "import pandas as pd\n",
    "df = pd.read_csv('countrydata.csv')\n",
    "average_gdp = df['gdp_per_capita'].mean()\n",
    "print(average_gdp)\n",
    "Question: How many countries have a population greater than 100 million?\n",
    "Solution:\n",
    "\n",
    "countries_over_100m = df[df['population'] > 100000000]\n",
    "num_countries = len(countries_over_100m)\n",
    "print(num_countries)\n",
    "Question: What is the most common form of government among countries in the dataset?\n",
    "Solution:\n",
    "\n",
    "government_types = df['government_type'].value_counts()\n",
    "most_common_type = government_types.idxmax()\n",
    "print(most_common_type)\n",
    "Question: What is the average infant mortality rate for countries in the dataset?\n",
    "Solution:\n",
    "\n",
    "average_infant_mortality = df['infant_mortality_rate'].mean()\n",
    "print(average_infant_mortality)\n",
    "Question: What is the average life expectancy of countries in the dataset?\n",
    "Solution:\n",
    "\n",
    "average_life_expectancy = df['life_expectancy'].mean()\n",
    "print(average_life_expectancy)\n",
    "Question: How many countries have a literacy rate greater than 90%?\n",
    "Solution:\n",
    "\n",
    "countries_over_90_literacy = df[df['literacy_rate'] > 90]\n",
    "num_countries = len(countries_over_90_literacy)\n",
    "print(num_countries)\n",
    "Question: What is the average GDP per capita for countries in each region of the world?\n",
    "Solution:\n",
    "\n",
    "average_gdp_by_region = df.groupby('region')['gdp_per_capita'].mean()\n",
    "print(average_gdp_by_region)\n",
    "Question: What is the highest GDP per capita among countries in the dataset?\n",
    "Solution:\n",
    "\n",
    "highest_gdp = df['gdp_per_capita'].max()\n",
    "print(highest_gdp)\n",
    "Question: What is the average population density for countries in the dataset?\n",
    "Solution:\n",
    "\n",
    "average_population_density = df['population_density'].mean()\n",
    "print(average_population_density)"
   ]
  },
  {
   "cell_type": "code",
   "execution_count": null,
   "id": "55d7373a",
   "metadata": {},
   "outputs": [],
   "source": [
    "Question: What is the average number of searches per day in the dataset?\n",
    "Solution:\n",
    "\n",
    "import pandas as pd\n",
    "df = pd.read_csv('googlesearchdata.csv')\n",
    "average_searches = df['number_of_searches'].mean()\n",
    "print(average_searches)\n",
    "Question: How many days had more than 100,000 searches in the dataset?\n",
    "Solution:\n",
    "\n",
    "days_over_100k = df[df['number_of_searches'] > 100000]\n",
    "num_days = len(days_over_100k)\n",
    "print(num_days)\n",
    "Question: What is the most searched for keyword in the dataset?\n",
    "Solution:\n",
    "\n",
    "keyword_counts = df['keyword'].value_counts()\n",
    "most_searched_keyword = keyword_counts.idxmax()\n",
    "print(most_searched_keyword)\n",
    "Question: What is the average number of searches per day for each device type in the dataset?\n",
    "Solution:\n",
    "\n",
    "average_searches_per_device = df.groupby('device_type')['number_of_searches'].mean()\n",
    "print(average_searches_per_device)\n",
    "Question: What is the total number of searches in the dataset?\n",
    "Solution:\n",
    "\n",
    "total_searches = df['number_of_searches'].sum()\n",
    "print(total_searches)\n",
    "Question: How many unique keywords were searched in the dataset?\n",
    "Solution:\n",
    "\n",
    "unique_keywords = df['keyword'].nunique()\n",
    "print(unique_keywords)\n",
    "Question: What is the most searched keyword per day in the dataset?\n",
    "Solution:\n",
    "\n",
    "most_searched_keyword_per_day = df.groupby(['date'])['keyword'].agg(lambda x:x.value_counts().idxmax())\n",
    "print(most_searched_keyword_per_day)\n",
    "Question: What is the average number of searches per day for each country in the dataset?\n",
    "Solution:\n",
    "\n",
    "average_searches_per_country = df.groupby('country')['number_of_searches'].mean()\n",
    "print(average_searches_per_country)"
   ]
  },
  {
   "cell_type": "code",
   "execution_count": null,
   "id": "c83bb1ac",
   "metadata": {},
   "outputs": [],
   "source": [
    "Question: What is the average price of candies in the dataset?\n",
    "Solution:\n",
    "\n",
    "import pandas as pd\n",
    "df = pd.read_csv('candiesdata.csv')\n",
    "average_price = df['price'].mean()\n",
    "print(average_price)\n",
    "Question: How many candies have more than 50% sugar content?\n",
    "Solution:\n",
    "\n",
    "high_sugar_candies = df[df['sugar_content'] > 50]\n",
    "num_candies = len(high_sugar_candies)\n",
    "print(num_candies)\n",
    "Question: What is the most common type of candy in the dataset?\n",
    "Solution:\n",
    "\n",
    "candy_types = df['type'].value_counts()\n",
    "most_common_type = candy_types.idxmax()\n",
    "print(most_common_type)\n",
    "Question: What is the average weight of candies in the dataset?\n",
    "Solution:\n",
    "\n",
    "average_weight = df['weight'].mean()\n",
    "print(average_weight)\n",
    "Question: What is the average price of candies by type in the dataset?\n",
    "Solution:\n",
    "\n",
    "average_price_by_type = df.groupby('type')['price'].mean()\n",
    "print(average_price_by_type)"
   ]
  },
  {
   "cell_type": "code",
   "execution_count": null,
   "id": "d6bbeee1",
   "metadata": {},
   "outputs": [],
   "source": [
    "import pandas as pd\n",
    "import matplotlib.pyplot as plt\n",
    "\n",
    "# Read in the datasets\n",
    "athletes = pd.read_csv('athletes.csv')\n",
    "regions = pd.read_csv('regions.csv')\n",
    "\n",
    "# Merge the datasets on the 'region' column\n",
    "merged_df = pd.merge(athletes, regions, on='region')\n",
    "\n",
    "# Distribution of age of gold medallists\n",
    "gold_medalists = merged_df[merged_df['medal'] == 'gold']\n",
    "plt.hist(gold_medalists['age'])\n",
    "plt.xlabel('Age')\n",
    "plt.ylabel('Number of Athletes')\n",
    "plt.title('Distribution of Age of Gold Medallists')\n",
    "plt.show()\n",
    "\n",
    "# Number of athletes who are gold medallists and whose age is greater than 50\n",
    "gold_medalists_over_50 = gold_medalists[gold_medalists['age'] > 50]\n",
    "print(f'Number of Athletes over 50 with gold medals: {len(gold_medalists_over_50)}')\n",
    "print(gold_medalists_over_50)\n",
    "\n",
    "# Women who can play in summer\n",
    "women_summer_athletes = merged_df[(merged_df['gender'] == 'female') & (merged_df['season'] == 'summer')]\n",
    "print(f'Number of women athletes who can play in the summer: {len(women_summer_athletes)}')\n",
    "print(women_summer_athletes)\n",
    "\n",
    "# Top 5 countries who won the most medals\n",
    "medal_counts = merged_df['country'].value_counts()\n",
    "top_5_countries = medal_counts.head(5)\n",
    "\n",
    "# Plot the top 5 countries\n",
    "top_5_countries.plot(kind='bar')\n",
    "plt.xlabel('Country')\n",
    "plt.ylabel('Number of Medals')\n",
    "plt.title('Top 5 Countries with the Most Medals')\n",
    "plt.show()"
   ]
  },
  {
   "cell_type": "code",
   "execution_count": null,
   "id": "8acccf57",
   "metadata": {},
   "outputs": [],
   "source": [
    "Question: What is the average price of the medicines in the dataset?\n",
    "Solution:\n",
    "\n",
    "import pandas as pd\n",
    "df = pd.read_csv('pharmacydata.csv')\n",
    "average_price = df['price'].mean()\n",
    "print(average_price)\n",
    "\n",
    "Question: How many medicines are prescribed for diabetes?\n",
    "Solution:\n",
    "\n",
    "diabetes_medicines = df[df['disease'] == 'diabetes']\n",
    "num_medicines = len(diabetes_medicines)\n",
    "print(num_medicines)\n",
    "\n",
    "Question: What is the most prescribed medicine in the dataset?\n",
    "Solution:\n",
    "\n",
    "medicine_prescription = df['medicine_name'].value_counts()\n",
    "most_prescribed_medicine = medicine_prescription.idxmax()\n",
    "print(most_prescribed_medicine)\n",
    "\n",
    "Question: What is the average price of the medicines prescribed by each doctor in the dataset?\n",
    "Solution:\n",
    "\n",
    "average_price_by_doctor = df.groupby('prescribing_doctor')['price'].mean()\n",
    "print(average_price_by_doctor)\n",
    "\n",
    "Question: What is the average price of the medicines prescribed for each disease in the dataset?\n",
    "Solution:\n",
    "\n",
    "average_price_by_disease = df.groupby('disease')['price'].mean()\n",
    "print(average_price_by_disease)\n",
    "\n",
    "Question: What is the total cost of all medicines in the dataset?\n",
    "Solution:\n",
    "\n",
    "total_cost = df['price'].sum()\n",
    "print(total_cost)\n",
    "\n",
    "Question: How many unique medicines are in the dataset?\n",
    "Solution:\n",
    "\n",
    "unique_medicines = df['medicine_name'].nunique()\n",
    "print(unique_medicines)\n",
    "\n",
    "Question: What is the most prescribed medicine per disease in the dataset?\n",
    "Solution:\n",
    "\n",
    "most_prescribed_medicine_per_disease = df.groupby(['disease'])['medicine_name'].agg(lambda x:x.value_counts().idxmax())\n",
    "print(most_prescribed_medicine_per_disease)\n",
    "\n",
    "Question: What is the most prescribed medicine per doctor in the dataset?\n",
    "Solution:\n",
    "\n",
    "most_prescribed_medicine_per_doctor = df.groupby(['prescribing_doctor'])['medicine_name'].agg(lambda x:x.value_counts().idxmax())\n",
    "print(most_prescribed_medicine_per_doctor)\n",
    "\n",
    "Question: What is the average price of medicines per manufacturer in the dataset?\n",
    "\n",
    "Solution:\n",
    "\n",
    "average_price_per_manufacturer = df.groupby('manufacturer')['price'].mean()\n",
    "print(average_price_per_manufacturer)"
   ]
  },
  {
   "cell_type": "code",
   "execution_count": 360,
   "id": "660fe8aa",
   "metadata": {},
   "outputs": [
    {
     "name": "stdout",
     "output_type": "stream",
     "text": [
      "A \n",
      "B C \n",
      "D E F \n",
      "G H I J \n",
      "K L M N O \n",
      "P Q R S T U \n"
     ]
    }
   ],
   "source": [
    "n = 6\n",
    "char = ord('A')\n",
    "for i in range(1, n + 1):\n",
    "    for j in range(i):\n",
    "        print(chr(char), end = \" \")\n",
    "        char += 1\n",
    "    print()"
   ]
  },
  {
   "cell_type": "raw",
   "id": "af927ef8",
   "metadata": {},
   "source": [
    "char = 65 so chr(char) will return 'A'"
   ]
  },
  {
   "cell_type": "code",
   "execution_count": 362,
   "id": "90b1ca13",
   "metadata": {},
   "outputs": [
    {
     "name": "stdout",
     "output_type": "stream",
     "text": [
      "(2, 2, 2, 3)\n"
     ]
    }
   ],
   "source": [
    "tuple1 = (10, 4, 6, 9)\n",
    "tuple2 = (5, 2, 3, 3)\n",
    "result = []\n",
    "\n",
    "for a,b in zip(tuple1,tuple2):\n",
    "    result.append(a//b)\n",
    "\n",
    "result = tuple(result)\n",
    "print(result)"
   ]
  },
  {
   "cell_type": "code",
   "execution_count": 364,
   "id": "9306b8c8",
   "metadata": {},
   "outputs": [
    {
     "name": "stdout",
     "output_type": "stream",
     "text": [
      "Enter a string: hello world\n",
      "8\n"
     ]
    }
   ],
   "source": [
    "glstring = 'great'\n",
    "\n",
    "def count_not_in_glstring(string, glstring):\n",
    "    if string == \"\":\n",
    "        return 0\n",
    "    else:\n",
    "        if string[0] != \" \" and string[0] not in glstring:\n",
    "            return 1 + count_not_in_glstring(string[1:], glstring)\n",
    "        else:\n",
    "            return count_not_in_glstring(string[1:], glstring)\n",
    "\n",
    "user_string = input(\"Enter a string: \")\n",
    "result = count_not_in_glstring(user_string, glstring)\n",
    "print(result)"
   ]
  },
  {
   "cell_type": "code",
   "execution_count": null,
   "id": "cc9ec5b9",
   "metadata": {},
   "outputs": [],
   "source": [
    "How many rows and columns are in the dataset?\n",
    "\n",
    "import pandas as pd\n",
    "df = pd.read_csv(\"pakistan_suicide_attacks.csv\")\n",
    "print(df.shape)\n",
    "Output: (852, 6)\n",
    "\n",
    "What are the names of the columns in the dataset?\n",
    "\n",
    "import pandas as pd\n",
    "df = pd.read_csv(\"pakistan_suicide_attacks.csv\")\n",
    "print(df.columns)\n",
    "\n",
    "What is the minimum value of the 'Killed' column?\n",
    "\n",
    "import pandas as pd\n",
    "df = pd.read_csv(\"pakistan_suicide_attacks.csv\")\n",
    "print(df['Killed'].min())\n",
    "\n",
    "\n",
    "What is the average number of people killed per attack?\n",
    "\n",
    "import pandas as pd\n",
    "df = pd.read_csv(\"pakistan_suicide_attacks.csv\")\n",
    "print(df['Killed'].mean())\n",
    "\n",
    "\n",
    "How many attacks took place in the city of Quetta?\n",
    "\n",
    "import pandas as pd\n",
    "df = pd.read_csv(\"pakistan_suicide_attacks.csv\")\n",
    "print(df[df['City'] == 'Quetta'].shape[0])\n",
    "\n",
    "\n",
    "\n",
    "\n",
    "6. What is the maximum number of people killed in a single attack?\n",
    "import pandas as pd\n",
    "df = pd.read_csv(\"pakistan_suicide_attacks.csv\")\n",
    "print(df['Killed'].max())\n",
    "\n",
    "\n",
    "\n",
    "\n",
    "7. How many attacks took place in the province of Balochistan?\n",
    "import pandas as pd\n",
    "df = pd.read_csv(\"pakistan_suicide_attacks.csv\")\n",
    "print(df[df['Province'] == 'Balochistan'].shape[0])\n",
    "\n",
    "\n",
    "\n",
    "\n",
    "8. What is the total number of people killed in all the attacks?\n",
    "import pandas as pd\n",
    "df = pd.read_csv(\"pakistan_suicide_attacks.csv\")\n",
    "print(df['Killed'].sum())\n",
    "\n",
    "\n",
    "How many rows and columns are in the dataset?\n",
    "\n",
    "import pandas as pd\n",
    "df = pd.read_csv(\"clothing_sales.csv\")\n",
    "print(df.shape)\n",
    "\n",
    "\n",
    "What are the names of the columns in the dataset?\n",
    "\n",
    "import pandas as pd\n",
    "df = pd.read_csv(\"clothing_sales.csv\")\n",
    "print(df.columns)\n",
    "\n",
    "What is the minimum value of the 'Price' column?\n",
    "\n",
    "import pandas as pd\n",
    "df = pd.read_csv(\"clothing_sales.csv\")\n",
    "print(df['Price'].min())\n",
    "\n",
    "\n",
    "What is the average Quantity Sold of all the clothes?\n",
    "\n",
    "import pandas as pd\n",
    "df = pd.read_csv(\"clothing_sales.csv\")\n",
    "print(df['Quantity Sold'].mean())\n",
    "\n",
    "\n",
    "How many clothes of color 'Black' are there?\n",
    "\n",
    "import pandas as pd\n",
    "df = pd.read_csv(\"clothing_sales.csv\")\n",
    "print(df[df['Color'] == 'Black'].shape[0])\n",
    "\n",
    "\n",
    "\n",
    "\n",
    "6. What is the maximum price of all clothes?\n",
    "import pandas as pd\n",
    "df = pd.read_csv(\"clothing_sales.csv\")\n",
    "print(df['Price'].max())\n",
    "\n",
    "\n",
    "\n",
    "7. How many clothes of size 'L' are there?\n",
    "import pandas as pd\n",
    "df = pd.read_csv(\"clothing_sales.csv\")\n",
    "print(df[df['Size'] == 'L'].shape[0])\n",
    "\n",
    "\n",
    "\n",
    "8. What is the total revenue generated by the sales of all the clothes?\n",
    "import pandas as pd\n",
    "df = pd.read_csv(\"clothing_sales.csv\")\n",
    "df[\"Revenue\"] = df[\"Price\"]*df[\"Quantity Sold\"]\n",
    "print(df[\"Revenue\"].sum())\n"
   ]
  }
 ],
 "metadata": {
  "kernelspec": {
   "display_name": "Python 3 (ipykernel)",
   "language": "python",
   "name": "python3"
  },
  "language_info": {
   "codemirror_mode": {
    "name": "ipython",
    "version": 3
   },
   "file_extension": ".py",
   "mimetype": "text/x-python",
   "name": "python",
   "nbconvert_exporter": "python",
   "pygments_lexer": "ipython3",
   "version": "3.9.12"
  }
 },
 "nbformat": 4,
 "nbformat_minor": 5
}
